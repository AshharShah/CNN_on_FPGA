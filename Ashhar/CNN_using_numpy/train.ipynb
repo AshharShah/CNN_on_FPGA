{
 "cells": [
  {
   "cell_type": "markdown",
   "metadata": {},
   "source": [
    "# CNN From Scratch In Python! \n",
    "This notebook is used for training of the model."
   ]
  },
  {
   "cell_type": "markdown",
   "metadata": {},
   "source": [
    "### Importing the required libararies"
   ]
  },
  {
   "cell_type": "code",
   "execution_count": 1,
   "metadata": {},
   "outputs": [],
   "source": [
    "from dataset import mnist\n",
    "from conv import ConvolutionLayer\n",
    "from maxpool import MaxPoolingLayer\n",
    "from activations import Softmax\n",
    "from training import CNN_train, CNN_test, CNN_predict\n",
    "\n",
    "import numpy as np\n",
    "import matplotlib.pyplot as plt"
   ]
  },
  {
   "cell_type": "markdown",
   "metadata": {},
   "source": [
    "### Retrieveing the dataset"
   ]
  },
  {
   "cell_type": "code",
   "execution_count": 2,
   "metadata": {},
   "outputs": [],
   "source": [
    "(X_train, Y_train), (X_test, Y_test) = mnist.getData()"
   ]
  },
  {
   "cell_type": "markdown",
   "metadata": {},
   "source": [
    "### Defining the layers of our CNN architecture"
   ]
  },
  {
   "cell_type": "code",
   "execution_count": 3,
   "metadata": {},
   "outputs": [],
   "source": [
    "layers = [\n",
    "    ConvolutionLayer(1, 3),\n",
    "    MaxPoolingLayer(2),\n",
    "    Softmax(13*13*1, 10)\n",
    "]"
   ]
  },
  {
   "cell_type": "markdown",
   "metadata": {},
   "source": [
    "### Training the CNN model\n",
    "Now that we have defined the layers in our model, we will now train the models on the test data we got from the test train split function."
   ]
  },
  {
   "cell_type": "code",
   "execution_count": 4,
   "metadata": {},
   "outputs": [
    {
     "name": "stdout",
     "output_type": "stream",
     "text": [
      "Epoch 1 ->\n",
      "Step 1. For the last 1000 steps: average loss 0.0, accuracy 0\n",
      "Step 1001. For the last 1000 steps: average loss 23.146727054002234, accuracy 102\n",
      "Step 2001. For the last 1000 steps: average loss 23.167831809034066, accuracy 101\n",
      "Step 3001. For the last 1000 steps: average loss 23.153170402735142, accuracy 101\n",
      "Step 4001. For the last 1000 steps: average loss 23.17185051997663, accuracy 85\n",
      "Step 5001. For the last 1000 steps: average loss 23.146806974462482, accuracy 104\n",
      "Step 6001. For the last 1000 steps: average loss 23.12797803677623, accuracy 95\n",
      "Step 7001. For the last 1000 steps: average loss 23.171098676221096, accuracy 85\n",
      "Step 8001. For the last 1000 steps: average loss 23.107260807802035, accuracy 100\n",
      "Step 9001. For the last 1000 steps: average loss 22.996907853822485, accuracy 120\n",
      "Epoch 2 ->\n",
      "Step 1. For the last 1000 steps: average loss 0.0, accuracy 0\n",
      "Step 1001. For the last 1000 steps: average loss 22.839638964715128, accuracy 156\n",
      "Step 2001. For the last 1000 steps: average loss 22.577819880611628, accuracy 179\n",
      "Step 3001. For the last 1000 steps: average loss 21.986693096351164, accuracy 325\n",
      "Step 4001. For the last 1000 steps: average loss 21.17156936247032, accuracy 461\n",
      "Step 5001. For the last 1000 steps: average loss 19.568860889242536, accuracy 574\n",
      "Step 6001. For the last 1000 steps: average loss 17.456948288662865, accuracy 648\n",
      "Step 7001. For the last 1000 steps: average loss 14.818368433312235, accuracy 742\n",
      "Step 8001. For the last 1000 steps: average loss 13.378245160533, accuracy 737\n",
      "Step 9001. For the last 1000 steps: average loss 11.028623559221915, accuracy 754\n",
      "Epoch 3 ->\n",
      "Step 1. For the last 1000 steps: average loss 0.0, accuracy 0\n",
      "Step 1001. For the last 1000 steps: average loss 8.336598774303845, accuracy 806\n",
      "Step 2001. For the last 1000 steps: average loss 7.405765049669476, accuracy 820\n",
      "Step 3001. For the last 1000 steps: average loss 6.224552488233413, accuracy 845\n",
      "Step 4001. For the last 1000 steps: average loss 6.02343217172268, accuracy 873\n",
      "Step 5001. For the last 1000 steps: average loss 5.658625415179326, accuracy 866\n",
      "Step 6001. For the last 1000 steps: average loss 5.353378449381917, accuracy 860\n",
      "Step 7001. For the last 1000 steps: average loss 4.694732462724133, accuracy 878\n",
      "Step 8001. For the last 1000 steps: average loss 5.708433132540937, accuracy 848\n",
      "Step 9001. For the last 1000 steps: average loss 5.585858256426268, accuracy 850\n",
      "Epoch 4 ->\n",
      "Step 1. For the last 1000 steps: average loss 0.0, accuracy 0\n",
      "Step 1001. For the last 1000 steps: average loss 4.909699704480753, accuracy 869\n",
      "Step 2001. For the last 1000 steps: average loss 4.570066761546726, accuracy 868\n",
      "Step 3001. For the last 1000 steps: average loss 3.9406674877400603, accuracy 886\n",
      "Step 4001. For the last 1000 steps: average loss 3.9476120756006448, accuracy 905\n",
      "Step 5001. For the last 1000 steps: average loss 4.1221349696144145, accuracy 887\n",
      "Step 6001. For the last 1000 steps: average loss 4.022679387549978, accuracy 886\n",
      "Step 7001. For the last 1000 steps: average loss 3.547061863295935, accuracy 894\n",
      "Step 8001. For the last 1000 steps: average loss 4.5566685257004815, accuracy 879\n",
      "Step 9001. For the last 1000 steps: average loss 4.76423448611665, accuracy 866\n",
      "Epoch 5 ->\n",
      "Step 1. For the last 1000 steps: average loss 0.0, accuracy 0\n",
      "Step 1001. For the last 1000 steps: average loss 4.226072731227584, accuracy 880\n",
      "Step 2001. For the last 1000 steps: average loss 3.936606450527374, accuracy 886\n",
      "Step 3001. For the last 1000 steps: average loss 3.351152928739403, accuracy 904\n",
      "Step 4001. For the last 1000 steps: average loss 3.3440765713349565, accuracy 916\n",
      "Step 5001. For the last 1000 steps: average loss 3.6581368632420475, accuracy 891\n",
      "Step 6001. For the last 1000 steps: average loss 3.5647981907333195, accuracy 899\n",
      "Step 7001. For the last 1000 steps: average loss 3.143239875644188, accuracy 899\n",
      "Step 8001. For the last 1000 steps: average loss 4.109147560440103, accuracy 884\n",
      "Step 9001. For the last 1000 steps: average loss 4.431664636165743, accuracy 879\n",
      "Epoch 6 ->\n",
      "Step 1. For the last 1000 steps: average loss 0.0, accuracy 0\n",
      "Step 1001. For the last 1000 steps: average loss 3.9248500674652966, accuracy 886\n",
      "Step 2001. For the last 1000 steps: average loss 3.660152810392501, accuracy 895\n",
      "Step 3001. For the last 1000 steps: average loss 3.0696144716033733, accuracy 912\n",
      "Step 4001. For the last 1000 steps: average loss 3.0498166199259695, accuracy 922\n",
      "Step 5001. For the last 1000 steps: average loss 3.4181835827804368, accuracy 899\n",
      "Step 6001. For the last 1000 steps: average loss 3.3171931637158583, accuracy 909\n",
      "Step 7001. For the last 1000 steps: average loss 2.933156029128061, accuracy 905\n",
      "Step 8001. For the last 1000 steps: average loss 3.861449229227659, accuracy 886\n",
      "Step 9001. For the last 1000 steps: average loss 4.238818801655779, accuracy 883\n",
      "Epoch 7 ->\n",
      "Step 1. For the last 1000 steps: average loss 0.0, accuracy 0\n",
      "Step 1001. For the last 1000 steps: average loss 3.747102923925541, accuracy 893\n",
      "Step 2001. For the last 1000 steps: average loss 3.500965671119699, accuracy 898\n",
      "Step 3001. For the last 1000 steps: average loss 2.8964383910204305, accuracy 913\n",
      "Step 4001. For the last 1000 steps: average loss 2.8702400499820304, accuracy 924\n",
      "Step 5001. For the last 1000 steps: average loss 3.262120261789479, accuracy 903\n",
      "Step 6001. For the last 1000 steps: average loss 3.155888976476171, accuracy 914\n",
      "Step 7001. For the last 1000 steps: average loss 2.8030962925909875, accuracy 910\n",
      "Step 8001. For the last 1000 steps: average loss 3.69812559086779, accuracy 887\n",
      "Step 9001. For the last 1000 steps: average loss 4.105393473267291, accuracy 884\n",
      "Epoch 8 ->\n",
      "Step 1. For the last 1000 steps: average loss 0.0, accuracy 0\n",
      "Step 1001. For the last 1000 steps: average loss 3.625271006198184, accuracy 900\n",
      "Step 2001. For the last 1000 steps: average loss 3.3946647537897183, accuracy 901\n",
      "Step 3001. For the last 1000 steps: average loss 2.7752651023309287, accuracy 917\n",
      "Step 4001. For the last 1000 steps: average loss 2.7459141163210883, accuracy 926\n",
      "Step 5001. For the last 1000 steps: average loss 3.1485043103544377, accuracy 909\n",
      "Step 6001. For the last 1000 steps: average loss 3.0402596152911823, accuracy 917\n",
      "Step 7001. For the last 1000 steps: average loss 2.7138494109089, accuracy 915\n",
      "Step 8001. For the last 1000 steps: average loss 3.578843124959908, accuracy 891\n",
      "Step 9001. For the last 1000 steps: average loss 4.003468228497237, accuracy 888\n",
      "Epoch 9 ->\n",
      "Step 1. For the last 1000 steps: average loss 0.0, accuracy 0\n",
      "Step 1001. For the last 1000 steps: average loss 3.533827923396146, accuracy 901\n",
      "Step 2001. For the last 1000 steps: average loss 3.3166907968980275, accuracy 902\n",
      "Step 3001. For the last 1000 steps: average loss 2.683806605763988, accuracy 920\n",
      "Step 4001. For the last 1000 steps: average loss 2.652655598870348, accuracy 928\n",
      "Step 5001. For the last 1000 steps: average loss 3.0603696578854964, accuracy 912\n",
      "Step 6001. For the last 1000 steps: average loss 2.952529596157378, accuracy 922\n",
      "Step 7001. For the last 1000 steps: average loss 2.6480777457119045, accuracy 918\n",
      "Step 8001. For the last 1000 steps: average loss 3.4859821855018187, accuracy 891\n",
      "Step 9001. For the last 1000 steps: average loss 3.920785129839977, accuracy 892\n",
      "Epoch 10 ->\n",
      "Step 1. For the last 1000 steps: average loss 0.0, accuracy 0\n",
      "Step 1001. For the last 1000 steps: average loss 3.4609614214805635, accuracy 903\n",
      "Step 2001. For the last 1000 steps: average loss 3.25570421909013, accuracy 905\n",
      "Step 3001. For the last 1000 steps: average loss 2.6113171466757574, accuracy 923\n",
      "Step 4001. For the last 1000 steps: average loss 2.5788495368164894, accuracy 930\n",
      "Step 5001. For the last 1000 steps: average loss 2.9891801380372613, accuracy 916\n",
      "Step 6001. For the last 1000 steps: average loss 2.8833453472337935, accuracy 923\n",
      "Step 7001. For the last 1000 steps: average loss 2.5969117302956004, accuracy 921\n",
      "Step 8001. For the last 1000 steps: average loss 3.4106239099584075, accuracy 894\n",
      "Step 9001. For the last 1000 steps: average loss 3.851037336042, accuracy 896\n"
     ]
    }
   ],
   "source": [
    "for epoch in range(10):\n",
    "    print('Epoch {} ->'.format(epoch+1))\n",
    "    # Training the CNN\n",
    "    loss = 0\n",
    "    accuracy = 0\n",
    "    for i, (image, label) in enumerate(zip(X_train[0:10000], Y_train[0:10000])):\n",
    "      if i % 1000 == 0: # Every 1000 examples\n",
    "        print(\"Step {}. For the last 1000 steps: average loss {}, accuracy {}\".format(i+1, loss/100, accuracy))\n",
    "        loss = 0\n",
    "        accuracy = 0\n",
    "      loss_1, accuracy_1 = CNN_train(image, label, layers)\n",
    "      loss += loss_1\n",
    "      accuracy += accuracy_1\n",
    "      # break the for loop if the models loss is less than 0.5\n",
    "      if(loss == 0.05):\n",
    "        print(\"Step {}. For the last 1000 steps: average loss {}, accuracy {}\".format(i+1, loss/100, accuracy))\n",
    "        break"
   ]
  },
  {
   "cell_type": "markdown",
   "metadata": {},
   "source": [
    "### Testing our model\n",
    "Here we will test how our CNN model performs against the test data from the test train split."
   ]
  },
  {
   "cell_type": "code",
   "execution_count": 5,
   "metadata": {},
   "outputs": [
    {
     "name": "stdout",
     "output_type": "stream",
     "text": [
      "Step 1. For the last 1000 steps: average loss 0.0, accuracy 0\n",
      "Step 1001. For the last 1000 steps: average loss 3.6151135831927435, accuracy 887\n",
      "Step 2001. For the last 1000 steps: average loss 4.50354909748911, accuracy 863\n",
      "Step 3001. For the last 1000 steps: average loss 4.336396146384858, accuracy 876\n",
      "Step 4001. For the last 1000 steps: average loss 4.145799733869785, accuracy 882\n",
      "Step 5001. For the last 1000 steps: average loss 3.951127503596536, accuracy 894\n",
      "Step 6001. For the last 1000 steps: average loss 2.2303354536766933, accuracy 933\n",
      "Step 7001. For the last 1000 steps: average loss 3.08811191838809, accuracy 910\n",
      "Step 8001. For the last 1000 steps: average loss 2.3585601279678117, accuracy 932\n",
      "Step 9001. For the last 1000 steps: average loss 1.271532498637427, accuracy 967\n"
     ]
    }
   ],
   "source": [
    "loss = 0\n",
    "accuracy = 0\n",
    "for i, (image, label) in enumerate(zip(X_test[0:10000], Y_test[0:10000])):\n",
    "  if i % 1000 == 0: # Every 1000 examples\n",
    "    print(\"Step {}. For the last 1000 steps: average loss {}, accuracy {}\".format(i+1, loss/100, accuracy))\n",
    "    loss = 0\n",
    "    accuracy = 0\n",
    "  loss_1, accuracy_1 = CNN_test(image, label, layers)\n",
    "  loss += loss_1\n",
    "  accuracy += accuracy_1"
   ]
  },
  {
   "cell_type": "markdown",
   "metadata": {},
   "source": [
    "### Visualizing the predicitons"
   ]
  },
  {
   "cell_type": "code",
   "execution_count": 12,
   "metadata": {},
   "outputs": [
    {
     "data": {
      "text/plain": [
       "<matplotlib.image.AxesImage at 0x216f57b7250>"
      ]
     },
     "execution_count": 12,
     "metadata": {},
     "output_type": "execute_result"
    },
    {
     "data": {
      "image/png": "[encoded data removed]",
      "text/plain": [
       "<Figure size 432x288 with 1 Axes>"
      ]
     },
     "metadata": {
      "needs_background": "light"
     },
     "output_type": "display_data"
    }
   ],
   "source": [
    "test_img = X_test[600]\n",
    "plt.imshow(test_img)"
   ]
  },
  {
   "cell_type": "code",
   "execution_count": 13,
   "metadata": {},
   "outputs": [
    {
     "name": "stdout",
     "output_type": "stream",
     "text": [
      "The models prediction: 6\n"
     ]
    }
   ],
   "source": [
    "cnn_prediction = CNN_predict(test_img, layers)\n",
    "print(\"The models prediction: \" + str(cnn_prediction))"
   ]
  }
 ],
 "metadata": {
  "kernelspec": {
   "display_name": "Python 3",
   "language": "python",
   "name": "python3"
  },
  "language_info": {
   "codemirror_mode": {
    "name": "ipython",
    "version": 3
   },
   "file_extension": ".py",
   "mimetype": "text/x-python",
   "name": "python",
   "nbconvert_exporter": "python",
   "pygments_lexer": "ipython3",
   "version": "3.10.6"
  },
  "orig_nbformat": 4
 },
 "nbformat": 4,
 "nbformat_minor": 2
}
