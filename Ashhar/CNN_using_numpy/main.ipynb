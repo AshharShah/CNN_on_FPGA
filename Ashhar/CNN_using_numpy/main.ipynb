{
 "cells": [
  {
   "cell_type": "markdown",
   "metadata": {},
   "source": [
    "# CNN From Scratch In Python! \n",
    "A Python notebook that shows how to implement CNN from scratch in python.\n",
    "\n",
    "A CNN can be divided into two parts:\n",
    "- The CNN Part (Convolution, Sigmoid, Maxpool)\n",
    "- The ANN Part (Flatten, Dense) \n",
    "\n",
    "Since our project deals with CNN models, we are only going to implement the CNN part."
   ]
  },
  {
   "cell_type": "markdown",
   "metadata": {},
   "source": [
    "## CNN PART "
   ]
  },
  {
   "cell_type": "markdown",
   "metadata": {},
   "source": [
    "### Importing the required libraries"
   ]
  },
  {
   "cell_type": "code",
   "execution_count": 1,
   "metadata": {},
   "outputs": [],
   "source": [
    "from dataset import mnist\n",
    "from conv import ConvolutionLayer\n",
    "from maxpool import MaxPoolingLayer\n",
    "from flatten import FlattenLayer\n",
    "from activations import Sigmoid\n",
    "from activations import Softmax\n",
    "\n",
    "import matplotlib.pyplot as plt\n",
    "import numpy as np"
   ]
  },
  {
   "cell_type": "markdown",
   "metadata": {},
   "source": [
    "### Getting the dataset"
   ]
  },
  {
   "cell_type": "code",
   "execution_count": 2,
   "metadata": {},
   "outputs": [
    {
     "name": "stdout",
     "output_type": "stream",
     "text": [
      "X Train Shape: (60000, 28, 28)\n",
      "Y Train Shape: (60000,)\n",
      "X Test Shape: (10000, 28, 28)\n",
      "Y Test Shape: (10000,)\n",
      "Image Shape: 28 28\n"
     ]
    }
   ],
   "source": [
    "\n",
    "(X_train, Y_train), (X_test, Y_test) = mnist.getData()\n",
    "\n",
    "print(\"X Train Shape: \" + str(X_train.shape))\n",
    "print(\"Y Train Shape: \" + str(Y_train.shape))\n",
    "print(\"X Test Shape: \" + str(X_test.shape))\n",
    "print(\"Y Test Shape: \" + str(Y_test.shape))\n",
    "\n",
    "testImage = X_train[1000]\n",
    "imgShape = X_train[0].shape\n",
    "print(\"Image Shape: \" + str(imgShape[0]) + \" \" + str(imgShape[1]))"
   ]
  },
  {
   "cell_type": "markdown",
   "metadata": {},
   "source": [
    "### Defining Our CNN ML Model"
   ]
  },
  {
   "cell_type": "code",
   "execution_count": 3,
   "metadata": {},
   "outputs": [],
   "source": [
    "conv_layer = ConvolutionLayer(1, 3)\n",
    "sigmoid_layer = Sigmoid\n",
    "pool_layer = MaxPoolingLayer(2)\n",
    "conv_layer2 = ConvolutionLayer(1, 2)\n",
    "sigmoid_layer2 = Sigmoid\n",
    "pool_layer2 = MaxPoolingLayer(2)"
   ]
  },
  {
   "cell_type": "markdown",
   "metadata": {},
   "source": [
    "### Displaying one image from our dataset"
   ]
  },
  {
   "cell_type": "code",
   "execution_count": 4,
   "metadata": {},
   "outputs": [
    {
     "name": "stdout",
     "output_type": "stream",
     "text": [
      "Shape Of One Train Image: (28, 28)\n"
     ]
    },
    {
     "data": {
      "text/plain": [
       "<matplotlib.image.AxesImage at 0x1ffe4dd79d0>"
      ]
     },
     "execution_count": 4,
     "metadata": {},
     "output_type": "execute_result"
    },
    {
     "data": {
      "image/png": "[encoded data removed]",
      "text/plain": [
       "<Figure size 432x288 with 1 Axes>"
      ]
     },
     "metadata": {
      "needs_background": "light"
     },
     "output_type": "display_data"
    }
   ],
   "source": [
    "print(\"Shape Of One Train Image: \" + str(testImage.shape))\n",
    "plt.imshow(testImage)"
   ]
  },
  {
   "cell_type": "markdown",
   "metadata": {},
   "source": [
    "### Displaying the image after passing through convolution (Feature Map)"
   ]
  },
  {
   "cell_type": "code",
   "execution_count": 5,
   "metadata": {},
   "outputs": [
    {
     "name": "stdout",
     "output_type": "stream",
     "text": [
      "Shape Of Feature Map: (26, 26, 1)\n"
     ]
    },
    {
     "data": {
      "text/plain": [
       "<matplotlib.image.AxesImage at 0x1ffe6ef41f0>"
      ]
     },
     "execution_count": 5,
     "metadata": {},
     "output_type": "execute_result"
    },
    {
     "data": {
      "image/png": "[encoded data removed]",
      "text/plain": [
       "<Figure size 432x288 with 1 Axes>"
      ]
     },
     "metadata": {
      "needs_background": "light"
     },
     "output_type": "display_data"
    }
   ],
   "source": [
    "retrieved_img = conv_layer.forward_prop(testImage)\n",
    "\n",
    "print(\"Shape Of Feature Map: \" + str(retrieved_img.shape))\n",
    "plt.imshow(retrieved_img[:,:,0])"
   ]
  },
  {
   "cell_type": "markdown",
   "metadata": {},
   "source": [
    "### Applying the sigmoid activation function"
   ]
  },
  {
   "cell_type": "code",
   "execution_count": 6,
   "metadata": {},
   "outputs": [
    {
     "data": {
      "text/plain": [
       "<matplotlib.image.AxesImage at 0x1ffe6f6b820>"
      ]
     },
     "execution_count": 6,
     "metadata": {},
     "output_type": "execute_result"
    },
    {
     "data": {
      "image/png": "[encoded data removed]",
      "text/plain": [
       "<Figure size 432x288 with 1 Axes>"
      ]
     },
     "metadata": {
      "needs_background": "light"
     },
     "output_type": "display_data"
    }
   ],
   "source": [
    "retrieved_img = sigmoid_layer.sigmoid(retrieved_img)\n",
    "plt.imshow(retrieved_img)"
   ]
  },
  {
   "cell_type": "markdown",
   "metadata": {},
   "source": [
    "### Displaying the reduced feature map (Max Pooling)"
   ]
  },
  {
   "cell_type": "code",
   "execution_count": 7,
   "metadata": {},
   "outputs": [
    {
     "name": "stdout",
     "output_type": "stream",
     "text": [
      "Shape Of Reduced Feature Map: (13, 13, 1)\n"
     ]
    },
    {
     "data": {
      "text/plain": [
       "<matplotlib.image.AxesImage at 0x1ffe6fce9b0>"
      ]
     },
     "execution_count": 7,
     "metadata": {},
     "output_type": "execute_result"
    },
    {
     "data": {
      "image/png": "[encoded data removed]",
      "text/plain": [
       "<Figure size 432x288 with 1 Axes>"
      ]
     },
     "metadata": {
      "needs_background": "light"
     },
     "output_type": "display_data"
    }
   ],
   "source": [
    "max_pool_img = pool_layer.forward_prop(retrieved_img)\n",
    "print(\"Shape Of Reduced Feature Map: \" + str(max_pool_img.shape))\n",
    "plt.imshow(max_pool_img[:,:,0])"
   ]
  },
  {
   "cell_type": "markdown",
   "metadata": {},
   "source": [
    "### Testing the flatten layer"
   ]
  },
  {
   "cell_type": "code",
   "execution_count": 8,
   "metadata": {},
   "outputs": [
    {
     "name": "stdout",
     "output_type": "stream",
     "text": [
      "Shape of flattened image: (169,)\n",
      "It should be equal to: 169\n"
     ]
    }
   ],
   "source": [
    "flattened_image = FlattenLayer.forward(max_pool_img)\n",
    "print(\"Shape of flattened image: \" + str(flattened_image.shape))\n",
    "print(\"It should be equal to: \" + str(max_pool_img.shape[0] * max_pool_img.shape[1] * max_pool_img.shape[2]))"
   ]
  },
  {
   "cell_type": "markdown",
   "metadata": {},
   "source": [
    "### Apply another CNN layer"
   ]
  },
  {
   "cell_type": "code",
   "execution_count": 9,
   "metadata": {},
   "outputs": [
    {
     "data": {
      "text/plain": [
       "<matplotlib.image.AxesImage at 0x1ffe703e110>"
      ]
     },
     "execution_count": 9,
     "metadata": {},
     "output_type": "execute_result"
    },
    {
     "data": {
      "image/png": "[encoded data removed]",
      "text/plain": [
       "<Figure size 432x288 with 1 Axes>"
      ]
     },
     "metadata": {
      "needs_background": "light"
     },
     "output_type": "display_data"
    }
   ],
   "source": [
    "output2 = conv_layer2.forward_prop(max_pool_img[:, :, 0])\n",
    "plt.imshow(output2)"
   ]
  },
  {
   "cell_type": "code",
   "execution_count": 10,
   "metadata": {},
   "outputs": [
    {
     "data": {
      "text/plain": [
       "<matplotlib.image.AxesImage at 0x1ffe8081030>"
      ]
     },
     "execution_count": 10,
     "metadata": {},
     "output_type": "execute_result"
    },
    {
     "data": {
      "image/png": "[encoded data removed]",
      "text/plain": [
       "<Figure size 432x288 with 1 Axes>"
      ]
     },
     "metadata": {
      "needs_background": "light"
     },
     "output_type": "display_data"
    }
   ],
   "source": [
    "output2 = sigmoid_layer2.sigmoid(output2)\n",
    "plt.imshow(output2)"
   ]
  },
  {
   "cell_type": "code",
   "execution_count": 11,
   "metadata": {},
   "outputs": [
    {
     "data": {
      "text/plain": [
       "<matplotlib.image.AxesImage at 0x1ffe80cbc40>"
      ]
     },
     "execution_count": 11,
     "metadata": {},
     "output_type": "execute_result"
    },
    {
     "data": {
      "image/png": "[encoded data removed]",
      "text/plain": [
       "<Figure size 432x288 with 1 Axes>"
      ]
     },
     "metadata": {
      "needs_background": "light"
     },
     "output_type": "display_data"
    }
   ],
   "source": [
    "output2 = pool_layer2.forward_prop(output2)\n",
    "plt.imshow(output2)"
   ]
  },
  {
   "cell_type": "markdown",
   "metadata": {},
   "source": [
    "We see that the image detoriates and it would not be fiseable to use another convolutional layer for our model hence we will only use one convolutional layer."
   ]
  },
  {
   "cell_type": "markdown",
   "metadata": {},
   "source": [
    "## ANN Part \n",
    "Now since we are done with the CNN part of the project, we now move on to the ANN part in which we use the dense layer to determine the output of which class does the image belong to."
   ]
  },
  {
   "cell_type": "markdown",
   "metadata": {},
   "source": [
    "### Softmax layer\n",
    "Here we import our softmax layer which acts as a dense layer for the CNN, it performs the the flatteneing of the image and then performs the dot product with the weights and adds bias after which it implements the softmax function.\n",
    "\n",
    "It takes as input, the shape of the input image and the number of classes in the dataset."
   ]
  },
  {
   "cell_type": "code",
   "execution_count": 12,
   "metadata": {},
   "outputs": [],
   "source": [
    "softmax_layer = Softmax(max_pool_img.shape[0] * max_pool_img.shape[1] * max_pool_img.shape[2], 10)"
   ]
  },
  {
   "cell_type": "code",
   "execution_count": 13,
   "metadata": {},
   "outputs": [],
   "source": [
    "softmax_layer_output = softmax_layer.forward(max_pool_img)"
   ]
  },
  {
   "cell_type": "markdown",
   "metadata": {},
   "source": [
    "Below we can see the initial probablities which we will train with the help of backward propogation."
   ]
  },
  {
   "cell_type": "code",
   "execution_count": 14,
   "metadata": {},
   "outputs": [
    {
     "name": "stdout",
     "output_type": "stream",
     "text": [
      "[0.10293678 0.09685883 0.09232963 0.0969377  0.10476889 0.09770768\n",
      " 0.10662913 0.09915354 0.10310925 0.09956855]\n"
     ]
    }
   ],
   "source": [
    "print(softmax_layer_output)"
   ]
  },
  {
   "cell_type": "markdown",
   "metadata": {},
   "source": [
    "### Compute the loss (cross-entropy)"
   ]
  },
  {
   "cell_type": "code",
   "execution_count": 15,
   "metadata": {},
   "outputs": [],
   "source": [
    "# Compute loss (cross-entropy)\n",
    "loss = -np.log(softmax_layer_output[0])"
   ]
  },
  {
   "cell_type": "code",
   "execution_count": 16,
   "metadata": {},
   "outputs": [
    {
     "name": "stdout",
     "output_type": "stream",
     "text": [
      "2.2736402285164514\n"
     ]
    }
   ],
   "source": [
    "print(loss)"
   ]
  },
  {
   "cell_type": "markdown",
   "metadata": {},
   "source": [
    "### Compute the loss accuracy\n",
    "0 if did not correctly identify, 1 if correctly identifies"
   ]
  },
  {
   "cell_type": "code",
   "execution_count": 17,
   "metadata": {},
   "outputs": [],
   "source": [
    "accuracy = 1 if np.argmax(softmax_layer_output) == 0 else 0"
   ]
  },
  {
   "cell_type": "code",
   "execution_count": 18,
   "metadata": {},
   "outputs": [
    {
     "name": "stdout",
     "output_type": "stream",
     "text": [
      "0\n"
     ]
    }
   ],
   "source": [
    "print(accuracy)"
   ]
  },
  {
   "cell_type": "markdown",
   "metadata": {},
   "source": [
    "### Initialize the gradient vector (dE_dY)"
   ]
  },
  {
   "cell_type": "code",
   "execution_count": 19,
   "metadata": {},
   "outputs": [],
   "source": [
    "gradient = np.zeros(10)\n",
    "gradient[0] = -1/softmax_layer_output[0]"
   ]
  },
  {
   "cell_type": "code",
   "execution_count": 20,
   "metadata": {},
   "outputs": [
    {
     "name": "stdout",
     "output_type": "stream",
     "text": [
      "[-9.71470025  0.          0.          0.          0.          0.\n",
      "  0.          0.          0.          0.        ]\n"
     ]
    }
   ],
   "source": [
    "print(gradient)"
   ]
  },
  {
   "cell_type": "markdown",
   "metadata": {},
   "source": [
    "### Retrieve the values of the gradient from the softmax layer"
   ]
  },
  {
   "cell_type": "code",
   "execution_count": 21,
   "metadata": {},
   "outputs": [
    {
     "name": "stdout",
     "output_type": "stream",
     "text": [
      "(13, 13, 1)\n"
     ]
    }
   ],
   "source": [
    "softmax_error = softmax_layer.backward(gradient, 0.05)"
   ]
  },
  {
   "cell_type": "code",
   "execution_count": 22,
   "metadata": {},
   "outputs": [
    {
     "data": {
      "text/plain": [
       "array([[[ 3.01974542e-03],\n",
       "        [-4.10437423e-03],\n",
       "        [-7.62135502e-03],\n",
       "        [-1.90399313e-03],\n",
       "        [ 4.65804226e-03],\n",
       "        [ 1.08180328e-02],\n",
       "        [ 3.93405337e-03],\n",
       "        [ 4.36695718e-03],\n",
       "        [-6.51270292e-04],\n",
       "        [-1.63084213e-03],\n",
       "        [-2.47521344e-03],\n",
       "        [-6.54920690e-03],\n",
       "        [-4.38929741e-03]],\n",
       "\n",
       "       [[-7.78812065e-05],\n",
       "        [-4.35878479e-03],\n",
       "        [ 4.47478521e-03],\n",
       "        [ 2.25330897e-03],\n",
       "        [ 3.74638297e-03],\n",
       "        [ 1.84476555e-03],\n",
       "        [-2.57741982e-03],\n",
       "        [-5.28225631e-06],\n",
       "        [-2.40081690e-03],\n",
       "        [-3.05186568e-03],\n",
       "        [-7.06881160e-03],\n",
       "        [-3.75248564e-03],\n",
       "        [ 4.31171015e-03]],\n",
       "\n",
       "       [[-3.91702650e-03],\n",
       "        [-4.78604053e-03],\n",
       "        [-2.86185973e-03],\n",
       "        [-7.46479659e-03],\n",
       "        [-5.88687153e-04],\n",
       "        [-2.78090901e-03],\n",
       "        [-2.26594181e-03],\n",
       "        [-2.68910547e-03],\n",
       "        [ 1.95099402e-03],\n",
       "        [ 1.44309379e-03],\n",
       "        [-5.06712083e-03],\n",
       "        [-1.76500441e-03],\n",
       "        [ 2.38831165e-03]],\n",
       "\n",
       "       [[-5.88755765e-03],\n",
       "        [-5.25479900e-03],\n",
       "        [ 5.47177771e-03],\n",
       "        [-7.13569293e-05],\n",
       "        [-6.49389081e-03],\n",
       "        [-2.50442575e-03],\n",
       "        [-1.16678463e-02],\n",
       "        [-6.21706051e-03],\n",
       "        [ 5.29917649e-03],\n",
       "        [-7.56933507e-03],\n",
       "        [ 7.59962255e-03],\n",
       "        [-7.10736159e-03],\n",
       "        [ 3.12831175e-03]],\n",
       "\n",
       "       [[-1.44934486e-03],\n",
       "        [ 2.86976408e-03],\n",
       "        [ 1.55376028e-03],\n",
       "        [ 2.77128507e-03],\n",
       "        [-9.90005982e-03],\n",
       "        [ 1.42807190e-03],\n",
       "        [ 2.57533511e-03],\n",
       "        [ 2.25897618e-03],\n",
       "        [ 2.03974010e-03],\n",
       "        [ 8.97907604e-03],\n",
       "        [-6.07687813e-03],\n",
       "        [-8.60453506e-04],\n",
       "        [ 5.24746568e-03]],\n",
       "\n",
       "       [[-4.31673732e-03],\n",
       "        [ 6.30241731e-03],\n",
       "        [ 1.52819184e-03],\n",
       "        [ 5.76063822e-03],\n",
       "        [ 2.11650641e-03],\n",
       "        [ 6.79447667e-03],\n",
       "        [ 1.90867125e-03],\n",
       "        [ 2.57640239e-03],\n",
       "        [ 5.76674343e-03],\n",
       "        [-6.75037490e-03],\n",
       "        [-3.64680277e-03],\n",
       "        [-8.50024205e-03],\n",
       "        [-5.64566447e-03]],\n",
       "\n",
       "       [[-3.85128214e-04],\n",
       "        [ 7.84640386e-03],\n",
       "        [ 8.99770216e-03],\n",
       "        [-8.26715417e-03],\n",
       "        [ 1.95592808e-03],\n",
       "        [ 8.39674283e-03],\n",
       "        [-3.81493270e-03],\n",
       "        [-7.68616255e-03],\n",
       "        [ 2.85715007e-03],\n",
       "        [-1.21409528e-03],\n",
       "        [-2.65513095e-04],\n",
       "        [-7.86391786e-03],\n",
       "        [-5.11767594e-03]],\n",
       "\n",
       "       [[-8.99985602e-03],\n",
       "        [-7.54116470e-03],\n",
       "        [ 3.67984117e-03],\n",
       "        [-5.47776441e-04],\n",
       "        [-3.92233720e-04],\n",
       "        [-1.02920990e-02],\n",
       "        [ 3.43192422e-03],\n",
       "        [ 2.87807361e-03],\n",
       "        [-5.83041689e-03],\n",
       "        [ 1.14674521e-02],\n",
       "        [-2.59903150e-03],\n",
       "        [-2.70955820e-03],\n",
       "        [ 8.64485165e-03]],\n",
       "\n",
       "       [[ 1.23809312e-05],\n",
       "        [ 2.50813362e-03],\n",
       "        [-5.61014076e-04],\n",
       "        [-1.60916441e-03],\n",
       "        [-8.34322970e-03],\n",
       "        [-3.56305530e-04],\n",
       "        [ 2.72726290e-03],\n",
       "        [ 4.16118267e-03],\n",
       "        [ 8.49814860e-03],\n",
       "        [-1.32448532e-02],\n",
       "        [-3.49816246e-03],\n",
       "        [ 7.40383984e-04],\n",
       "        [ 1.79279397e-03]],\n",
       "\n",
       "       [[-2.28914027e-03],\n",
       "        [-1.20012616e-02],\n",
       "        [-5.67068562e-03],\n",
       "        [-5.23023811e-03],\n",
       "        [-9.00548495e-03],\n",
       "        [-8.49283359e-03],\n",
       "        [ 1.15249627e-03],\n",
       "        [ 7.12087001e-04],\n",
       "        [ 1.62380750e-03],\n",
       "        [ 2.01980771e-03],\n",
       "        [-5.23322251e-03],\n",
       "        [ 4.42756759e-03],\n",
       "        [ 1.01354973e-02]],\n",
       "\n",
       "       [[-2.97839687e-03],\n",
       "        [-7.89649731e-03],\n",
       "        [-6.61923565e-03],\n",
       "        [ 2.24028303e-03],\n",
       "        [-2.03132982e-03],\n",
       "        [ 7.37655951e-04],\n",
       "        [ 2.97404454e-03],\n",
       "        [-1.48209592e-03],\n",
       "        [-3.72248031e-03],\n",
       "        [ 9.99724969e-03],\n",
       "        [-6.21862159e-03],\n",
       "        [ 7.34654262e-04],\n",
       "        [ 4.54865034e-03]],\n",
       "\n",
       "       [[ 3.47104937e-03],\n",
       "        [-4.83979056e-03],\n",
       "        [ 6.57116269e-03],\n",
       "        [ 1.01729831e-02],\n",
       "        [ 7.62475997e-03],\n",
       "        [ 2.03178883e-03],\n",
       "        [-5.27125252e-04],\n",
       "        [ 3.26597885e-03],\n",
       "        [-3.48082529e-04],\n",
       "        [ 1.08244059e-02],\n",
       "        [-5.01727320e-04],\n",
       "        [ 8.88664904e-03],\n",
       "        [ 6.18695483e-03]],\n",
       "\n",
       "       [[-4.93578902e-03],\n",
       "        [ 6.98383933e-03],\n",
       "        [ 4.75673630e-03],\n",
       "        [-1.72094446e-03],\n",
       "        [ 1.48924894e-03],\n",
       "        [ 3.98438623e-03],\n",
       "        [ 6.69799562e-03],\n",
       "        [-4.50894924e-03],\n",
       "        [ 6.80833219e-03],\n",
       "        [-5.30446444e-04],\n",
       "        [-9.72559932e-03],\n",
       "        [-6.71968966e-03],\n",
       "        [-4.82844171e-04]]])"
      ]
     },
     "execution_count": 22,
     "metadata": {},
     "output_type": "execute_result"
    }
   ],
   "source": [
    "softmax_error"
   ]
  },
  {
   "cell_type": "markdown",
   "metadata": {},
   "source": [
    "### Retrieve the values of the gradient from the maxpool layer"
   ]
  },
  {
   "cell_type": "code",
   "execution_count": 23,
   "metadata": {},
   "outputs": [
    {
     "name": "stdout",
     "output_type": "stream",
     "text": [
      "(26, 26, 1)\n"
     ]
    }
   ],
   "source": [
    "maxpool_error = pool_layer.back_prop(softmax_error)"
   ]
  },
  {
   "cell_type": "code",
   "execution_count": 24,
   "metadata": {},
   "outputs": [
    {
     "data": {
      "text/plain": [
       "array([[[ 3.01974542e-03],\n",
       "        [ 3.01974542e-03],\n",
       "        [-4.10437423e-03],\n",
       "        [-4.10437423e-03],\n",
       "        [-7.62135502e-03],\n",
       "        [-7.62135502e-03],\n",
       "        [-1.90399313e-03],\n",
       "        [-1.90399313e-03],\n",
       "        [ 4.65804226e-03],\n",
       "        [ 4.65804226e-03],\n",
       "        [ 1.08180328e-02],\n",
       "        [ 1.08180328e-02],\n",
       "        [ 3.93405337e-03],\n",
       "        [ 3.93405337e-03],\n",
       "        [ 4.36695718e-03],\n",
       "        [ 4.36695718e-03],\n",
       "        [-6.51270292e-04],\n",
       "        [-6.51270292e-04],\n",
       "        [-1.63084213e-03],\n",
       "        [-1.63084213e-03],\n",
       "        [-2.47521344e-03],\n",
       "        [-2.47521344e-03],\n",
       "        [-6.54920690e-03],\n",
       "        [-6.54920690e-03],\n",
       "        [-4.38929741e-03],\n",
       "        [-4.38929741e-03]],\n",
       "\n",
       "       [[ 3.01974542e-03],\n",
       "        [ 3.01974542e-03],\n",
       "        [-4.10437423e-03],\n",
       "        [-4.10437423e-03],\n",
       "        [-7.62135502e-03],\n",
       "        [-7.62135502e-03],\n",
       "        [-1.90399313e-03],\n",
       "        [-1.90399313e-03],\n",
       "        [ 4.65804226e-03],\n",
       "        [ 4.65804226e-03],\n",
       "        [ 1.08180328e-02],\n",
       "        [ 1.08180328e-02],\n",
       "        [ 3.93405337e-03],\n",
       "        [ 3.93405337e-03],\n",
       "        [ 4.36695718e-03],\n",
       "        [ 4.36695718e-03],\n",
       "        [-6.51270292e-04],\n",
       "        [-6.51270292e-04],\n",
       "        [-1.63084213e-03],\n",
       "        [-1.63084213e-03],\n",
       "        [-2.47521344e-03],\n",
       "        [-2.47521344e-03],\n",
       "        [-6.54920690e-03],\n",
       "        [-6.54920690e-03],\n",
       "        [-4.38929741e-03],\n",
       "        [-4.38929741e-03]],\n",
       "\n",
       "       [[-7.78812065e-05],\n",
       "        [-7.78812065e-05],\n",
       "        [-4.35878479e-03],\n",
       "        [-4.35878479e-03],\n",
       "        [ 4.47478521e-03],\n",
       "        [ 4.47478521e-03],\n",
       "        [ 2.25330897e-03],\n",
       "        [ 2.25330897e-03],\n",
       "        [ 3.74638297e-03],\n",
       "        [ 3.74638297e-03],\n",
       "        [ 1.84476555e-03],\n",
       "        [ 1.84476555e-03],\n",
       "        [ 0.00000000e+00],\n",
       "        [ 0.00000000e+00],\n",
       "        [ 0.00000000e+00],\n",
       "        [ 0.00000000e+00],\n",
       "        [-2.40081690e-03],\n",
       "        [-2.40081690e-03],\n",
       "        [-3.05186568e-03],\n",
       "        [-3.05186568e-03],\n",
       "        [-7.06881160e-03],\n",
       "        [-7.06881160e-03],\n",
       "        [-3.75248564e-03],\n",
       "        [-3.75248564e-03],\n",
       "        [ 4.31171015e-03],\n",
       "        [ 4.31171015e-03]],\n",
       "\n",
       "       [[-7.78812065e-05],\n",
       "        [-7.78812065e-05],\n",
       "        [-4.35878479e-03],\n",
       "        [-4.35878479e-03],\n",
       "        [ 4.47478521e-03],\n",
       "        [ 4.47478521e-03],\n",
       "        [ 2.25330897e-03],\n",
       "        [ 2.25330897e-03],\n",
       "        [ 3.74638297e-03],\n",
       "        [ 3.74638297e-03],\n",
       "        [ 1.84476555e-03],\n",
       "        [ 1.84476555e-03],\n",
       "        [ 0.00000000e+00],\n",
       "        [-2.57741982e-03],\n",
       "        [-5.28225631e-06],\n",
       "        [ 0.00000000e+00],\n",
       "        [ 0.00000000e+00],\n",
       "        [ 0.00000000e+00],\n",
       "        [ 0.00000000e+00],\n",
       "        [ 0.00000000e+00],\n",
       "        [ 0.00000000e+00],\n",
       "        [-7.06881160e-03],\n",
       "        [-3.75248564e-03],\n",
       "        [-3.75248564e-03],\n",
       "        [ 4.31171015e-03],\n",
       "        [ 4.31171015e-03]],\n",
       "\n",
       "       [[-3.91702650e-03],\n",
       "        [-3.91702650e-03],\n",
       "        [-4.78604053e-03],\n",
       "        [-4.78604053e-03],\n",
       "        [-2.86185973e-03],\n",
       "        [-2.86185973e-03],\n",
       "        [-7.46479659e-03],\n",
       "        [-7.46479659e-03],\n",
       "        [ 0.00000000e+00],\n",
       "        [ 0.00000000e+00],\n",
       "        [ 0.00000000e+00],\n",
       "        [ 0.00000000e+00],\n",
       "        [-2.26594181e-03],\n",
       "        [ 0.00000000e+00],\n",
       "        [-2.68910547e-03],\n",
       "        [ 0.00000000e+00],\n",
       "        [ 0.00000000e+00],\n",
       "        [ 0.00000000e+00],\n",
       "        [ 0.00000000e+00],\n",
       "        [ 1.44309379e-03],\n",
       "        [ 0.00000000e+00],\n",
       "        [-5.06712083e-03],\n",
       "        [-1.76500441e-03],\n",
       "        [-1.76500441e-03],\n",
       "        [ 2.38831165e-03],\n",
       "        [ 2.38831165e-03]],\n",
       "\n",
       "       [[-3.91702650e-03],\n",
       "        [-3.91702650e-03],\n",
       "        [-4.78604053e-03],\n",
       "        [-4.78604053e-03],\n",
       "        [-2.86185973e-03],\n",
       "        [-2.86185973e-03],\n",
       "        [-7.46479659e-03],\n",
       "        [-7.46479659e-03],\n",
       "        [ 0.00000000e+00],\n",
       "        [-5.88687153e-04],\n",
       "        [-2.78090901e-03],\n",
       "        [ 0.00000000e+00],\n",
       "        [ 0.00000000e+00],\n",
       "        [ 0.00000000e+00],\n",
       "        [ 0.00000000e+00],\n",
       "        [ 0.00000000e+00],\n",
       "        [ 1.95099402e-03],\n",
       "        [ 0.00000000e+00],\n",
       "        [ 0.00000000e+00],\n",
       "        [ 0.00000000e+00],\n",
       "        [ 0.00000000e+00],\n",
       "        [-5.06712083e-03],\n",
       "        [-1.76500441e-03],\n",
       "        [-1.76500441e-03],\n",
       "        [ 2.38831165e-03],\n",
       "        [ 2.38831165e-03]],\n",
       "\n",
       "       [[-5.88755765e-03],\n",
       "        [-5.88755765e-03],\n",
       "        [-5.25479900e-03],\n",
       "        [-5.25479900e-03],\n",
       "        [ 5.47177771e-03],\n",
       "        [ 5.47177771e-03],\n",
       "        [ 0.00000000e+00],\n",
       "        [ 0.00000000e+00],\n",
       "        [ 0.00000000e+00],\n",
       "        [-6.49389081e-03],\n",
       "        [-2.50442575e-03],\n",
       "        [ 0.00000000e+00],\n",
       "        [ 0.00000000e+00],\n",
       "        [ 0.00000000e+00],\n",
       "        [ 0.00000000e+00],\n",
       "        [-6.21706051e-03],\n",
       "        [ 0.00000000e+00],\n",
       "        [ 0.00000000e+00],\n",
       "        [ 0.00000000e+00],\n",
       "        [ 0.00000000e+00],\n",
       "        [ 0.00000000e+00],\n",
       "        [ 0.00000000e+00],\n",
       "        [-7.10736159e-03],\n",
       "        [-7.10736159e-03],\n",
       "        [ 3.12831175e-03],\n",
       "        [ 3.12831175e-03]],\n",
       "\n",
       "       [[-5.88755765e-03],\n",
       "        [-5.88755765e-03],\n",
       "        [-5.25479900e-03],\n",
       "        [-5.25479900e-03],\n",
       "        [ 5.47177771e-03],\n",
       "        [ 5.47177771e-03],\n",
       "        [ 0.00000000e+00],\n",
       "        [-7.13569293e-05],\n",
       "        [ 0.00000000e+00],\n",
       "        [ 0.00000000e+00],\n",
       "        [ 0.00000000e+00],\n",
       "        [ 0.00000000e+00],\n",
       "        [ 0.00000000e+00],\n",
       "        [-1.16678463e-02],\n",
       "        [ 0.00000000e+00],\n",
       "        [ 0.00000000e+00],\n",
       "        [ 5.29917649e-03],\n",
       "        [ 0.00000000e+00],\n",
       "        [-7.56933507e-03],\n",
       "        [ 0.00000000e+00],\n",
       "        [ 0.00000000e+00],\n",
       "        [ 7.59962255e-03],\n",
       "        [-7.10736159e-03],\n",
       "        [-7.10736159e-03],\n",
       "        [ 3.12831175e-03],\n",
       "        [ 3.12831175e-03]],\n",
       "\n",
       "       [[-1.44934486e-03],\n",
       "        [-1.44934486e-03],\n",
       "        [ 2.86976408e-03],\n",
       "        [ 2.86976408e-03],\n",
       "        [ 1.55376028e-03],\n",
       "        [ 1.55376028e-03],\n",
       "        [ 0.00000000e+00],\n",
       "        [ 0.00000000e+00],\n",
       "        [ 0.00000000e+00],\n",
       "        [ 0.00000000e+00],\n",
       "        [ 0.00000000e+00],\n",
       "        [ 0.00000000e+00],\n",
       "        [ 0.00000000e+00],\n",
       "        [ 0.00000000e+00],\n",
       "        [ 2.25897618e-03],\n",
       "        [ 0.00000000e+00],\n",
       "        [ 0.00000000e+00],\n",
       "        [ 0.00000000e+00],\n",
       "        [ 0.00000000e+00],\n",
       "        [ 0.00000000e+00],\n",
       "        [ 0.00000000e+00],\n",
       "        [ 0.00000000e+00],\n",
       "        [-8.60453506e-04],\n",
       "        [-8.60453506e-04],\n",
       "        [ 5.24746568e-03],\n",
       "        [ 5.24746568e-03]],\n",
       "\n",
       "       [[-1.44934486e-03],\n",
       "        [-1.44934486e-03],\n",
       "        [ 2.86976408e-03],\n",
       "        [ 2.86976408e-03],\n",
       "        [ 1.55376028e-03],\n",
       "        [ 1.55376028e-03],\n",
       "        [ 0.00000000e+00],\n",
       "        [ 2.77128507e-03],\n",
       "        [-9.90005982e-03],\n",
       "        [ 0.00000000e+00],\n",
       "        [ 0.00000000e+00],\n",
       "        [ 1.42807190e-03],\n",
       "        [ 0.00000000e+00],\n",
       "        [ 2.57533511e-03],\n",
       "        [ 0.00000000e+00],\n",
       "        [ 0.00000000e+00],\n",
       "        [ 0.00000000e+00],\n",
       "        [ 2.03974010e-03],\n",
       "        [ 8.97907604e-03],\n",
       "        [ 0.00000000e+00],\n",
       "        [ 0.00000000e+00],\n",
       "        [-6.07687813e-03],\n",
       "        [-8.60453506e-04],\n",
       "        [-8.60453506e-04],\n",
       "        [ 5.24746568e-03],\n",
       "        [ 5.24746568e-03]],\n",
       "\n",
       "       [[-4.31673732e-03],\n",
       "        [-4.31673732e-03],\n",
       "        [ 6.30241731e-03],\n",
       "        [ 6.30241731e-03],\n",
       "        [ 1.52819184e-03],\n",
       "        [ 1.52819184e-03],\n",
       "        [ 0.00000000e+00],\n",
       "        [ 0.00000000e+00],\n",
       "        [ 2.11650641e-03],\n",
       "        [ 0.00000000e+00],\n",
       "        [ 0.00000000e+00],\n",
       "        [ 0.00000000e+00],\n",
       "        [ 1.90867125e-03],\n",
       "        [ 0.00000000e+00],\n",
       "        [ 2.57640239e-03],\n",
       "        [ 2.57640239e-03],\n",
       "        [ 0.00000000e+00],\n",
       "        [ 0.00000000e+00],\n",
       "        [-6.75037490e-03],\n",
       "        [ 0.00000000e+00],\n",
       "        [ 0.00000000e+00],\n",
       "        [-3.64680277e-03],\n",
       "        [-8.50024205e-03],\n",
       "        [-8.50024205e-03],\n",
       "        [-5.64566447e-03],\n",
       "        [-5.64566447e-03]],\n",
       "\n",
       "       [[-4.31673732e-03],\n",
       "        [-4.31673732e-03],\n",
       "        [ 6.30241731e-03],\n",
       "        [ 6.30241731e-03],\n",
       "        [ 1.52819184e-03],\n",
       "        [ 1.52819184e-03],\n",
       "        [ 0.00000000e+00],\n",
       "        [ 5.76063822e-03],\n",
       "        [ 0.00000000e+00],\n",
       "        [ 0.00000000e+00],\n",
       "        [ 0.00000000e+00],\n",
       "        [ 6.79447667e-03],\n",
       "        [ 0.00000000e+00],\n",
       "        [ 0.00000000e+00],\n",
       "        [ 2.57640239e-03],\n",
       "        [ 2.57640239e-03],\n",
       "        [ 0.00000000e+00],\n",
       "        [ 5.76674343e-03],\n",
       "        [ 0.00000000e+00],\n",
       "        [ 0.00000000e+00],\n",
       "        [ 0.00000000e+00],\n",
       "        [-3.64680277e-03],\n",
       "        [-8.50024205e-03],\n",
       "        [-8.50024205e-03],\n",
       "        [-5.64566447e-03],\n",
       "        [-5.64566447e-03]],\n",
       "\n",
       "       [[-3.85128214e-04],\n",
       "        [-3.85128214e-04],\n",
       "        [ 7.84640386e-03],\n",
       "        [ 7.84640386e-03],\n",
       "        [ 8.99770216e-03],\n",
       "        [ 8.99770216e-03],\n",
       "        [ 0.00000000e+00],\n",
       "        [ 0.00000000e+00],\n",
       "        [ 1.95592808e-03],\n",
       "        [ 0.00000000e+00],\n",
       "        [ 0.00000000e+00],\n",
       "        [ 0.00000000e+00],\n",
       "        [-3.81493270e-03],\n",
       "        [-3.81493270e-03],\n",
       "        [-7.68616255e-03],\n",
       "        [-7.68616255e-03],\n",
       "        [ 0.00000000e+00],\n",
       "        [ 0.00000000e+00],\n",
       "        [-1.21409528e-03],\n",
       "        [ 0.00000000e+00],\n",
       "        [ 0.00000000e+00],\n",
       "        [ 0.00000000e+00],\n",
       "        [-7.86391786e-03],\n",
       "        [-7.86391786e-03],\n",
       "        [-5.11767594e-03],\n",
       "        [-5.11767594e-03]],\n",
       "\n",
       "       [[-3.85128214e-04],\n",
       "        [-3.85128214e-04],\n",
       "        [ 7.84640386e-03],\n",
       "        [ 7.84640386e-03],\n",
       "        [ 8.99770216e-03],\n",
       "        [ 8.99770216e-03],\n",
       "        [ 0.00000000e+00],\n",
       "        [-8.26715417e-03],\n",
       "        [ 0.00000000e+00],\n",
       "        [ 0.00000000e+00],\n",
       "        [ 0.00000000e+00],\n",
       "        [ 8.39674283e-03],\n",
       "        [-3.81493270e-03],\n",
       "        [-3.81493270e-03],\n",
       "        [-7.68616255e-03],\n",
       "        [-7.68616255e-03],\n",
       "        [ 0.00000000e+00],\n",
       "        [ 2.85715007e-03],\n",
       "        [ 0.00000000e+00],\n",
       "        [ 0.00000000e+00],\n",
       "        [ 0.00000000e+00],\n",
       "        [-2.65513095e-04],\n",
       "        [-7.86391786e-03],\n",
       "        [-7.86391786e-03],\n",
       "        [-5.11767594e-03],\n",
       "        [-5.11767594e-03]],\n",
       "\n",
       "       [[-8.99985602e-03],\n",
       "        [-8.99985602e-03],\n",
       "        [-7.54116470e-03],\n",
       "        [-7.54116470e-03],\n",
       "        [ 3.67984117e-03],\n",
       "        [ 3.67984117e-03],\n",
       "        [ 0.00000000e+00],\n",
       "        [-5.47776441e-04],\n",
       "        [ 0.00000000e+00],\n",
       "        [ 0.00000000e+00],\n",
       "        [ 0.00000000e+00],\n",
       "        [-1.02920990e-02],\n",
       "        [ 3.43192422e-03],\n",
       "        [ 3.43192422e-03],\n",
       "        [ 0.00000000e+00],\n",
       "        [ 0.00000000e+00],\n",
       "        [ 0.00000000e+00],\n",
       "        [-5.83041689e-03],\n",
       "        [ 0.00000000e+00],\n",
       "        [ 0.00000000e+00],\n",
       "        [ 0.00000000e+00],\n",
       "        [ 0.00000000e+00],\n",
       "        [-2.70955820e-03],\n",
       "        [-2.70955820e-03],\n",
       "        [ 8.64485165e-03],\n",
       "        [ 8.64485165e-03]],\n",
       "\n",
       "       [[-8.99985602e-03],\n",
       "        [-8.99985602e-03],\n",
       "        [-7.54116470e-03],\n",
       "        [-7.54116470e-03],\n",
       "        [ 3.67984117e-03],\n",
       "        [ 3.67984117e-03],\n",
       "        [ 0.00000000e+00],\n",
       "        [ 0.00000000e+00],\n",
       "        [-3.92233720e-04],\n",
       "        [ 0.00000000e+00],\n",
       "        [ 0.00000000e+00],\n",
       "        [ 0.00000000e+00],\n",
       "        [ 3.43192422e-03],\n",
       "        [ 3.43192422e-03],\n",
       "        [ 0.00000000e+00],\n",
       "        [ 2.87807361e-03],\n",
       "        [ 0.00000000e+00],\n",
       "        [ 0.00000000e+00],\n",
       "        [ 0.00000000e+00],\n",
       "        [ 1.14674521e-02],\n",
       "        [-2.59903150e-03],\n",
       "        [ 0.00000000e+00],\n",
       "        [-2.70955820e-03],\n",
       "        [-2.70955820e-03],\n",
       "        [ 8.64485165e-03],\n",
       "        [ 8.64485165e-03]],\n",
       "\n",
       "       [[ 1.23809312e-05],\n",
       "        [ 1.23809312e-05],\n",
       "        [ 2.50813362e-03],\n",
       "        [ 2.50813362e-03],\n",
       "        [-5.61014076e-04],\n",
       "        [-5.61014076e-04],\n",
       "        [ 0.00000000e+00],\n",
       "        [ 0.00000000e+00],\n",
       "        [ 0.00000000e+00],\n",
       "        [ 0.00000000e+00],\n",
       "        [ 0.00000000e+00],\n",
       "        [-3.56305530e-04],\n",
       "        [ 2.72726290e-03],\n",
       "        [ 2.72726290e-03],\n",
       "        [ 0.00000000e+00],\n",
       "        [ 0.00000000e+00],\n",
       "        [ 8.49814860e-03],\n",
       "        [ 0.00000000e+00],\n",
       "        [ 0.00000000e+00],\n",
       "        [ 0.00000000e+00],\n",
       "        [ 0.00000000e+00],\n",
       "        [ 0.00000000e+00],\n",
       "        [ 7.40383984e-04],\n",
       "        [ 7.40383984e-04],\n",
       "        [ 1.79279397e-03],\n",
       "        [ 1.79279397e-03]],\n",
       "\n",
       "       [[ 1.23809312e-05],\n",
       "        [ 1.23809312e-05],\n",
       "        [ 2.50813362e-03],\n",
       "        [ 2.50813362e-03],\n",
       "        [-5.61014076e-04],\n",
       "        [-5.61014076e-04],\n",
       "        [ 0.00000000e+00],\n",
       "        [-1.60916441e-03],\n",
       "        [-8.34322970e-03],\n",
       "        [ 0.00000000e+00],\n",
       "        [ 0.00000000e+00],\n",
       "        [ 0.00000000e+00],\n",
       "        [ 2.72726290e-03],\n",
       "        [ 2.72726290e-03],\n",
       "        [ 0.00000000e+00],\n",
       "        [ 4.16118267e-03],\n",
       "        [ 0.00000000e+00],\n",
       "        [ 0.00000000e+00],\n",
       "        [ 0.00000000e+00],\n",
       "        [-1.32448532e-02],\n",
       "        [-3.49816246e-03],\n",
       "        [ 0.00000000e+00],\n",
       "        [ 7.40383984e-04],\n",
       "        [ 7.40383984e-04],\n",
       "        [ 1.79279397e-03],\n",
       "        [ 1.79279397e-03]],\n",
       "\n",
       "       [[-2.28914027e-03],\n",
       "        [-2.28914027e-03],\n",
       "        [-1.20012616e-02],\n",
       "        [-1.20012616e-02],\n",
       "        [-5.67068562e-03],\n",
       "        [-5.67068562e-03],\n",
       "        [ 0.00000000e+00],\n",
       "        [ 0.00000000e+00],\n",
       "        [ 0.00000000e+00],\n",
       "        [ 0.00000000e+00],\n",
       "        [ 0.00000000e+00],\n",
       "        [-8.49283359e-03],\n",
       "        [ 0.00000000e+00],\n",
       "        [ 0.00000000e+00],\n",
       "        [ 7.12087001e-04],\n",
       "        [ 0.00000000e+00],\n",
       "        [ 1.62380750e-03],\n",
       "        [ 0.00000000e+00],\n",
       "        [ 0.00000000e+00],\n",
       "        [ 2.01980771e-03],\n",
       "        [-5.23322251e-03],\n",
       "        [ 0.00000000e+00],\n",
       "        [ 4.42756759e-03],\n",
       "        [ 4.42756759e-03],\n",
       "        [ 1.01354973e-02],\n",
       "        [ 1.01354973e-02]],\n",
       "\n",
       "       [[-2.28914027e-03],\n",
       "        [-2.28914027e-03],\n",
       "        [-1.20012616e-02],\n",
       "        [-1.20012616e-02],\n",
       "        [-5.67068562e-03],\n",
       "        [-5.67068562e-03],\n",
       "        [ 0.00000000e+00],\n",
       "        [-5.23023811e-03],\n",
       "        [-9.00548495e-03],\n",
       "        [ 0.00000000e+00],\n",
       "        [ 0.00000000e+00],\n",
       "        [ 0.00000000e+00],\n",
       "        [ 0.00000000e+00],\n",
       "        [ 1.15249627e-03],\n",
       "        [ 0.00000000e+00],\n",
       "        [ 0.00000000e+00],\n",
       "        [ 0.00000000e+00],\n",
       "        [ 0.00000000e+00],\n",
       "        [ 0.00000000e+00],\n",
       "        [ 0.00000000e+00],\n",
       "        [ 0.00000000e+00],\n",
       "        [ 0.00000000e+00],\n",
       "        [ 4.42756759e-03],\n",
       "        [ 4.42756759e-03],\n",
       "        [ 1.01354973e-02],\n",
       "        [ 1.01354973e-02]],\n",
       "\n",
       "       [[-2.97839687e-03],\n",
       "        [-2.97839687e-03],\n",
       "        [-7.89649731e-03],\n",
       "        [-7.89649731e-03],\n",
       "        [-6.61923565e-03],\n",
       "        [-6.61923565e-03],\n",
       "        [ 0.00000000e+00],\n",
       "        [ 2.24028303e-03],\n",
       "        [-2.03132982e-03],\n",
       "        [ 0.00000000e+00],\n",
       "        [ 0.00000000e+00],\n",
       "        [ 0.00000000e+00],\n",
       "        [ 0.00000000e+00],\n",
       "        [ 2.97404454e-03],\n",
       "        [-1.48209592e-03],\n",
       "        [ 0.00000000e+00],\n",
       "        [ 0.00000000e+00],\n",
       "        [ 0.00000000e+00],\n",
       "        [ 9.99724969e-03],\n",
       "        [ 0.00000000e+00],\n",
       "        [-6.21862159e-03],\n",
       "        [-6.21862159e-03],\n",
       "        [ 7.34654262e-04],\n",
       "        [ 7.34654262e-04],\n",
       "        [ 4.54865034e-03],\n",
       "        [ 4.54865034e-03]],\n",
       "\n",
       "       [[-2.97839687e-03],\n",
       "        [-2.97839687e-03],\n",
       "        [-7.89649731e-03],\n",
       "        [-7.89649731e-03],\n",
       "        [-6.61923565e-03],\n",
       "        [-6.61923565e-03],\n",
       "        [ 0.00000000e+00],\n",
       "        [ 0.00000000e+00],\n",
       "        [ 0.00000000e+00],\n",
       "        [ 0.00000000e+00],\n",
       "        [ 0.00000000e+00],\n",
       "        [ 7.37655951e-04],\n",
       "        [ 0.00000000e+00],\n",
       "        [ 0.00000000e+00],\n",
       "        [ 0.00000000e+00],\n",
       "        [ 0.00000000e+00],\n",
       "        [ 0.00000000e+00],\n",
       "        [-3.72248031e-03],\n",
       "        [ 0.00000000e+00],\n",
       "        [ 0.00000000e+00],\n",
       "        [-6.21862159e-03],\n",
       "        [-6.21862159e-03],\n",
       "        [ 7.34654262e-04],\n",
       "        [ 7.34654262e-04],\n",
       "        [ 4.54865034e-03],\n",
       "        [ 4.54865034e-03]],\n",
       "\n",
       "       [[ 3.47104937e-03],\n",
       "        [ 3.47104937e-03],\n",
       "        [-4.83979056e-03],\n",
       "        [-4.83979056e-03],\n",
       "        [ 6.57116269e-03],\n",
       "        [ 6.57116269e-03],\n",
       "        [ 0.00000000e+00],\n",
       "        [ 1.01729831e-02],\n",
       "        [ 7.62475997e-03],\n",
       "        [ 0.00000000e+00],\n",
       "        [ 0.00000000e+00],\n",
       "        [ 0.00000000e+00],\n",
       "        [ 0.00000000e+00],\n",
       "        [ 0.00000000e+00],\n",
       "        [ 0.00000000e+00],\n",
       "        [ 0.00000000e+00],\n",
       "        [ 0.00000000e+00],\n",
       "        [ 0.00000000e+00],\n",
       "        [ 1.08244059e-02],\n",
       "        [ 1.08244059e-02],\n",
       "        [-5.01727320e-04],\n",
       "        [-5.01727320e-04],\n",
       "        [ 8.88664904e-03],\n",
       "        [ 8.88664904e-03],\n",
       "        [ 6.18695483e-03],\n",
       "        [ 6.18695483e-03]],\n",
       "\n",
       "       [[ 3.47104937e-03],\n",
       "        [ 3.47104937e-03],\n",
       "        [-4.83979056e-03],\n",
       "        [-4.83979056e-03],\n",
       "        [ 6.57116269e-03],\n",
       "        [ 6.57116269e-03],\n",
       "        [ 0.00000000e+00],\n",
       "        [ 0.00000000e+00],\n",
       "        [ 0.00000000e+00],\n",
       "        [ 0.00000000e+00],\n",
       "        [ 2.03178883e-03],\n",
       "        [ 0.00000000e+00],\n",
       "        [ 0.00000000e+00],\n",
       "        [-5.27125252e-04],\n",
       "        [ 3.26597885e-03],\n",
       "        [ 0.00000000e+00],\n",
       "        [-3.48082529e-04],\n",
       "        [ 0.00000000e+00],\n",
       "        [ 1.08244059e-02],\n",
       "        [ 1.08244059e-02],\n",
       "        [-5.01727320e-04],\n",
       "        [-5.01727320e-04],\n",
       "        [ 8.88664904e-03],\n",
       "        [ 8.88664904e-03],\n",
       "        [ 6.18695483e-03],\n",
       "        [ 6.18695483e-03]],\n",
       "\n",
       "       [[-4.93578902e-03],\n",
       "        [-4.93578902e-03],\n",
       "        [ 6.98383933e-03],\n",
       "        [ 6.98383933e-03],\n",
       "        [ 4.75673630e-03],\n",
       "        [ 4.75673630e-03],\n",
       "        [-1.72094446e-03],\n",
       "        [-1.72094446e-03],\n",
       "        [ 0.00000000e+00],\n",
       "        [ 1.48924894e-03],\n",
       "        [ 3.98438623e-03],\n",
       "        [ 0.00000000e+00],\n",
       "        [ 6.69799562e-03],\n",
       "        [ 0.00000000e+00],\n",
       "        [ 0.00000000e+00],\n",
       "        [ 0.00000000e+00],\n",
       "        [ 6.80833219e-03],\n",
       "        [ 0.00000000e+00],\n",
       "        [-5.30446444e-04],\n",
       "        [-5.30446444e-04],\n",
       "        [-9.72559932e-03],\n",
       "        [-9.72559932e-03],\n",
       "        [-6.71968966e-03],\n",
       "        [-6.71968966e-03],\n",
       "        [-4.82844171e-04],\n",
       "        [-4.82844171e-04]],\n",
       "\n",
       "       [[-4.93578902e-03],\n",
       "        [-4.93578902e-03],\n",
       "        [ 6.98383933e-03],\n",
       "        [ 6.98383933e-03],\n",
       "        [ 4.75673630e-03],\n",
       "        [ 4.75673630e-03],\n",
       "        [-1.72094446e-03],\n",
       "        [-1.72094446e-03],\n",
       "        [ 0.00000000e+00],\n",
       "        [ 0.00000000e+00],\n",
       "        [ 0.00000000e+00],\n",
       "        [ 0.00000000e+00],\n",
       "        [ 0.00000000e+00],\n",
       "        [ 0.00000000e+00],\n",
       "        [-4.50894924e-03],\n",
       "        [-4.50894924e-03],\n",
       "        [ 0.00000000e+00],\n",
       "        [ 0.00000000e+00],\n",
       "        [-5.30446444e-04],\n",
       "        [-5.30446444e-04],\n",
       "        [-9.72559932e-03],\n",
       "        [-9.72559932e-03],\n",
       "        [-6.71968966e-03],\n",
       "        [-6.71968966e-03],\n",
       "        [-4.82844171e-04],\n",
       "        [-4.82844171e-04]]])"
      ]
     },
     "execution_count": 24,
     "metadata": {},
     "output_type": "execute_result"
    }
   ],
   "source": [
    "maxpool_error"
   ]
  },
  {
   "cell_type": "markdown",
   "metadata": {},
   "source": [
    "### Retrieve the error for the convolutional layer"
   ]
  },
  {
   "cell_type": "code",
   "execution_count": 26,
   "metadata": {},
   "outputs": [
    {
     "name": "stdout",
     "output_type": "stream",
     "text": [
      "(1, 3, 3)\n"
     ]
    }
   ],
   "source": [
    "conv_error = conv_layer.back_prop(maxpool_error, 0.05)"
   ]
  },
  {
   "cell_type": "code",
   "execution_count": 28,
   "metadata": {},
   "outputs": [
    {
     "data": {
      "text/plain": [
       "array([[[-0.0008376 , -0.01263926, -0.01790705],\n",
       "        [-0.00571484, -0.01765071, -0.03023521],\n",
       "        [ 0.00227407, -0.02184834, -0.03325066]]])"
      ]
     },
     "execution_count": 28,
     "metadata": {},
     "output_type": "execute_result"
    }
   ],
   "source": [
    "conv_error"
   ]
  },
  {
   "cell_type": "code",
   "execution_count": null,
   "metadata": {},
   "outputs": [],
   "source": []
  }
 ],
 "metadata": {
  "kernelspec": {
   "display_name": "Python 3",
   "language": "python",
   "name": "python3"
  },
  "language_info": {
   "codemirror_mode": {
    "name": "ipython",
    "version": 3
   },
   "file_extension": ".py",
   "mimetype": "text/x-python",
   "name": "python",
   "nbconvert_exporter": "python",
   "pygments_lexer": "ipython3",
   "version": "3.10.6"
  },
  "orig_nbformat": 4
 },
 "nbformat": 4,
 "nbformat_minor": 2
}
