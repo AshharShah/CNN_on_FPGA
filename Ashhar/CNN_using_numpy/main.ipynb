{
 "cells": [
  {
   "cell_type": "markdown",
   "metadata": {},
   "source": [
    "# CNN From Scratch In Python! \n",
    "A Python notebook that shows how to implement CNN from scratch in python.\n",
    "\n",
    "A CNN can be divided into two parts:\n",
    "- The CNN Part (Convolution, Sigmoid, Maxpool)\n",
    "- The ANN Part (Flatten, Dense) \n",
    "\n",
    "Since our project deals with CNN models, we are only going to implement the CNN part."
   ]
  },
  {
   "cell_type": "markdown",
   "metadata": {},
   "source": [
    "## CNN PART "
   ]
  },
  {
   "cell_type": "markdown",
   "metadata": {},
   "source": [
    "### Importing the required libraries"
   ]
  },
  {
   "cell_type": "code",
   "execution_count": 1,
   "metadata": {},
   "outputs": [],
   "source": [
    "from dataset import mnist\n",
    "from conv import ConvolutionLayer\n",
    "from maxpool import MaxPoolingLayer\n",
    "from flatten import FlattenLayer\n",
    "from activations import Sigmoid\n",
    "from activations import Softmax\n",
    "\n",
    "import matplotlib.pyplot as plt\n",
    "import numpy as np"
   ]
  },
  {
   "cell_type": "markdown",
   "metadata": {},
   "source": [
    "### Getting the dataset"
   ]
  },
  {
   "cell_type": "code",
   "execution_count": 2,
   "metadata": {},
   "outputs": [
    {
     "name": "stdout",
     "output_type": "stream",
     "text": [
      "X Train Shape: (60000, 28, 28)\n",
      "Y Train Shape: (60000,)\n",
      "X Test Shape: (10000, 28, 28)\n",
      "Y Test Shape: (10000,)\n",
      "Image Shape: 28 28\n"
     ]
    }
   ],
   "source": [
    "\n",
    "(X_train, Y_train), (X_test, Y_test) = mnist.getData()\n",
    "\n",
    "print(\"X Train Shape: \" + str(X_train.shape))\n",
    "print(\"Y Train Shape: \" + str(Y_train.shape))\n",
    "print(\"X Test Shape: \" + str(X_test.shape))\n",
    "print(\"Y Test Shape: \" + str(Y_test.shape))\n",
    "\n",
    "testImage = X_train[1000]\n",
    "imgShape = X_train[0].shape\n",
    "print(\"Image Shape: \" + str(imgShape[0]) + \" \" + str(imgShape[1]))"
   ]
  },
  {
   "cell_type": "markdown",
   "metadata": {},
   "source": [
    "### Defining Our CNN ML Model"
   ]
  },
  {
   "cell_type": "code",
   "execution_count": 3,
   "metadata": {},
   "outputs": [],
   "source": [
    "conv_layer = ConvolutionLayer(1, 3)\n",
    "sigmoid_layer = Sigmoid\n",
    "pool_layer = MaxPoolingLayer(2)\n",
    "conv_layer2 = ConvolutionLayer(1, 2)\n",
    "sigmoid_layer2 = Sigmoid\n",
    "pool_layer2 = MaxPoolingLayer(2)"
   ]
  },
  {
   "cell_type": "markdown",
   "metadata": {},
   "source": [
    "### Displaying one image from our dataset"
   ]
  },
  {
   "cell_type": "code",
   "execution_count": 4,
   "metadata": {},
   "outputs": [
    {
     "name": "stdout",
     "output_type": "stream",
     "text": [
      "Shape Of One Train Image: (28, 28)\n"
     ]
    },
    {
     "data": {
      "text/plain": [
       "<matplotlib.image.AxesImage at 0x160ea407ac0>"
      ]
     },
     "execution_count": 4,
     "metadata": {},
     "output_type": "execute_result"
    },
    {
     "data": {
      "image/png": "[encoded data removed]",
      "text/plain": [
       "<Figure size 432x288 with 1 Axes>"
      ]
     },
     "metadata": {
      "needs_background": "light"
     },
     "output_type": "display_data"
    }
   ],
   "source": [
    "print(\"Shape Of One Train Image: \" + str(testImage.shape))\n",
    "plt.imshow(testImage)"
   ]
  },
  {
   "cell_type": "markdown",
   "metadata": {},
   "source": [
    "### Displaying the image after passing through convolution (Feature Map)"
   ]
  },
  {
   "cell_type": "code",
   "execution_count": 5,
   "metadata": {},
   "outputs": [
    {
     "name": "stdout",
     "output_type": "stream",
     "text": [
      "Shape Of Feature Map: (26, 26, 1)\n"
     ]
    },
    {
     "data": {
      "text/plain": [
       "<matplotlib.image.AxesImage at 0x160ec550190>"
      ]
     },
     "execution_count": 5,
     "metadata": {},
     "output_type": "execute_result"
    },
    {
     "data": {
      "image/png": "[encoded data removed]",
      "text/plain": [
       "<Figure size 432x288 with 1 Axes>"
      ]
     },
     "metadata": {
      "needs_background": "light"
     },
     "output_type": "display_data"
    }
   ],
   "source": [
    "retrieved_img = conv_layer.forward_prop(testImage)\n",
    "\n",
    "print(\"Shape Of Feature Map: \" + str(retrieved_img.shape))\n",
    "plt.imshow(retrieved_img[:,:,0])"
   ]
  },
  {
   "cell_type": "markdown",
   "metadata": {},
   "source": [
    "### Applying the sigmoid activation function"
   ]
  },
  {
   "cell_type": "code",
   "execution_count": 6,
   "metadata": {},
   "outputs": [
    {
     "data": {
      "text/plain": [
       "<matplotlib.image.AxesImage at 0x160ec59b010>"
      ]
     },
     "execution_count": 6,
     "metadata": {},
     "output_type": "execute_result"
    },
    {
     "data": {
      "image/png": "[encoded data removed]",
      "text/plain": [
       "<Figure size 432x288 with 1 Axes>"
      ]
     },
     "metadata": {
      "needs_background": "light"
     },
     "output_type": "display_data"
    }
   ],
   "source": [
    "retrieved_img = sigmoid_layer.sigmoid(retrieved_img)\n",
    "plt.imshow(retrieved_img)"
   ]
  },
  {
   "cell_type": "markdown",
   "metadata": {},
   "source": [
    "### Displaying the reduced feature map (Max Pooling)"
   ]
  },
  {
   "cell_type": "code",
   "execution_count": 7,
   "metadata": {},
   "outputs": [
    {
     "name": "stdout",
     "output_type": "stream",
     "text": [
      "Shape Of Reduced Feature Map: (13, 13, 1)\n"
     ]
    },
    {
     "data": {
      "text/plain": [
       "<matplotlib.image.AxesImage at 0x160ec5fe200>"
      ]
     },
     "execution_count": 7,
     "metadata": {},
     "output_type": "execute_result"
    },
    {
     "data": {
      "image/png": "[encoded data removed]",
      "text/plain": [
       "<Figure size 432x288 with 1 Axes>"
      ]
     },
     "metadata": {
      "needs_background": "light"
     },
     "output_type": "display_data"
    }
   ],
   "source": [
    "max_pool_img = pool_layer.forward_prop(retrieved_img)\n",
    "print(\"Shape Of Reduced Feature Map: \" + str(max_pool_img.shape))\n",
    "plt.imshow(max_pool_img[:,:,0])"
   ]
  },
  {
   "cell_type": "markdown",
   "metadata": {},
   "source": [
    "### Testing the flatten layer"
   ]
  },
  {
   "cell_type": "code",
   "execution_count": 8,
   "metadata": {},
   "outputs": [
    {
     "name": "stdout",
     "output_type": "stream",
     "text": [
      "Shape of flattened image: (169,)\n",
      "It should be equal to: 169\n"
     ]
    }
   ],
   "source": [
    "flattened_image = FlattenLayer.forward(max_pool_img)\n",
    "print(\"Shape of flattened image: \" + str(flattened_image.shape))\n",
    "print(\"It should be equal to: \" + str(max_pool_img.shape[0] * max_pool_img.shape[1] * max_pool_img.shape[2]))"
   ]
  },
  {
   "cell_type": "markdown",
   "metadata": {},
   "source": [
    "### Apply another CNN layer"
   ]
  },
  {
   "cell_type": "code",
   "execution_count": 9,
   "metadata": {},
   "outputs": [
    {
     "data": {
      "text/plain": [
       "<matplotlib.image.AxesImage at 0x160ec675990>"
      ]
     },
     "execution_count": 9,
     "metadata": {},
     "output_type": "execute_result"
    },
    {
     "data": {
      "image/png": "[encoded data removed]",
      "text/plain": [
       "<Figure size 432x288 with 1 Axes>"
      ]
     },
     "metadata": {
      "needs_background": "light"
     },
     "output_type": "display_data"
    }
   ],
   "source": [
    "output2 = conv_layer2.forward_prop(max_pool_img[:, :, 0])\n",
    "plt.imshow(output2)"
   ]
  },
  {
   "cell_type": "code",
   "execution_count": 10,
   "metadata": {},
   "outputs": [
    {
     "data": {
      "text/plain": [
       "<matplotlib.image.AxesImage at 0x160ec6e46a0>"
      ]
     },
     "execution_count": 10,
     "metadata": {},
     "output_type": "execute_result"
    },
    {
     "data": {
      "image/png": "[encoded data removed]",
      "text/plain": [
       "<Figure size 432x288 with 1 Axes>"
      ]
     },
     "metadata": {
      "needs_background": "light"
     },
     "output_type": "display_data"
    }
   ],
   "source": [
    "output2 = sigmoid_layer2.sigmoid(output2)\n",
    "plt.imshow(output2)"
   ]
  },
  {
   "cell_type": "code",
   "execution_count": 11,
   "metadata": {},
   "outputs": [
    {
     "data": {
      "text/plain": [
       "<matplotlib.image.AxesImage at 0x160ec72b460>"
      ]
     },
     "execution_count": 11,
     "metadata": {},
     "output_type": "execute_result"
    },
    {
     "data": {
      "image/png": "[encoded data removed]",
      "text/plain": [
       "<Figure size 432x288 with 1 Axes>"
      ]
     },
     "metadata": {
      "needs_background": "light"
     },
     "output_type": "display_data"
    }
   ],
   "source": [
    "output2 = pool_layer2.forward_prop(output2)\n",
    "plt.imshow(output2)"
   ]
  },
  {
   "cell_type": "markdown",
   "metadata": {},
   "source": [
    "We see that the image detoriates and it would not be fiseable to use another convolutional layer for our model hence we will only use one convolutional layer."
   ]
  },
  {
   "cell_type": "markdown",
   "metadata": {},
   "source": [
    "## ANN Part \n",
    "Now since we are done with the CNN part of the project, we now move on to the ANN part in which we use the dense layer to determine the output of which class does the image belong to."
   ]
  },
  {
   "cell_type": "markdown",
   "metadata": {},
   "source": [
    "### Softmax layer\n",
    "Here we import our softmax layer which acts as a dense layer for the CNN, it performs the the flatteneing of the image and then performs the dot product with the weights and adds bias after which it implements the softmax function.\n",
    "\n",
    "It takes as input, the shape of the input image and the number of classes in the dataset."
   ]
  },
  {
   "cell_type": "code",
   "execution_count": 12,
   "metadata": {},
   "outputs": [],
   "source": [
    "softmax_layer = Softmax(max_pool_img.shape[0] * max_pool_img.shape[1] * max_pool_img.shape[2], 10)"
   ]
  },
  {
   "cell_type": "code",
   "execution_count": 13,
   "metadata": {},
   "outputs": [],
   "source": [
    "softmax_layer_output = softmax_layer.forward(max_pool_img)"
   ]
  },
  {
   "cell_type": "markdown",
   "metadata": {},
   "source": [
    "Below we can see the initial probablities which we will train with the help of backward propogation."
   ]
  },
  {
   "cell_type": "code",
   "execution_count": 14,
   "metadata": {},
   "outputs": [
    {
     "name": "stdout",
     "output_type": "stream",
     "text": [
      "[0.09731397 0.10516082 0.10338404 0.10416053 0.0950453  0.10119441\n",
      " 0.09376006 0.09819874 0.10342118 0.09836095]\n"
     ]
    }
   ],
   "source": [
    "print(softmax_layer_output)"
   ]
  },
  {
   "cell_type": "markdown",
   "metadata": {},
   "source": [
    "### Compute the loss (cross-entropy)"
   ]
  },
  {
   "cell_type": "code",
   "execution_count": 15,
   "metadata": {},
   "outputs": [],
   "source": [
    "# Compute loss (cross-entropy)\n",
    "loss = -np.log(softmax_layer_output[0])"
   ]
  },
  {
   "cell_type": "code",
   "execution_count": 16,
   "metadata": {},
   "outputs": [
    {
     "name": "stdout",
     "output_type": "stream",
     "text": [
      "2.3298126824182694\n"
     ]
    }
   ],
   "source": [
    "print(loss)"
   ]
  },
  {
   "cell_type": "markdown",
   "metadata": {},
   "source": [
    "### Compute the loss accuracy\n",
    "0 if did not correctly identify, 1 if correctly identifies"
   ]
  },
  {
   "cell_type": "code",
   "execution_count": 17,
   "metadata": {},
   "outputs": [],
   "source": [
    "accuracy = 1 if np.argmax(softmax_layer_output) == 0 else 0"
   ]
  },
  {
   "cell_type": "code",
   "execution_count": 18,
   "metadata": {},
   "outputs": [
    {
     "name": "stdout",
     "output_type": "stream",
     "text": [
      "0\n"
     ]
    }
   ],
   "source": [
    "print(accuracy)"
   ]
  },
  {
   "cell_type": "markdown",
   "metadata": {},
   "source": [
    "### Initialize the gradient vector (dE_dY)"
   ]
  },
  {
   "cell_type": "code",
   "execution_count": 19,
   "metadata": {},
   "outputs": [],
   "source": [
    "gradient = np.zeros(10)\n",
    "gradient[0] = -1/softmax_layer_output[0]"
   ]
  },
  {
   "cell_type": "code",
   "execution_count": 20,
   "metadata": {},
   "outputs": [
    {
     "name": "stdout",
     "output_type": "stream",
     "text": [
      "[-10.27601647   0.           0.           0.           0.\n",
      "   0.           0.           0.           0.           0.        ]\n"
     ]
    }
   ],
   "source": [
    "print(gradient)"
   ]
  },
  {
   "cell_type": "code",
   "execution_count": 21,
   "metadata": {},
   "outputs": [
    {
     "name": "stdout",
     "output_type": "stream",
     "text": [
      "(13, 13, 1)\n"
     ]
    },
    {
     "data": {
      "text/plain": [
       "array([[[-3.77759460e-04],\n",
       "        [-8.78766382e-03],\n",
       "        [ 2.38609960e-03],\n",
       "        [-5.21309372e-03],\n",
       "        [-2.62156283e-03],\n",
       "        [-7.50959890e-03],\n",
       "        [ 9.88392694e-03],\n",
       "        [-1.33630839e-03],\n",
       "        [ 3.99360164e-03],\n",
       "        [-7.36867720e-03],\n",
       "        [ 1.86177120e-03],\n",
       "        [ 3.03559568e-03],\n",
       "        [ 1.75655349e-03]],\n",
       "\n",
       "       [[ 2.50097246e-03],\n",
       "        [ 1.69701554e-03],\n",
       "        [ 1.72789711e-03],\n",
       "        [-8.30908080e-03],\n",
       "        [ 8.76438517e-03],\n",
       "        [-3.32972361e-03],\n",
       "        [-1.77251493e-03],\n",
       "        [-3.29921780e-03],\n",
       "        [ 2.32712947e-03],\n",
       "        [ 6.12865558e-03],\n",
       "        [-1.21483092e-02],\n",
       "        [ 6.63367751e-03],\n",
       "        [ 2.78408110e-03]],\n",
       "\n",
       "       [[-7.79600987e-03],\n",
       "        [-3.48520465e-03],\n",
       "        [-9.98327920e-04],\n",
       "        [ 8.63801255e-03],\n",
       "        [ 1.27910241e-04],\n",
       "        [ 1.72480531e-03],\n",
       "        [-4.18840073e-03],\n",
       "        [ 7.87761263e-04],\n",
       "        [ 8.57426239e-03],\n",
       "        [ 5.21773360e-05],\n",
       "        [-7.65880876e-03],\n",
       "        [ 9.81919822e-03],\n",
       "        [ 3.22300670e-03]],\n",
       "\n",
       "       [[-5.69738665e-03],\n",
       "        [ 1.19570790e-03],\n",
       "        [-4.14580161e-04],\n",
       "        [ 1.91473684e-03],\n",
       "        [ 9.21145143e-04],\n",
       "        [-5.70293508e-03],\n",
       "        [ 5.57987825e-03],\n",
       "        [ 3.86000661e-04],\n",
       "        [ 4.71473094e-03],\n",
       "        [ 5.00765389e-03],\n",
       "        [-3.08479219e-03],\n",
       "        [-6.43434266e-03],\n",
       "        [-5.98580261e-03]],\n",
       "\n",
       "       [[ 5.04158389e-03],\n",
       "        [-1.76387201e-03],\n",
       "        [-4.17283492e-03],\n",
       "        [ 8.31546114e-03],\n",
       "        [-3.87407060e-03],\n",
       "        [-2.79921564e-03],\n",
       "        [-8.17707927e-04],\n",
       "        [ 7.68805527e-04],\n",
       "        [-6.01232048e-03],\n",
       "        [ 5.47979671e-04],\n",
       "        [-2.58846823e-04],\n",
       "        [ 4.39642908e-03],\n",
       "        [-9.58629360e-04]],\n",
       "\n",
       "       [[ 3.91399673e-04],\n",
       "        [-3.07403601e-05],\n",
       "        [-1.84685200e-03],\n",
       "        [ 1.13540778e-03],\n",
       "        [ 9.60363672e-04],\n",
       "        [ 7.01568118e-03],\n",
       "        [ 4.82456689e-03],\n",
       "        [ 1.10019699e-02],\n",
       "        [ 1.74529723e-03],\n",
       "        [ 7.61473431e-04],\n",
       "        [-9.92304201e-04],\n",
       "        [ 4.86632276e-03],\n",
       "        [ 1.03161040e-03]],\n",
       "\n",
       "       [[ 4.92751305e-03],\n",
       "        [-8.17701454e-03],\n",
       "        [-2.67953800e-03],\n",
       "        [ 1.80390755e-03],\n",
       "        [ 8.27353961e-04],\n",
       "        [-7.44806455e-03],\n",
       "        [ 1.03151111e-02],\n",
       "        [ 1.78108852e-03],\n",
       "        [ 8.07533354e-03],\n",
       "        [-3.34090139e-06],\n",
       "        [ 3.64309305e-03],\n",
       "        [ 8.39123616e-04],\n",
       "        [-9.24817298e-04]],\n",
       "\n",
       "       [[-9.91199568e-03],\n",
       "        [-1.02053727e-03],\n",
       "        [ 7.61659186e-03],\n",
       "        [-6.93671627e-03],\n",
       "        [ 3.47762089e-04],\n",
       "        [ 3.06031754e-03],\n",
       "        [ 5.61156020e-03],\n",
       "        [ 2.83252615e-03],\n",
       "        [ 2.52442531e-03],\n",
       "        [ 1.06162085e-03],\n",
       "        [-7.02546589e-03],\n",
       "        [ 4.32892068e-03],\n",
       "        [ 8.96105043e-03]],\n",
       "\n",
       "       [[-6.62455584e-03],\n",
       "        [ 5.92363016e-03],\n",
       "        [ 8.80886651e-03],\n",
       "        [-4.14672362e-03],\n",
       "        [ 1.10876434e-03],\n",
       "        [ 3.16081401e-04],\n",
       "        [-2.70412792e-03],\n",
       "        [ 2.55839411e-03],\n",
       "        [-1.27112261e-03],\n",
       "        [-2.98798146e-03],\n",
       "        [-6.26194736e-03],\n",
       "        [-2.19891087e-03],\n",
       "        [-8.96577324e-04]],\n",
       "\n",
       "       [[-1.09945682e-04],\n",
       "        [-2.87432350e-03],\n",
       "        [ 8.56354375e-04],\n",
       "        [ 4.23934607e-03],\n",
       "        [-2.28340124e-03],\n",
       "        [ 2.44008161e-03],\n",
       "        [ 1.38607574e-03],\n",
       "        [ 2.52843426e-03],\n",
       "        [ 5.72829562e-03],\n",
       "        [ 3.39034529e-03],\n",
       "        [-4.97029390e-03],\n",
       "        [ 8.41284806e-03],\n",
       "        [ 9.60847179e-03]],\n",
       "\n",
       "       [[-1.78224510e-03],\n",
       "        [-8.29305540e-04],\n",
       "        [ 2.93756532e-03],\n",
       "        [-2.09596865e-03],\n",
       "        [ 2.96542547e-04],\n",
       "        [-3.17414398e-03],\n",
       "        [ 7.92175549e-03],\n",
       "        [ 4.85040203e-04],\n",
       "        [-5.80328545e-03],\n",
       "        [-7.65446901e-03],\n",
       "        [ 9.87240171e-04],\n",
       "        [ 2.82831857e-03],\n",
       "        [-6.61037067e-03]],\n",
       "\n",
       "       [[ 4.65683115e-03],\n",
       "        [-1.56940487e-04],\n",
       "        [-6.16568462e-03],\n",
       "        [ 1.10469626e-02],\n",
       "        [ 1.18743692e-03],\n",
       "        [-7.30452613e-03],\n",
       "        [-3.78317315e-03],\n",
       "        [ 6.68606075e-03],\n",
       "        [ 5.25802793e-03],\n",
       "        [ 3.52132632e-03],\n",
       "        [-1.18589172e-02],\n",
       "        [ 3.77778479e-03],\n",
       "        [ 5.21314792e-03]],\n",
       "\n",
       "       [[-6.59613919e-03],\n",
       "        [ 9.74563803e-03],\n",
       "        [ 4.02648935e-03],\n",
       "        [-3.51333836e-03],\n",
       "        [-1.09317095e-02],\n",
       "        [ 3.91238499e-03],\n",
       "        [-7.04299987e-03],\n",
       "        [-6.36521782e-03],\n",
       "        [ 7.79425329e-03],\n",
       "        [-1.98418887e-03],\n",
       "        [-2.85869944e-03],\n",
       "        [ 3.36388479e-03],\n",
       "        [-2.19481295e-03]]])"
      ]
     },
     "execution_count": 21,
     "metadata": {},
     "output_type": "execute_result"
    }
   ],
   "source": [
    "softmax_layer.backward(gradient, 0.05)"
   ]
  }
 ],
 "metadata": {
  "kernelspec": {
   "display_name": "Python 3",
   "language": "python",
   "name": "python3"
  },
  "language_info": {
   "codemirror_mode": {
    "name": "ipython",
    "version": 3
   },
   "file_extension": ".py",
   "mimetype": "text/x-python",
   "name": "python",
   "nbconvert_exporter": "python",
   "pygments_lexer": "ipython3",
   "version": "3.10.6"
  },
  "orig_nbformat": 4
 },
 "nbformat": 4,
 "nbformat_minor": 2
}
