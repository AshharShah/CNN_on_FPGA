{
 "cells": [
  {
   "cell_type": "markdown",
   "metadata": {},
   "source": [
    "# CNN From Scratch In Python! \n",
    "A Python notebook that shows how to implement CNN from scratch in python.\n",
    "\n",
    "A CNN can be divided into two parts:\n",
    "- The CNN Part (Convolution, Sigmoid, Maxpool)\n",
    "- The ANN Part (Flatten, Dense) \n",
    "\n",
    "Since our project deals with CNN models, we are only going to implement the CNN part."
   ]
  },
  {
   "cell_type": "markdown",
   "metadata": {},
   "source": [
    "## CNN PART "
   ]
  },
  {
   "cell_type": "markdown",
   "metadata": {},
   "source": [
    "### Importing the required libraries"
   ]
  },
  {
   "cell_type": "code",
   "execution_count": 21,
   "metadata": {},
   "outputs": [],
   "source": [
    "from dataset import mnist\n",
    "from conv import ConvolutionLayer\n",
    "from maxpool import MaxPoolingLayer\n",
    "from flatten import FlattenLayer\n",
    "from activations import Sigmoid\n",
    "import matplotlib.pyplot as plt"
   ]
  },
  {
   "cell_type": "markdown",
   "metadata": {},
   "source": [
    "### Getting the dataset"
   ]
  },
  {
   "cell_type": "code",
   "execution_count": 22,
   "metadata": {},
   "outputs": [
    {
     "name": "stdout",
     "output_type": "stream",
     "text": [
      "X Train Shape: (60000, 28, 28)\n",
      "Y Train Shape: (60000,)\n",
      "X Test Shape: (10000, 28, 28)\n",
      "Y Test Shape: (10000,)\n",
      "Image Shape: 28 28\n"
     ]
    }
   ],
   "source": [
    "\n",
    "(X_train, Y_train), (X_test, Y_test) = mnist.getData()\n",
    "\n",
    "print(\"X Train Shape: \" + str(X_train.shape))\n",
    "print(\"Y Train Shape: \" + str(Y_train.shape))\n",
    "print(\"X Test Shape: \" + str(X_test.shape))\n",
    "print(\"Y Test Shape: \" + str(Y_test.shape))\n",
    "\n",
    "testImage = X_train[1000]\n",
    "imgShape = X_train[0].shape\n",
    "print(\"Image Shape: \" + str(imgShape[0]) + \" \" + str(imgShape[1]))"
   ]
  },
  {
   "cell_type": "markdown",
   "metadata": {},
   "source": [
    "### Defining Our CNN ML Model"
   ]
  },
  {
   "cell_type": "code",
   "execution_count": 23,
   "metadata": {},
   "outputs": [],
   "source": [
    "conv_layer = ConvolutionLayer(1, 3)\n",
    "sigmoid_layer = Sigmoid\n",
    "pool_layer = MaxPoolingLayer(2)\n",
    "conv_layer2 = ConvolutionLayer(1, 2)\n",
    "sigmoid_layer2 = Sigmoid\n",
    "pool_layer2 = MaxPoolingLayer(2)"
   ]
  },
  {
   "cell_type": "markdown",
   "metadata": {},
   "source": [
    "### Displaying one image from our dataset"
   ]
  },
  {
   "cell_type": "code",
   "execution_count": 24,
   "metadata": {},
   "outputs": [
    {
     "name": "stdout",
     "output_type": "stream",
     "text": [
      "Shape Of One Train Image: (28, 28)\n"
     ]
    },
    {
     "data": {
      "text/plain": [
       "<matplotlib.image.AxesImage at 0x156e2fdb250>"
      ]
     },
     "execution_count": 24,
     "metadata": {},
     "output_type": "execute_result"
    },
    {
     "data": {
      "image/png": "[encoded data removed]",
      "text/plain": [
       "<Figure size 432x288 with 1 Axes>"
      ]
     },
     "metadata": {
      "needs_background": "light"
     },
     "output_type": "display_data"
    }
   ],
   "source": [
    "print(\"Shape Of One Train Image: \" + str(testImage.shape))\n",
    "plt.imshow(testImage)"
   ]
  },
  {
   "cell_type": "markdown",
   "metadata": {},
   "source": []
  },
  {
   "cell_type": "markdown",
   "metadata": {},
   "source": [
    "### Displaying the image after passing through convolution (Feature Map)"
   ]
  },
  {
   "cell_type": "code",
   "execution_count": 25,
   "metadata": {},
   "outputs": [
    {
     "name": "stdout",
     "output_type": "stream",
     "text": [
      "Shape Of Feature Map: (26, 26, 1)\n"
     ]
    },
    {
     "data": {
      "text/plain": [
       "<matplotlib.image.AxesImage at 0x156e30197b0>"
      ]
     },
     "execution_count": 25,
     "metadata": {},
     "output_type": "execute_result"
    },
    {
     "data": {
      "image/png": "[encoded data removed]",
      "text/plain": [
       "<Figure size 432x288 with 1 Axes>"
      ]
     },
     "metadata": {
      "needs_background": "light"
     },
     "output_type": "display_data"
    }
   ],
   "source": [
    "retrieved_img = conv_layer.forward_prop(testImage)\n",
    "\n",
    "print(\"Shape Of Feature Map: \" + str(retrieved_img.shape))\n",
    "plt.imshow(retrieved_img[:,:,0])"
   ]
  },
  {
   "cell_type": "markdown",
   "metadata": {},
   "source": [
    "### Applying the sigmoid activation function"
   ]
  },
  {
   "cell_type": "code",
   "execution_count": 26,
   "metadata": {},
   "outputs": [
    {
     "data": {
      "text/plain": [
       "<matplotlib.image.AxesImage at 0x156e3074700>"
      ]
     },
     "execution_count": 26,
     "metadata": {},
     "output_type": "execute_result"
    },
    {
     "data": {
      "image/png": "[encoded data removed]",
      "text/plain": [
       "<Figure size 432x288 with 1 Axes>"
      ]
     },
     "metadata": {
      "needs_background": "light"
     },
     "output_type": "display_data"
    }
   ],
   "source": [
    "retrieved_img = sigmoid_layer.sigmoid(retrieved_img)\n",
    "plt.imshow(retrieved_img)"
   ]
  },
  {
   "cell_type": "markdown",
   "metadata": {},
   "source": [
    "### Displaying the reduced feature map (Max Pooling)"
   ]
  },
  {
   "cell_type": "code",
   "execution_count": 27,
   "metadata": {},
   "outputs": [
    {
     "name": "stdout",
     "output_type": "stream",
     "text": [
      "Shape Of Reduced Feature Map: (13, 13, 1)\n"
     ]
    },
    {
     "data": {
      "text/plain": [
       "<matplotlib.image.AxesImage at 0x156c5611f90>"
      ]
     },
     "execution_count": 27,
     "metadata": {},
     "output_type": "execute_result"
    },
    {
     "data": {
      "image/png": "[encoded data removed]",
      "text/plain": [
       "<Figure size 432x288 with 1 Axes>"
      ]
     },
     "metadata": {
      "needs_background": "light"
     },
     "output_type": "display_data"
    }
   ],
   "source": [
    "max_pool_img = pool_layer.forward_prop(retrieved_img)\n",
    "print(\"Shape Of Reduced Feature Map: \" + str(max_pool_img.shape))\n",
    "plt.imshow(max_pool_img[:,:,0])"
   ]
  },
  {
   "cell_type": "markdown",
   "metadata": {},
   "source": [
    "### Testing the flatten layer"
   ]
  },
  {
   "cell_type": "code",
   "execution_count": 28,
   "metadata": {},
   "outputs": [
    {
     "name": "stdout",
     "output_type": "stream",
     "text": [
      "Shape of flattened image: (169,)\n",
      "It should be equal to: 169\n"
     ]
    }
   ],
   "source": [
    "flattened_image = FlattenLayer.forward(max_pool_img)\n",
    "print(\"Shape of flattened image: \" + str(flattened_image.shape))\n",
    "print(\"It should be equal to: \" + str(max_pool_img.shape[0] * max_pool_img.shape[1] * max_pool_img.shape[2]))"
   ]
  },
  {
   "cell_type": "markdown",
   "metadata": {},
   "source": [
    "### Apply another CNN layer"
   ]
  },
  {
   "cell_type": "code",
   "execution_count": 29,
   "metadata": {},
   "outputs": [
    {
     "data": {
      "text/plain": [
       "<matplotlib.image.AxesImage at 0x156c567e650>"
      ]
     },
     "execution_count": 29,
     "metadata": {},
     "output_type": "execute_result"
    },
    {
     "data": {
      "image/png": "[encoded data removed]",
      "text/plain": [
       "<Figure size 432x288 with 1 Axes>"
      ]
     },
     "metadata": {
      "needs_background": "light"
     },
     "output_type": "display_data"
    }
   ],
   "source": [
    "output2 = conv_layer2.forward_prop(max_pool_img[:, :, 0])\n",
    "plt.imshow(output2)"
   ]
  },
  {
   "cell_type": "code",
   "execution_count": 30,
   "metadata": {},
   "outputs": [
    {
     "data": {
      "text/plain": [
       "<matplotlib.image.AxesImage at 0x156c56e53f0>"
      ]
     },
     "execution_count": 30,
     "metadata": {},
     "output_type": "execute_result"
    },
    {
     "data": {
      "image/png": "[encoded data removed]",
      "text/plain": [
       "<Figure size 432x288 with 1 Axes>"
      ]
     },
     "metadata": {
      "needs_background": "light"
     },
     "output_type": "display_data"
    }
   ],
   "source": [
    "output2 = sigmoid_layer2.sigmoid(output2)\n",
    "plt.imshow(output2)"
   ]
  },
  {
   "cell_type": "code",
   "execution_count": 31,
   "metadata": {},
   "outputs": [
    {
     "data": {
      "text/plain": [
       "<matplotlib.image.AxesImage at 0x156c5758070>"
      ]
     },
     "execution_count": 31,
     "metadata": {},
     "output_type": "execute_result"
    },
    {
     "data": {
      "image/png": "[encoded data removed]",
      "text/plain": [
       "<Figure size 432x288 with 1 Axes>"
      ]
     },
     "metadata": {
      "needs_background": "light"
     },
     "output_type": "display_data"
    }
   ],
   "source": [
    "output2 = pool_layer2.forward_prop(output2)\n",
    "plt.imshow(output2)"
   ]
  },
  {
   "cell_type": "markdown",
   "metadata": {},
   "source": [
    "We see that the image detoriates and it would not be fiseable to use another convolutional layer for our model hence we will only use one convolutional layer."
   ]
  }
 ],
 "metadata": {
  "kernelspec": {
   "display_name": "Python 3",
   "language": "python",
   "name": "python3"
  },
  "language_info": {
   "codemirror_mode": {
    "name": "ipython",
    "version": 3
   },
   "file_extension": ".py",
   "mimetype": "text/x-python",
   "name": "python",
   "nbconvert_exporter": "python",
   "pygments_lexer": "ipython3",
   "version": "3.10.6"
  },
  "orig_nbformat": 4
 },
 "nbformat": 4,
 "nbformat_minor": 2
}
