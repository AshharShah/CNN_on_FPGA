{
 "cells": [
  {
   "cell_type": "markdown",
   "metadata": {},
   "source": [
    "# CNN From Scratch In Python! \n",
    "A Python notebook that shows how to implement CNN from scratch in python.\n",
    "\n",
    "A CNN can be divided into two parts:\n",
    "- The CNN Part (Convolution, Sigmoid, Maxpool)\n",
    "- The ANN Part (Flatten, Dense) \n",
    "\n",
    "Since our project deals with CNN models, we are only going to implement the CNN part."
   ]
  },
  {
   "cell_type": "markdown",
   "metadata": {},
   "source": [
    "## CNN PART "
   ]
  },
  {
   "cell_type": "markdown",
   "metadata": {},
   "source": [
    "### Importing the required libraries"
   ]
  },
  {
   "cell_type": "code",
   "execution_count": 1,
   "metadata": {},
   "outputs": [
    {
     "name": "stderr",
     "output_type": "stream",
     "text": [
      "2023-08-07 18:03:33.265897: I tensorflow/tsl/cuda/cudart_stub.cc:28] Could not find cuda drivers on your machine, GPU will not be used.\n",
      "2023-08-07 18:03:33.341593: I tensorflow/tsl/cuda/cudart_stub.cc:28] Could not find cuda drivers on your machine, GPU will not be used.\n",
      "2023-08-07 18:03:34.506740: W tensorflow/compiler/tf2tensorrt/utils/py_utils.cc:38] TF-TRT Warning: Could not find TensorRT\n"
     ]
    }
   ],
   "source": [
    "from dataset import mnist\n",
    "from conv import ConvolutionLayer\n",
    "from maxpool import MaxPoolingLayer\n",
    "from flatten import FlattenLayer\n",
    "from activations import Sigmoid\n",
    "from activations import Softmax\n",
    "\n",
    "import matplotlib.pyplot as plt\n",
    "import numpy as np"
   ]
  },
  {
   "cell_type": "markdown",
   "metadata": {},
   "source": [
    "### Getting the dataset"
   ]
  },
  {
   "cell_type": "code",
   "execution_count": 2,
   "metadata": {},
   "outputs": [
    {
     "name": "stdout",
     "output_type": "stream",
     "text": [
      "X Train Shape: (60000, 28, 28)\n",
      "Y Train Shape: (60000,)\n",
      "X Test Shape: (10000, 28, 28)\n",
      "Y Test Shape: (10000,)\n",
      "Image Shape: 28 28\n"
     ]
    }
   ],
   "source": [
    "\n",
    "(X_train, Y_train), (X_test, Y_test) = mnist.getData()\n",
    "\n",
    "print(\"X Train Shape: \" + str(X_train.shape))\n",
    "print(\"Y Train Shape: \" + str(Y_train.shape))\n",
    "print(\"X Test Shape: \" + str(X_test.shape))\n",
    "print(\"Y Test Shape: \" + str(Y_test.shape))\n",
    "\n",
    "testImage = X_train[1000]\n",
    "imgShape = X_train[0].shape\n",
    "print(\"Image Shape: \" + str(imgShape[0]) + \" \" + str(imgShape[1]))"
   ]
  },
  {
   "cell_type": "markdown",
   "metadata": {},
   "source": [
    "### Defining Our CNN ML Model"
   ]
  },
  {
   "cell_type": "code",
   "execution_count": 3,
   "metadata": {},
   "outputs": [],
   "source": [
    "conv_layer = ConvolutionLayer(1, 3)\n",
    "sigmoid_layer = Sigmoid\n",
    "pool_layer = MaxPoolingLayer(2)\n",
    "conv_layer2 = ConvolutionLayer(1, 2)\n",
    "sigmoid_layer2 = Sigmoid\n",
    "pool_layer2 = MaxPoolingLayer(2)"
   ]
  },
  {
   "cell_type": "markdown",
   "metadata": {},
   "source": [
    "### Displaying one image from our dataset"
   ]
  },
  {
   "cell_type": "code",
   "execution_count": 4,
   "metadata": {},
   "outputs": [
    {
     "name": "stdout",
     "output_type": "stream",
     "text": [
      "Shape Of One Train Image: (28, 28)\n"
     ]
    },
    {
     "data": {
      "text/plain": [
       "<matplotlib.image.AxesImage at 0x7fdb7f233250>"
      ]
     },
     "execution_count": 4,
     "metadata": {},
     "output_type": "execute_result"
    },
    {
     "data": {
      "image/png": "[encoded data removed]",
      "text/plain": [
       "<Figure size 432x288 with 1 Axes>"
      ]
     },
     "metadata": {
      "needs_background": "light"
     },
     "output_type": "display_data"
    }
   ],
   "source": [
    "print(\"Shape Of One Train Image: \" + str(testImage.shape))\n",
    "plt.imshow(testImage)"
   ]
  },
  {
   "cell_type": "markdown",
   "metadata": {},
   "source": [
    "### Displaying the image after passing through convolution (Feature Map)"
   ]
  },
  {
   "cell_type": "code",
   "execution_count": 5,
   "metadata": {},
   "outputs": [
    {
     "name": "stdout",
     "output_type": "stream",
     "text": [
      "Shape Of Feature Map: (26, 26, 1)\n"
     ]
    },
    {
     "data": {
      "text/plain": [
       "<matplotlib.image.AxesImage at 0x7fdb7d0ef460>"
      ]
     },
     "execution_count": 5,
     "metadata": {},
     "output_type": "execute_result"
    },
    {
     "data": {
      "image/png": "[encoded data removed]",
      "text/plain": [
       "<Figure size 432x288 with 1 Axes>"
      ]
     },
     "metadata": {
      "needs_background": "light"
     },
     "output_type": "display_data"
    }
   ],
   "source": [
    "retrieved_img = conv_layer.forward_prop(testImage)\n",
    "\n",
    "print(\"Shape Of Feature Map: \" + str(retrieved_img.shape))\n",
    "plt.imshow(retrieved_img[:,:,0])"
   ]
  },
  {
   "cell_type": "markdown",
   "metadata": {},
   "source": [
    "### Applying the sigmoid activation function"
   ]
  },
  {
   "cell_type": "code",
   "execution_count": 6,
   "metadata": {},
   "outputs": [
    {
     "data": {
      "text/plain": [
       "<matplotlib.image.AxesImage at 0x7fdb7cf666b0>"
      ]
     },
     "execution_count": 6,
     "metadata": {},
     "output_type": "execute_result"
    },
    {
     "data": {
      "image/png": "[encoded data removed]",
      "text/plain": [
       "<Figure size 432x288 with 1 Axes>"
      ]
     },
     "metadata": {
      "needs_background": "light"
     },
     "output_type": "display_data"
    }
   ],
   "source": [
    "retrieved_img = sigmoid_layer.sigmoid(retrieved_img)\n",
    "plt.imshow(retrieved_img)"
   ]
  },
  {
   "cell_type": "markdown",
   "metadata": {},
   "source": [
    "### Displaying the reduced feature map (Max Pooling)"
   ]
  },
  {
   "cell_type": "code",
   "execution_count": 7,
   "metadata": {},
   "outputs": [
    {
     "name": "stdout",
     "output_type": "stream",
     "text": [
      "Shape Of Reduced Feature Map: (13, 13, 1)\n"
     ]
    },
    {
     "data": {
      "text/plain": [
       "<matplotlib.image.AxesImage at 0x7fdb7cfd16c0>"
      ]
     },
     "execution_count": 7,
     "metadata": {},
     "output_type": "execute_result"
    },
    {
     "data": {
      "image/png": "[encoded data removed]",
      "text/plain": [
       "<Figure size 432x288 with 1 Axes>"
      ]
     },
     "metadata": {
      "needs_background": "light"
     },
     "output_type": "display_data"
    }
   ],
   "source": [
    "max_pool_img = pool_layer.forward_prop(retrieved_img)\n",
    "print(\"Shape Of Reduced Feature Map: \" + str(max_pool_img.shape))\n",
    "plt.imshow(max_pool_img[:,:,0])"
   ]
  },
  {
   "cell_type": "markdown",
   "metadata": {},
   "source": [
    "### Testing the flatten layer"
   ]
  },
  {
   "cell_type": "code",
   "execution_count": 8,
   "metadata": {},
   "outputs": [
    {
     "name": "stdout",
     "output_type": "stream",
     "text": [
      "Shape of flattened image: (169,)\n",
      "It should be equal to: 169\n"
     ]
    }
   ],
   "source": [
    "flattened_image = FlattenLayer.forward(max_pool_img)\n",
    "print(\"Shape of flattened image: \" + str(flattened_image.shape))\n",
    "print(\"It should be equal to: \" + str(max_pool_img.shape[0] * max_pool_img.shape[1] * max_pool_img.shape[2]))"
   ]
  },
  {
   "cell_type": "markdown",
   "metadata": {},
   "source": [
    "### Apply another CNN layer"
   ]
  },
  {
   "cell_type": "code",
   "execution_count": 9,
   "metadata": {},
   "outputs": [
    {
     "data": {
      "text/plain": [
       "<matplotlib.image.AxesImage at 0x7fdb7ce44f70>"
      ]
     },
     "execution_count": 9,
     "metadata": {},
     "output_type": "execute_result"
    },
    {
     "data": {
      "image/png": "[encoded data removed]",
      "text/plain": [
       "<Figure size 432x288 with 1 Axes>"
      ]
     },
     "metadata": {
      "needs_background": "light"
     },
     "output_type": "display_data"
    }
   ],
   "source": [
    "output2 = conv_layer2.forward_prop(max_pool_img[:, :, 0])\n",
    "plt.imshow(output2)"
   ]
  },
  {
   "cell_type": "code",
   "execution_count": 10,
   "metadata": {},
   "outputs": [
    {
     "data": {
      "text/plain": [
       "<matplotlib.image.AxesImage at 0x7fdb7ce8fca0>"
      ]
     },
     "execution_count": 10,
     "metadata": {},
     "output_type": "execute_result"
    },
    {
     "data": {
      "image/png": "[encoded data removed]",
      "text/plain": [
       "<Figure size 432x288 with 1 Axes>"
      ]
     },
     "metadata": {
      "needs_background": "light"
     },
     "output_type": "display_data"
    }
   ],
   "source": [
    "output2 = sigmoid_layer2.sigmoid(output2)\n",
    "plt.imshow(output2)"
   ]
  },
  {
   "cell_type": "code",
   "execution_count": 11,
   "metadata": {},
   "outputs": [
    {
     "data": {
      "text/plain": [
       "<matplotlib.image.AxesImage at 0x7fdb7cefaad0>"
      ]
     },
     "execution_count": 11,
     "metadata": {},
     "output_type": "execute_result"
    },
    {
     "data": {
      "image/png": "[encoded data removed]",
      "text/plain": [
       "<Figure size 432x288 with 1 Axes>"
      ]
     },
     "metadata": {
      "needs_background": "light"
     },
     "output_type": "display_data"
    }
   ],
   "source": [
    "output2 = pool_layer2.forward_prop(output2)\n",
    "plt.imshow(output2)"
   ]
  },
  {
   "cell_type": "markdown",
   "metadata": {},
   "source": [
    "We see that the image detoriates and it would not be fiseable to use another convolutional layer for our model hence we will only use one convolutional layer."
   ]
  },
  {
   "cell_type": "markdown",
   "metadata": {},
   "source": [
    "## ANN Part \n",
    "Now since we are done with the CNN part of the project, we now move on to the ANN part in which we use the dense layer to determine the output of which class does the image belong to."
   ]
  },
  {
   "cell_type": "markdown",
   "metadata": {},
   "source": [
    "### Softmax layer\n",
    "Here we import our softmax layer which acts as a dense layer for the CNN, it performs the the flatteneing of the image and then performs the dot product with the weights and adds bias after which it implements the softmax function.\n",
    "\n",
    "It takes as input, the shape of the input image and the number of classes in the dataset."
   ]
  },
  {
   "cell_type": "code",
   "execution_count": 12,
   "metadata": {},
   "outputs": [],
   "source": [
    "softmax_layer = Softmax(max_pool_img.shape[0] * max_pool_img.shape[1] * max_pool_img.shape[2], 10)"
   ]
  },
  {
   "cell_type": "code",
   "execution_count": 13,
   "metadata": {},
   "outputs": [],
   "source": [
    "softmax_layer_output = softmax_layer.forward(max_pool_img)"
   ]
  },
  {
   "cell_type": "markdown",
   "metadata": {},
   "source": [
    "Below we can see the initial probablities which we will train with the help of backward propogation."
   ]
  },
  {
   "cell_type": "code",
   "execution_count": 14,
   "metadata": {},
   "outputs": [
    {
     "name": "stdout",
     "output_type": "stream",
     "text": [
      "[0.10332259 0.10479899 0.09850635 0.09993855 0.09926032 0.10114009\n",
      " 0.0928169  0.10337275 0.09553573 0.10130772]\n"
     ]
    }
   ],
   "source": [
    "print(softmax_layer_output)"
   ]
  },
  {
   "cell_type": "markdown",
   "metadata": {},
   "source": [
    "### Compute the loss (cross-entropy)"
   ]
  },
  {
   "cell_type": "code",
   "execution_count": 15,
   "metadata": {},
   "outputs": [],
   "source": [
    "# Compute loss (cross-entropy)\n",
    "loss = -np.log(softmax_layer_output[0])"
   ]
  },
  {
   "cell_type": "code",
   "execution_count": 16,
   "metadata": {},
   "outputs": [
    {
     "name": "stdout",
     "output_type": "stream",
     "text": [
      "2.269899199412428\n"
     ]
    }
   ],
   "source": [
    "print(loss)"
   ]
  },
  {
   "cell_type": "markdown",
   "metadata": {},
   "source": [
    "### Compute the loss accuracy\n",
    "0 if did not correctly identify, 1 if correctly identifies"
   ]
  },
  {
   "cell_type": "code",
   "execution_count": 17,
   "metadata": {},
   "outputs": [],
   "source": [
    "accuracy = 1 if np.argmax(softmax_layer_output) == 0 else 0"
   ]
  },
  {
   "cell_type": "code",
   "execution_count": 18,
   "metadata": {},
   "outputs": [
    {
     "name": "stdout",
     "output_type": "stream",
     "text": [
      "0\n"
     ]
    }
   ],
   "source": [
    "print(accuracy)"
   ]
  },
  {
   "cell_type": "markdown",
   "metadata": {},
   "source": [
    "### Initialize the gradient vector (dE_dY)"
   ]
  },
  {
   "cell_type": "code",
   "execution_count": 19,
   "metadata": {},
   "outputs": [],
   "source": [
    "gradient = np.zeros(10)\n",
    "gradient[0] = -1/softmax_layer_output[0]"
   ]
  },
  {
   "cell_type": "code",
   "execution_count": 20,
   "metadata": {},
   "outputs": [
    {
     "name": "stdout",
     "output_type": "stream",
     "text": [
      "[-9.67842517  0.          0.          0.          0.          0.\n",
      "  0.          0.          0.          0.        ]\n"
     ]
    }
   ],
   "source": [
    "print(gradient)"
   ]
  },
  {
   "cell_type": "code",
   "execution_count": 21,
   "metadata": {},
   "outputs": [
    {
     "name": "stdout",
     "output_type": "stream",
     "text": [
      "(169, 1)\n",
      "(1, 10)\n",
      "[[-0.89667741  0.10479899  0.09850635  0.09993855  0.09926032  0.10114009\n",
      "   0.0928169   0.10337275  0.09553573  0.10130772]]\n",
      "(169, 10)\n",
      "(13, 13, 1)\n"
     ]
    },
    {
     "data": {
      "text/plain": [
       "array([[[-9.78868247e-03],\n",
       "        [-7.94320131e-03],\n",
       "        [ 4.04880232e-04],\n",
       "        [ 2.11742362e-03],\n",
       "        [ 9.33368064e-03],\n",
       "        [-1.25134182e-03],\n",
       "        [-1.86150565e-03],\n",
       "        [-3.29625930e-05],\n",
       "        [ 2.31197694e-03],\n",
       "        [-5.00263503e-04],\n",
       "        [-5.98404520e-03],\n",
       "        [ 1.96879667e-03],\n",
       "        [-3.85142634e-03]],\n",
       "\n",
       "       [[ 3.57358785e-03],\n",
       "        [ 4.12894726e-03],\n",
       "        [ 2.65136156e-03],\n",
       "        [ 4.93666365e-03],\n",
       "        [-4.16575058e-03],\n",
       "        [-3.58727834e-03],\n",
       "        [-8.40775599e-03],\n",
       "        [-6.11153094e-03],\n",
       "        [ 6.42601003e-03],\n",
       "        [-4.97246774e-03],\n",
       "        [ 6.23169982e-04],\n",
       "        [ 8.17042849e-03],\n",
       "        [ 7.14765083e-03]],\n",
       "\n",
       "       [[-2.94496288e-03],\n",
       "        [-1.61661367e-03],\n",
       "        [-2.41525597e-03],\n",
       "        [ 2.23207807e-04],\n",
       "        [ 1.90660839e-04],\n",
       "        [ 4.74804508e-03],\n",
       "        [ 5.89348819e-03],\n",
       "        [ 1.17486843e-03],\n",
       "        [ 5.25050916e-03],\n",
       "        [-2.48777415e-03],\n",
       "        [ 5.22462455e-03],\n",
       "        [-1.19540791e-03],\n",
       "        [-1.90263936e-03]],\n",
       "\n",
       "       [[-5.12962681e-03],\n",
       "        [ 5.59077364e-03],\n",
       "        [-6.11846643e-04],\n",
       "        [-1.08492472e-04],\n",
       "        [-1.27639790e-02],\n",
       "        [ 9.42492850e-03],\n",
       "        [-2.65809037e-03],\n",
       "        [-7.53156637e-03],\n",
       "        [-9.05658942e-03],\n",
       "        [ 1.58708442e-02],\n",
       "        [-9.76421607e-03],\n",
       "        [ 3.39924314e-03],\n",
       "        [ 8.85201830e-05]],\n",
       "\n",
       "       [[ 5.36813475e-03],\n",
       "        [-2.43810662e-03],\n",
       "        [ 7.72737198e-04],\n",
       "        [ 1.12007254e-02],\n",
       "        [-2.99688062e-03],\n",
       "        [-1.86138578e-03],\n",
       "        [-3.33365650e-03],\n",
       "        [-2.20349486e-03],\n",
       "        [-3.04596862e-03],\n",
       "        [-6.01582658e-03],\n",
       "        [ 1.89223862e-03],\n",
       "        [-4.43204959e-03],\n",
       "        [-2.32706601e-04]],\n",
       "\n",
       "       [[ 5.10093661e-03],\n",
       "        [ 8.32165904e-04],\n",
       "        [ 5.05672869e-03],\n",
       "        [ 1.03140674e-02],\n",
       "        [-6.07983534e-03],\n",
       "        [ 6.26426940e-03],\n",
       "        [ 7.93910109e-03],\n",
       "        [-3.11035225e-03],\n",
       "        [ 6.74842486e-03],\n",
       "        [ 7.52784992e-03],\n",
       "        [-9.97137193e-03],\n",
       "        [-2.27708581e-03],\n",
       "        [ 8.87708134e-03]],\n",
       "\n",
       "       [[ 7.62667855e-03],\n",
       "        [-3.34131221e-03],\n",
       "        [-1.74745718e-03],\n",
       "        [ 2.76859172e-03],\n",
       "        [ 7.44845770e-04],\n",
       "        [ 4.67760319e-03],\n",
       "        [-3.02400923e-03],\n",
       "        [-3.66930018e-03],\n",
       "        [-1.01221755e-02],\n",
       "        [ 5.49163726e-03],\n",
       "        [-3.03640376e-03],\n",
       "        [-8.19832391e-03],\n",
       "        [-3.98011221e-03]],\n",
       "\n",
       "       [[-2.23942943e-04],\n",
       "        [-2.51155190e-03],\n",
       "        [-2.17644391e-03],\n",
       "        [-8.51614541e-04],\n",
       "        [ 1.13215499e-02],\n",
       "        [-4.55034615e-03],\n",
       "        [-6.75720236e-04],\n",
       "        [-8.87608126e-03],\n",
       "        [ 8.61055620e-03],\n",
       "        [-2.91489039e-03],\n",
       "        [ 2.72589517e-03],\n",
       "        [ 5.44558493e-03],\n",
       "        [ 5.07401104e-04]],\n",
       "\n",
       "       [[-1.08486276e-03],\n",
       "        [-1.52738318e-03],\n",
       "        [ 6.85430511e-04],\n",
       "        [-4.97947280e-03],\n",
       "        [-7.58058129e-03],\n",
       "        [ 2.28717244e-03],\n",
       "        [ 1.11791287e-02],\n",
       "        [ 1.31923504e-03],\n",
       "        [ 6.70335450e-03],\n",
       "        [ 5.98177387e-03],\n",
       "        [-7.01988942e-03],\n",
       "        [ 6.74175937e-03],\n",
       "        [-1.35010618e-04]],\n",
       "\n",
       "       [[-5.30558786e-03],\n",
       "        [ 5.98663409e-03],\n",
       "        [-9.05239276e-03],\n",
       "        [-4.53426340e-03],\n",
       "        [ 5.21304630e-04],\n",
       "        [ 7.51242002e-03],\n",
       "        [ 4.19043823e-03],\n",
       "        [-4.14791875e-03],\n",
       "        [-4.65009874e-03],\n",
       "        [ 9.42525658e-04],\n",
       "        [ 3.42688200e-03],\n",
       "        [ 5.12494889e-04],\n",
       "        [-5.45794817e-03]],\n",
       "\n",
       "       [[ 3.19566966e-03],\n",
       "        [-1.10410844e-02],\n",
       "        [ 2.62655238e-03],\n",
       "        [-7.39049373e-03],\n",
       "        [ 1.98329098e-03],\n",
       "        [-8.43211218e-03],\n",
       "        [ 7.02099281e-03],\n",
       "        [-3.61682018e-03],\n",
       "        [-3.50960457e-04],\n",
       "        [ 3.01247881e-03],\n",
       "        [ 2.70073644e-04],\n",
       "        [-7.42076774e-03],\n",
       "        [-8.70586601e-03]],\n",
       "\n",
       "       [[ 1.06575899e-02],\n",
       "        [ 9.68238100e-04],\n",
       "        [-2.10271708e-04],\n",
       "        [ 1.01032740e-03],\n",
       "        [ 1.37233057e-03],\n",
       "        [-8.18570536e-03],\n",
       "        [-1.88809558e-03],\n",
       "        [-1.26479325e-02],\n",
       "        [ 5.18320738e-03],\n",
       "        [-6.21279750e-03],\n",
       "        [ 1.37638303e-03],\n",
       "        [-6.00060933e-03],\n",
       "        [-1.01214271e-02]],\n",
       "\n",
       "       [[-4.32346825e-05],\n",
       "        [-2.69495147e-03],\n",
       "        [ 2.19875324e-03],\n",
       "        [ 4.35449194e-03],\n",
       "        [-2.02643581e-03],\n",
       "        [ 5.17280382e-03],\n",
       "        [-2.97397823e-03],\n",
       "        [ 5.67994495e-03],\n",
       "        [-8.85552785e-03],\n",
       "        [-2.44910311e-03],\n",
       "        [-1.32166250e-03],\n",
       "        [-1.36424614e-02],\n",
       "        [-8.11277445e-03]]])"
      ]
     },
     "execution_count": 21,
     "metadata": {},
     "output_type": "execute_result"
    }
   ],
   "source": [
    "softmax_layer.backward(gradient, 0.05)"
   ]
  },
  {
   "cell_type": "code",
   "execution_count": null,
   "metadata": {},
   "outputs": [],
   "source": []
  }
 ],
 "metadata": {
  "kernelspec": {
   "display_name": "Python 3 (ipykernel)",
   "language": "python",
   "name": "python3"
  },
  "language_info": {
   "codemirror_mode": {
    "name": "ipython",
    "version": 3
   },
   "file_extension": ".py",
   "mimetype": "text/x-python",
   "name": "python",
   "nbconvert_exporter": "python",
   "pygments_lexer": "ipython3",
   "version": "3.10.6"
  },
  "orig_nbformat": 4
 },
 "nbformat": 4,
 "nbformat_minor": 2
}
