{
 "cells": [
  {
   "cell_type": "markdown",
   "metadata": {},
   "source": [
    "# CNN From Scratch In Python! \n",
    "A Python notebook that shows how to implement CNN from scratch in python.\n",
    "\n",
    "A CNN can be divided into two parts:\n",
    "- The CNN Part (Convolution, Sigmoid, Maxpool)\n",
    "- The ANN Part (Flatten, Dense) \n",
    "\n",
    "Since our project deals with CNN models, we are only going to implement the CNN part."
   ]
  },
  {
   "cell_type": "markdown",
   "metadata": {},
   "source": [
    "## CNN PART "
   ]
  },
  {
   "cell_type": "markdown",
   "metadata": {},
   "source": [
    "### Importing the required libraries"
   ]
  },
  {
   "cell_type": "code",
   "execution_count": 1,
   "metadata": {},
   "outputs": [],
   "source": [
    "from dataset import mnist\n",
    "from conv import ConvolutionLayer\n",
    "from maxpool import MaxPoolingLayer\n",
    "from flatten import FlattenLayer\n",
    "from activations import Sigmoid\n",
    "from activations import Softmax\n",
    "\n",
    "import matplotlib.pyplot as plt\n",
    "import numpy as np"
   ]
  },
  {
   "cell_type": "markdown",
   "metadata": {},
   "source": [
    "### Getting the dataset"
   ]
  },
  {
   "cell_type": "code",
   "execution_count": 2,
   "metadata": {},
   "outputs": [
    {
     "name": "stdout",
     "output_type": "stream",
     "text": [
      "X Train Shape: (60000, 28, 28)\n",
      "Y Train Shape: (60000,)\n",
      "X Test Shape: (10000, 28, 28)\n",
      "Y Test Shape: (10000,)\n",
      "Image Shape: 28 28\n"
     ]
    }
   ],
   "source": [
    "\n",
    "(X_train, Y_train), (X_test, Y_test) = mnist.getData()\n",
    "\n",
    "print(\"X Train Shape: \" + str(X_train.shape))\n",
    "print(\"Y Train Shape: \" + str(Y_train.shape))\n",
    "print(\"X Test Shape: \" + str(X_test.shape))\n",
    "print(\"Y Test Shape: \" + str(Y_test.shape))\n",
    "\n",
    "testImage = X_train[1000]\n",
    "imgShape = X_train[0].shape\n",
    "print(\"Image Shape: \" + str(imgShape[0]) + \" \" + str(imgShape[1]))"
   ]
  },
  {
   "cell_type": "markdown",
   "metadata": {},
   "source": [
    "### Defining Our CNN ML Model"
   ]
  },
  {
   "cell_type": "code",
   "execution_count": 3,
   "metadata": {},
   "outputs": [],
   "source": [
    "conv_layer = ConvolutionLayer(1, 3)\n",
    "sigmoid_layer = Sigmoid\n",
    "pool_layer = MaxPoolingLayer(2)\n",
    "conv_layer2 = ConvolutionLayer(1, 2)\n",
    "sigmoid_layer2 = Sigmoid\n",
    "pool_layer2 = MaxPoolingLayer(2)"
   ]
  },
  {
   "cell_type": "markdown",
   "metadata": {},
   "source": [
    "### Displaying one image from our dataset"
   ]
  },
  {
   "cell_type": "code",
   "execution_count": 4,
   "metadata": {},
   "outputs": [
    {
     "name": "stdout",
     "output_type": "stream",
     "text": [
      "Shape Of One Train Image: (28, 28)\n"
     ]
    },
    {
     "data": {
      "text/plain": [
       "<matplotlib.image.AxesImage at 0x23dbfb27a30>"
      ]
     },
     "execution_count": 4,
     "metadata": {},
     "output_type": "execute_result"
    },
    {
     "data": {
      "image/png": "[encoded data removed]",
      "text/plain": [
       "<Figure size 432x288 with 1 Axes>"
      ]
     },
     "metadata": {
      "needs_background": "light"
     },
     "output_type": "display_data"
    }
   ],
   "source": [
    "print(\"Shape Of One Train Image: \" + str(testImage.shape))\n",
    "plt.imshow(testImage)"
   ]
  },
  {
   "cell_type": "markdown",
   "metadata": {},
   "source": [
    "### Displaying the image after passing through convolution (Feature Map)"
   ]
  },
  {
   "cell_type": "code",
   "execution_count": 5,
   "metadata": {},
   "outputs": [
    {
     "name": "stdout",
     "output_type": "stream",
     "text": [
      "Shape Of Feature Map: (26, 26, 1)\n"
     ]
    },
    {
     "data": {
      "text/plain": [
       "<matplotlib.image.AxesImage at 0x23dc1c682e0>"
      ]
     },
     "execution_count": 5,
     "metadata": {},
     "output_type": "execute_result"
    },
    {
     "data": {
      "image/png": "[encoded data removed]",
      "text/plain": [
       "<Figure size 432x288 with 1 Axes>"
      ]
     },
     "metadata": {
      "needs_background": "light"
     },
     "output_type": "display_data"
    }
   ],
   "source": [
    "retrieved_img = conv_layer.forward_prop(testImage)\n",
    "\n",
    "print(\"Shape Of Feature Map: \" + str(retrieved_img.shape))\n",
    "plt.imshow(retrieved_img[:,:,0])"
   ]
  },
  {
   "cell_type": "markdown",
   "metadata": {},
   "source": [
    "### Applying the sigmoid activation function"
   ]
  },
  {
   "cell_type": "code",
   "execution_count": 6,
   "metadata": {},
   "outputs": [
    {
     "data": {
      "text/plain": [
       "<matplotlib.image.AxesImage at 0x23dc1cbf220>"
      ]
     },
     "execution_count": 6,
     "metadata": {},
     "output_type": "execute_result"
    },
    {
     "data": {
      "image/png": "[encoded data removed]",
      "text/plain": [
       "<Figure size 432x288 with 1 Axes>"
      ]
     },
     "metadata": {
      "needs_background": "light"
     },
     "output_type": "display_data"
    }
   ],
   "source": [
    "retrieved_img = sigmoid_layer.sigmoid(retrieved_img)\n",
    "plt.imshow(retrieved_img)"
   ]
  },
  {
   "cell_type": "markdown",
   "metadata": {},
   "source": [
    "### Displaying the reduced feature map (Max Pooling)"
   ]
  },
  {
   "cell_type": "code",
   "execution_count": 7,
   "metadata": {},
   "outputs": [
    {
     "name": "stdout",
     "output_type": "stream",
     "text": [
      "Shape Of Reduced Feature Map: (13, 13, 1)\n"
     ]
    },
    {
     "data": {
      "text/plain": [
       "<matplotlib.image.AxesImage at 0x23dc1d260e0>"
      ]
     },
     "execution_count": 7,
     "metadata": {},
     "output_type": "execute_result"
    },
    {
     "data": {
      "image/png": "[encoded data removed]",
      "text/plain": [
       "<Figure size 432x288 with 1 Axes>"
      ]
     },
     "metadata": {
      "needs_background": "light"
     },
     "output_type": "display_data"
    }
   ],
   "source": [
    "max_pool_img = pool_layer.forward_prop(retrieved_img)\n",
    "print(\"Shape Of Reduced Feature Map: \" + str(max_pool_img.shape))\n",
    "plt.imshow(max_pool_img[:,:,0])"
   ]
  },
  {
   "cell_type": "markdown",
   "metadata": {},
   "source": [
    "### Testing the flatten layer"
   ]
  },
  {
   "cell_type": "code",
   "execution_count": 8,
   "metadata": {},
   "outputs": [
    {
     "name": "stdout",
     "output_type": "stream",
     "text": [
      "Shape of flattened image: (169,)\n",
      "It should be equal to: 169\n"
     ]
    }
   ],
   "source": [
    "flattened_image = FlattenLayer.forward(max_pool_img)\n",
    "print(\"Shape of flattened image: \" + str(flattened_image.shape))\n",
    "print(\"It should be equal to: \" + str(max_pool_img.shape[0] * max_pool_img.shape[1] * max_pool_img.shape[2]))"
   ]
  },
  {
   "cell_type": "markdown",
   "metadata": {},
   "source": [
    "### Apply another CNN layer"
   ]
  },
  {
   "cell_type": "code",
   "execution_count": 9,
   "metadata": {},
   "outputs": [
    {
     "data": {
      "text/plain": [
       "<matplotlib.image.AxesImage at 0x23dc1c913f0>"
      ]
     },
     "execution_count": 9,
     "metadata": {},
     "output_type": "execute_result"
    },
    {
     "data": {
      "image/png": "[encoded data removed]",
      "text/plain": [
       "<Figure size 432x288 with 1 Axes>"
      ]
     },
     "metadata": {
      "needs_background": "light"
     },
     "output_type": "display_data"
    }
   ],
   "source": [
    "output2 = conv_layer2.forward_prop(max_pool_img[:, :, 0])\n",
    "plt.imshow(output2)"
   ]
  },
  {
   "cell_type": "code",
   "execution_count": 10,
   "metadata": {},
   "outputs": [
    {
     "data": {
      "text/plain": [
       "<matplotlib.image.AxesImage at 0x23dc1e04820>"
      ]
     },
     "execution_count": 10,
     "metadata": {},
     "output_type": "execute_result"
    },
    {
     "data": {
      "image/png": "[encoded data removed]",
      "text/plain": [
       "<Figure size 432x288 with 1 Axes>"
      ]
     },
     "metadata": {
      "needs_background": "light"
     },
     "output_type": "display_data"
    }
   ],
   "source": [
    "output2 = sigmoid_layer2.sigmoid(output2)\n",
    "plt.imshow(output2)"
   ]
  },
  {
   "cell_type": "code",
   "execution_count": 11,
   "metadata": {},
   "outputs": [
    {
     "data": {
      "text/plain": [
       "<matplotlib.image.AxesImage at 0x23dc1e4f5b0>"
      ]
     },
     "execution_count": 11,
     "metadata": {},
     "output_type": "execute_result"
    },
    {
     "data": {
      "image/png": "[encoded data removed]",
      "text/plain": [
       "<Figure size 432x288 with 1 Axes>"
      ]
     },
     "metadata": {
      "needs_background": "light"
     },
     "output_type": "display_data"
    }
   ],
   "source": [
    "output2 = pool_layer2.forward_prop(output2)\n",
    "plt.imshow(output2)"
   ]
  },
  {
   "cell_type": "markdown",
   "metadata": {},
   "source": [
    "We see that the image detoriates and it would not be fiseable to use another convolutional layer for our model hence we will only use one convolutional layer."
   ]
  },
  {
   "cell_type": "markdown",
   "metadata": {},
   "source": [
    "## ANN Part \n",
    "Now since we are done with the CNN part of the project, we now move on to the ANN part in which we use the dense layer to determine the output of which class does the image belong to."
   ]
  },
  {
   "cell_type": "markdown",
   "metadata": {},
   "source": [
    "### Softmax layer\n",
    "Here we import our softmax layer which acts as a dense layer for the CNN, it performs the the flatteneing of the image and then performs the dot product with the weights and adds bias after which it implements the softmax function.\n",
    "\n",
    "It takes as input, the shape of the input image and the number of classes in the dataset."
   ]
  },
  {
   "cell_type": "code",
   "execution_count": 12,
   "metadata": {},
   "outputs": [],
   "source": [
    "softmax_layer = Softmax(max_pool_img.shape[0] * max_pool_img.shape[1] * max_pool_img.shape[2], 10)"
   ]
  },
  {
   "cell_type": "code",
   "execution_count": 13,
   "metadata": {},
   "outputs": [],
   "source": [
    "softmax_layer_output = softmax_layer.forward(max_pool_img)"
   ]
  },
  {
   "cell_type": "markdown",
   "metadata": {},
   "source": [
    "Below we can see the initial probablities which we will train with the help of backward propogation."
   ]
  },
  {
   "cell_type": "code",
   "execution_count": 14,
   "metadata": {},
   "outputs": [
    {
     "name": "stdout",
     "output_type": "stream",
     "text": [
      "[0.09320253 0.10298949 0.09672953 0.09459941 0.09984765 0.10774788\n",
      " 0.09959994 0.09768566 0.10333947 0.10425844]\n"
     ]
    }
   ],
   "source": [
    "print(softmax_layer_output)"
   ]
  },
  {
   "cell_type": "markdown",
   "metadata": {},
   "source": [
    "### Compute the loss (cross-entropy)"
   ]
  },
  {
   "cell_type": "code",
   "execution_count": 15,
   "metadata": {},
   "outputs": [],
   "source": [
    "# Compute loss (cross-entropy)\n",
    "loss = -np.log(softmax_layer_output[0])"
   ]
  },
  {
   "cell_type": "code",
   "execution_count": 16,
   "metadata": {},
   "outputs": [
    {
     "name": "stdout",
     "output_type": "stream",
     "text": [
      "2.3729803687086592\n"
     ]
    }
   ],
   "source": [
    "print(loss)"
   ]
  },
  {
   "cell_type": "markdown",
   "metadata": {},
   "source": [
    "### Compute the loss accuracy\n",
    "0 if did not correctly identify, 1 if correctly identifies"
   ]
  },
  {
   "cell_type": "code",
   "execution_count": 17,
   "metadata": {},
   "outputs": [],
   "source": [
    "accuracy = 1 if np.argmax(softmax_layer_output) == 0 else 0"
   ]
  },
  {
   "cell_type": "code",
   "execution_count": 18,
   "metadata": {},
   "outputs": [
    {
     "name": "stdout",
     "output_type": "stream",
     "text": [
      "0\n"
     ]
    }
   ],
   "source": [
    "print(accuracy)"
   ]
  },
  {
   "cell_type": "markdown",
   "metadata": {},
   "source": [
    "### Initialize the gradient vector (dE_dY)"
   ]
  },
  {
   "cell_type": "code",
   "execution_count": 19,
   "metadata": {},
   "outputs": [],
   "source": [
    "gradient = np.zeros(10)\n",
    "gradient[0] = -1/softmax_layer_output[0]"
   ]
  },
  {
   "cell_type": "code",
   "execution_count": 20,
   "metadata": {},
   "outputs": [
    {
     "name": "stdout",
     "output_type": "stream",
     "text": [
      "[-10.72932201   0.           0.           0.           0.\n",
      "   0.           0.           0.           0.           0.        ]\n"
     ]
    }
   ],
   "source": [
    "print(gradient)"
   ]
  },
  {
   "cell_type": "markdown",
   "metadata": {},
   "source": [
    "### Retrieve the values of the gradient from the softmax layer"
   ]
  },
  {
   "cell_type": "code",
   "execution_count": 21,
   "metadata": {},
   "outputs": [
    {
     "name": "stdout",
     "output_type": "stream",
     "text": [
      "(13, 13, 1)\n"
     ]
    }
   ],
   "source": [
    "softmax_error = softmax_layer.backward(gradient, 0.05)"
   ]
  },
  {
   "cell_type": "code",
   "execution_count": 23,
   "metadata": {},
   "outputs": [
    {
     "data": {
      "text/plain": [
       "array([[[ 1.29996343e-02],\n",
       "        [ 1.14810879e-03],\n",
       "        [ 7.46686493e-03],\n",
       "        [-1.09438969e-03],\n",
       "        [ 2.74030028e-04],\n",
       "        [-2.47468997e-03],\n",
       "        [ 5.73292710e-03],\n",
       "        [-9.90466916e-03],\n",
       "        [ 6.63336476e-03],\n",
       "        [ 3.31780314e-03],\n",
       "        [-8.87459972e-03],\n",
       "        [ 5.48119078e-03],\n",
       "        [-5.11589247e-04]],\n",
       "\n",
       "       [[ 7.61211430e-04],\n",
       "        [-1.02147881e-02],\n",
       "        [ 2.42896266e-03],\n",
       "        [ 1.30742500e-03],\n",
       "        [-1.20295665e-02],\n",
       "        [ 1.33425679e-03],\n",
       "        [-4.76549369e-03],\n",
       "        [ 2.29730587e-03],\n",
       "        [-1.06751404e-02],\n",
       "        [ 7.23405078e-03],\n",
       "        [-1.14807832e-02],\n",
       "        [ 9.84226424e-03],\n",
       "        [-7.32652094e-03]],\n",
       "\n",
       "       [[ 5.58070987e-03],\n",
       "        [-4.03708243e-03],\n",
       "        [ 1.04034059e-03],\n",
       "        [-1.06533811e-02],\n",
       "        [-5.34850979e-03],\n",
       "        [ 4.22963987e-03],\n",
       "        [ 5.18022228e-03],\n",
       "        [ 1.04973502e-02],\n",
       "        [ 5.53195903e-03],\n",
       "        [ 3.79910709e-03],\n",
       "        [ 9.43374657e-03],\n",
       "        [-1.12722721e-02],\n",
       "        [ 6.09839498e-03]],\n",
       "\n",
       "       [[-2.25881709e-04],\n",
       "        [-1.44302974e-03],\n",
       "        [-8.60347532e-04],\n",
       "        [ 1.38152645e-02],\n",
       "        [ 2.24607278e-03],\n",
       "        [-1.33604845e-03],\n",
       "        [-4.33353161e-03],\n",
       "        [-7.01962906e-03],\n",
       "        [-7.69687561e-03],\n",
       "        [ 4.07029034e-03],\n",
       "        [-6.98867989e-03],\n",
       "        [-4.38402080e-03],\n",
       "        [ 3.40229361e-03]],\n",
       "\n",
       "       [[ 1.82297253e-03],\n",
       "        [ 1.28411669e-02],\n",
       "        [ 8.73586095e-04],\n",
       "        [ 1.28537436e-04],\n",
       "        [ 7.92630374e-03],\n",
       "        [ 2.93290636e-03],\n",
       "        [ 1.08801225e-02],\n",
       "        [-8.32785031e-04],\n",
       "        [-6.97150443e-04],\n",
       "        [ 1.86785801e-03],\n",
       "        [ 6.38263758e-03],\n",
       "        [-1.53031120e-03],\n",
       "        [ 8.88732634e-03]],\n",
       "\n",
       "       [[ 3.51603371e-03],\n",
       "        [-2.59685192e-03],\n",
       "        [ 9.55066514e-03],\n",
       "        [ 1.30020801e-03],\n",
       "        [-2.04936447e-03],\n",
       "        [ 5.89075094e-03],\n",
       "        [ 5.81822223e-03],\n",
       "        [ 4.25420456e-04],\n",
       "        [ 4.18673803e-03],\n",
       "        [ 9.01061355e-03],\n",
       "        [-1.28461326e-04],\n",
       "        [-1.61922252e-03],\n",
       "        [-3.00635850e-05]],\n",
       "\n",
       "       [[-2.90404630e-03],\n",
       "        [ 1.11515261e-03],\n",
       "        [ 2.86544750e-03],\n",
       "        [ 4.32777816e-03],\n",
       "        [ 7.31446684e-03],\n",
       "        [-5.21217077e-03],\n",
       "        [-5.44050423e-03],\n",
       "        [-3.23694328e-03],\n",
       "        [-3.20883164e-03],\n",
       "        [ 6.82464814e-03],\n",
       "        [ 8.70550467e-03],\n",
       "        [-8.60448298e-04],\n",
       "        [-1.51588842e-03]],\n",
       "\n",
       "       [[ 6.69205439e-03],\n",
       "        [ 1.96347153e-03],\n",
       "        [-1.40691237e-03],\n",
       "        [ 3.35556957e-03],\n",
       "        [ 1.05941233e-02],\n",
       "        [ 1.42611539e-03],\n",
       "        [-3.44927818e-03],\n",
       "        [ 4.09805934e-03],\n",
       "        [ 9.95958237e-03],\n",
       "        [-1.01046397e-02],\n",
       "        [ 3.35839428e-03],\n",
       "        [ 7.56249429e-03],\n",
       "        [-7.02639225e-03]],\n",
       "\n",
       "       [[ 2.81680760e-03],\n",
       "        [-4.75006199e-03],\n",
       "        [-1.58327295e-03],\n",
       "        [-6.75648164e-03],\n",
       "        [-1.12009565e-02],\n",
       "        [ 2.77793085e-03],\n",
       "        [-4.69507017e-03],\n",
       "        [ 1.27490753e-02],\n",
       "        [-6.36955489e-03],\n",
       "        [-4.50157138e-03],\n",
       "        [-1.06672055e-02],\n",
       "        [ 2.38357261e-04],\n",
       "        [ 5.40815849e-04]],\n",
       "\n",
       "       [[ 1.22375038e-02],\n",
       "        [ 1.67889022e-03],\n",
       "        [-6.01469911e-03],\n",
       "        [ 2.25717583e-03],\n",
       "        [-5.93718476e-04],\n",
       "        [-9.03692304e-03],\n",
       "        [ 1.01409399e-02],\n",
       "        [-2.42200920e-03],\n",
       "        [-2.49836126e-03],\n",
       "        [ 8.03842672e-03],\n",
       "        [ 2.66371321e-04],\n",
       "        [ 1.00960824e-03],\n",
       "        [ 5.16870005e-03]],\n",
       "\n",
       "       [[-1.04273752e-02],\n",
       "        [-4.45718987e-03],\n",
       "        [-8.37218158e-03],\n",
       "        [-7.72047522e-03],\n",
       "        [ 1.12266435e-02],\n",
       "        [ 7.64272377e-03],\n",
       "        [ 9.14319932e-03],\n",
       "        [-6.95128316e-04],\n",
       "        [ 9.75400791e-03],\n",
       "        [ 1.84433727e-03],\n",
       "        [-2.19770709e-03],\n",
       "        [ 9.17905149e-04],\n",
       "        [ 6.00604888e-03]],\n",
       "\n",
       "       [[-9.76533328e-03],\n",
       "        [-3.93421690e-03],\n",
       "        [ 1.08982837e-02],\n",
       "        [ 5.58985791e-03],\n",
       "        [-6.10647708e-03],\n",
       "        [ 1.38999009e-02],\n",
       "        [ 9.30931939e-04],\n",
       "        [-6.75556351e-03],\n",
       "        [-7.61410631e-04],\n",
       "        [-3.48694911e-04],\n",
       "        [-7.66289110e-03],\n",
       "        [ 6.34721711e-03],\n",
       "        [ 1.58004464e-03]],\n",
       "\n",
       "       [[-4.70158010e-03],\n",
       "        [-1.88513311e-03],\n",
       "        [-4.41803531e-03],\n",
       "        [-2.66593871e-03],\n",
       "        [ 7.93609720e-04],\n",
       "        [ 5.02298840e-03],\n",
       "        [ 7.18802252e-04],\n",
       "        [ 2.46654926e-03],\n",
       "        [ 6.45029222e-04],\n",
       "        [-4.47373275e-03],\n",
       "        [ 4.47855113e-03],\n",
       "        [ 3.88239586e-04],\n",
       "        [ 4.70587975e-03]]])"
      ]
     },
     "execution_count": 23,
     "metadata": {},
     "output_type": "execute_result"
    }
   ],
   "source": [
    "softmax_error"
   ]
  },
  {
   "cell_type": "markdown",
   "metadata": {},
   "source": [
    "### Retrieve the values of the gradient from the maxpool layer"
   ]
  },
  {
   "cell_type": "code",
   "execution_count": 22,
   "metadata": {},
   "outputs": [
    {
     "name": "stdout",
     "output_type": "stream",
     "text": [
      "(26, 26, 1)\n"
     ]
    }
   ],
   "source": [
    "maxpool_error = pool_layer.back_prop(softmax_error)"
   ]
  },
  {
   "cell_type": "code",
   "execution_count": 32,
   "metadata": {},
   "outputs": [
    {
     "data": {
      "text/plain": [
       "array([[[ 1.29996343e-02],\n",
       "        [ 1.29996343e-02],\n",
       "        [ 1.14810879e-03],\n",
       "        [ 1.14810879e-03],\n",
       "        [ 7.46686493e-03],\n",
       "        [ 7.46686493e-03],\n",
       "        [-1.09438969e-03],\n",
       "        [-1.09438969e-03],\n",
       "        [ 2.74030028e-04],\n",
       "        [ 2.74030028e-04],\n",
       "        [-2.47468997e-03],\n",
       "        [-2.47468997e-03],\n",
       "        [ 5.73292710e-03],\n",
       "        [ 5.73292710e-03],\n",
       "        [-9.90466916e-03],\n",
       "        [-9.90466916e-03],\n",
       "        [ 6.63336476e-03],\n",
       "        [ 6.63336476e-03],\n",
       "        [ 3.31780314e-03],\n",
       "        [ 3.31780314e-03],\n",
       "        [-8.87459972e-03],\n",
       "        [-8.87459972e-03],\n",
       "        [ 5.48119078e-03],\n",
       "        [ 5.48119078e-03],\n",
       "        [-5.11589247e-04],\n",
       "        [-5.11589247e-04]],\n",
       "\n",
       "       [[ 1.29996343e-02],\n",
       "        [ 1.29996343e-02],\n",
       "        [ 1.14810879e-03],\n",
       "        [ 1.14810879e-03],\n",
       "        [ 7.46686493e-03],\n",
       "        [ 7.46686493e-03],\n",
       "        [-1.09438969e-03],\n",
       "        [-1.09438969e-03],\n",
       "        [ 2.74030028e-04],\n",
       "        [ 2.74030028e-04],\n",
       "        [-2.47468997e-03],\n",
       "        [-2.47468997e-03],\n",
       "        [ 5.73292710e-03],\n",
       "        [ 5.73292710e-03],\n",
       "        [-9.90466916e-03],\n",
       "        [-9.90466916e-03],\n",
       "        [ 6.63336476e-03],\n",
       "        [ 6.63336476e-03],\n",
       "        [ 3.31780314e-03],\n",
       "        [ 3.31780314e-03],\n",
       "        [-8.87459972e-03],\n",
       "        [-8.87459972e-03],\n",
       "        [ 5.48119078e-03],\n",
       "        [ 5.48119078e-03],\n",
       "        [-5.11589247e-04],\n",
       "        [-5.11589247e-04]],\n",
       "\n",
       "       [[ 7.61211430e-04],\n",
       "        [ 7.61211430e-04],\n",
       "        [-1.02147881e-02],\n",
       "        [-1.02147881e-02],\n",
       "        [ 2.42896266e-03],\n",
       "        [ 2.42896266e-03],\n",
       "        [ 1.30742500e-03],\n",
       "        [ 1.30742500e-03],\n",
       "        [-1.20295665e-02],\n",
       "        [-1.20295665e-02],\n",
       "        [ 1.33425679e-03],\n",
       "        [ 1.33425679e-03],\n",
       "        [ 0.00000000e+00],\n",
       "        [ 0.00000000e+00],\n",
       "        [ 0.00000000e+00],\n",
       "        [ 0.00000000e+00],\n",
       "        [ 0.00000000e+00],\n",
       "        [ 0.00000000e+00],\n",
       "        [ 0.00000000e+00],\n",
       "        [ 0.00000000e+00],\n",
       "        [ 0.00000000e+00],\n",
       "        [ 0.00000000e+00],\n",
       "        [ 9.84226424e-03],\n",
       "        [ 9.84226424e-03],\n",
       "        [-7.32652094e-03],\n",
       "        [-7.32652094e-03]],\n",
       "\n",
       "       [[ 7.61211430e-04],\n",
       "        [ 7.61211430e-04],\n",
       "        [-1.02147881e-02],\n",
       "        [-1.02147881e-02],\n",
       "        [ 2.42896266e-03],\n",
       "        [ 2.42896266e-03],\n",
       "        [ 1.30742500e-03],\n",
       "        [ 1.30742500e-03],\n",
       "        [-1.20295665e-02],\n",
       "        [-1.20295665e-02],\n",
       "        [ 1.33425679e-03],\n",
       "        [ 1.33425679e-03],\n",
       "        [ 0.00000000e+00],\n",
       "        [-4.76549369e-03],\n",
       "        [ 2.29730587e-03],\n",
       "        [ 0.00000000e+00],\n",
       "        [-1.06751404e-02],\n",
       "        [ 0.00000000e+00],\n",
       "        [ 0.00000000e+00],\n",
       "        [ 7.23405078e-03],\n",
       "        [-1.14807832e-02],\n",
       "        [ 0.00000000e+00],\n",
       "        [ 9.84226424e-03],\n",
       "        [ 9.84226424e-03],\n",
       "        [-7.32652094e-03],\n",
       "        [-7.32652094e-03]],\n",
       "\n",
       "       [[ 5.58070987e-03],\n",
       "        [ 5.58070987e-03],\n",
       "        [-4.03708243e-03],\n",
       "        [-4.03708243e-03],\n",
       "        [ 1.04034059e-03],\n",
       "        [ 1.04034059e-03],\n",
       "        [-1.06533811e-02],\n",
       "        [-1.06533811e-02],\n",
       "        [ 0.00000000e+00],\n",
       "        [ 0.00000000e+00],\n",
       "        [ 0.00000000e+00],\n",
       "        [ 0.00000000e+00],\n",
       "        [ 0.00000000e+00],\n",
       "        [ 0.00000000e+00],\n",
       "        [ 0.00000000e+00],\n",
       "        [ 0.00000000e+00],\n",
       "        [ 0.00000000e+00],\n",
       "        [ 0.00000000e+00],\n",
       "        [ 0.00000000e+00],\n",
       "        [ 0.00000000e+00],\n",
       "        [ 0.00000000e+00],\n",
       "        [ 0.00000000e+00],\n",
       "        [-1.12722721e-02],\n",
       "        [-1.12722721e-02],\n",
       "        [ 6.09839498e-03],\n",
       "        [ 6.09839498e-03]],\n",
       "\n",
       "       [[ 5.58070987e-03],\n",
       "        [ 5.58070987e-03],\n",
       "        [-4.03708243e-03],\n",
       "        [-4.03708243e-03],\n",
       "        [ 1.04034059e-03],\n",
       "        [ 1.04034059e-03],\n",
       "        [-1.06533811e-02],\n",
       "        [-1.06533811e-02],\n",
       "        [ 0.00000000e+00],\n",
       "        [-5.34850979e-03],\n",
       "        [ 0.00000000e+00],\n",
       "        [ 4.22963987e-03],\n",
       "        [ 0.00000000e+00],\n",
       "        [ 5.18022228e-03],\n",
       "        [ 0.00000000e+00],\n",
       "        [ 1.04973502e-02],\n",
       "        [ 5.53195903e-03],\n",
       "        [ 0.00000000e+00],\n",
       "        [ 3.79910709e-03],\n",
       "        [ 0.00000000e+00],\n",
       "        [ 9.43374657e-03],\n",
       "        [ 0.00000000e+00],\n",
       "        [-1.12722721e-02],\n",
       "        [-1.12722721e-02],\n",
       "        [ 6.09839498e-03],\n",
       "        [ 6.09839498e-03]],\n",
       "\n",
       "       [[-2.25881709e-04],\n",
       "        [-2.25881709e-04],\n",
       "        [-1.44302974e-03],\n",
       "        [-1.44302974e-03],\n",
       "        [-8.60347532e-04],\n",
       "        [-8.60347532e-04],\n",
       "        [ 0.00000000e+00],\n",
       "        [ 0.00000000e+00],\n",
       "        [ 0.00000000e+00],\n",
       "        [ 0.00000000e+00],\n",
       "        [ 0.00000000e+00],\n",
       "        [ 0.00000000e+00],\n",
       "        [ 0.00000000e+00],\n",
       "        [-4.33353161e-03],\n",
       "        [-7.01962906e-03],\n",
       "        [ 0.00000000e+00],\n",
       "        [ 0.00000000e+00],\n",
       "        [ 0.00000000e+00],\n",
       "        [ 0.00000000e+00],\n",
       "        [ 0.00000000e+00],\n",
       "        [-6.98867989e-03],\n",
       "        [ 0.00000000e+00],\n",
       "        [-4.38402080e-03],\n",
       "        [-4.38402080e-03],\n",
       "        [ 3.40229361e-03],\n",
       "        [ 3.40229361e-03]],\n",
       "\n",
       "       [[-2.25881709e-04],\n",
       "        [-2.25881709e-04],\n",
       "        [-1.44302974e-03],\n",
       "        [-1.44302974e-03],\n",
       "        [-8.60347532e-04],\n",
       "        [-8.60347532e-04],\n",
       "        [ 0.00000000e+00],\n",
       "        [ 1.38152645e-02],\n",
       "        [ 0.00000000e+00],\n",
       "        [ 2.24607278e-03],\n",
       "        [ 0.00000000e+00],\n",
       "        [-1.33604845e-03],\n",
       "        [ 0.00000000e+00],\n",
       "        [ 0.00000000e+00],\n",
       "        [ 0.00000000e+00],\n",
       "        [ 0.00000000e+00],\n",
       "        [ 0.00000000e+00],\n",
       "        [-7.69687561e-03],\n",
       "        [ 4.07029034e-03],\n",
       "        [ 0.00000000e+00],\n",
       "        [ 0.00000000e+00],\n",
       "        [ 0.00000000e+00],\n",
       "        [-4.38402080e-03],\n",
       "        [-4.38402080e-03],\n",
       "        [ 3.40229361e-03],\n",
       "        [ 3.40229361e-03]],\n",
       "\n",
       "       [[ 1.82297253e-03],\n",
       "        [ 1.82297253e-03],\n",
       "        [ 1.28411669e-02],\n",
       "        [ 1.28411669e-02],\n",
       "        [ 8.73586095e-04],\n",
       "        [ 8.73586095e-04],\n",
       "        [ 0.00000000e+00],\n",
       "        [ 0.00000000e+00],\n",
       "        [ 0.00000000e+00],\n",
       "        [ 0.00000000e+00],\n",
       "        [ 2.93290636e-03],\n",
       "        [ 0.00000000e+00],\n",
       "        [ 1.08801225e-02],\n",
       "        [ 0.00000000e+00],\n",
       "        [ 0.00000000e+00],\n",
       "        [ 0.00000000e+00],\n",
       "        [ 0.00000000e+00],\n",
       "        [-6.97150443e-04],\n",
       "        [ 1.86785801e-03],\n",
       "        [ 0.00000000e+00],\n",
       "        [ 6.38263758e-03],\n",
       "        [ 0.00000000e+00],\n",
       "        [-1.53031120e-03],\n",
       "        [-1.53031120e-03],\n",
       "        [ 8.88732634e-03],\n",
       "        [ 8.88732634e-03]],\n",
       "\n",
       "       [[ 1.82297253e-03],\n",
       "        [ 1.82297253e-03],\n",
       "        [ 1.28411669e-02],\n",
       "        [ 1.28411669e-02],\n",
       "        [ 8.73586095e-04],\n",
       "        [ 8.73586095e-04],\n",
       "        [ 0.00000000e+00],\n",
       "        [ 1.28537436e-04],\n",
       "        [ 0.00000000e+00],\n",
       "        [ 7.92630374e-03],\n",
       "        [ 0.00000000e+00],\n",
       "        [ 0.00000000e+00],\n",
       "        [ 0.00000000e+00],\n",
       "        [ 0.00000000e+00],\n",
       "        [-8.32785031e-04],\n",
       "        [-8.32785031e-04],\n",
       "        [ 0.00000000e+00],\n",
       "        [ 0.00000000e+00],\n",
       "        [ 0.00000000e+00],\n",
       "        [ 0.00000000e+00],\n",
       "        [ 0.00000000e+00],\n",
       "        [ 0.00000000e+00],\n",
       "        [-1.53031120e-03],\n",
       "        [-1.53031120e-03],\n",
       "        [ 8.88732634e-03],\n",
       "        [ 8.88732634e-03]],\n",
       "\n",
       "       [[ 3.51603371e-03],\n",
       "        [ 3.51603371e-03],\n",
       "        [-2.59685192e-03],\n",
       "        [-2.59685192e-03],\n",
       "        [ 9.55066514e-03],\n",
       "        [ 9.55066514e-03],\n",
       "        [ 0.00000000e+00],\n",
       "        [ 0.00000000e+00],\n",
       "        [ 0.00000000e+00],\n",
       "        [ 0.00000000e+00],\n",
       "        [ 5.89075094e-03],\n",
       "        [ 0.00000000e+00],\n",
       "        [ 0.00000000e+00],\n",
       "        [ 5.81822223e-03],\n",
       "        [ 4.25420456e-04],\n",
       "        [ 4.25420456e-04],\n",
       "        [ 0.00000000e+00],\n",
       "        [ 0.00000000e+00],\n",
       "        [ 9.01061355e-03],\n",
       "        [ 0.00000000e+00],\n",
       "        [-1.28461326e-04],\n",
       "        [ 0.00000000e+00],\n",
       "        [-1.61922252e-03],\n",
       "        [-1.61922252e-03],\n",
       "        [-3.00635850e-05],\n",
       "        [-3.00635850e-05]],\n",
       "\n",
       "       [[ 3.51603371e-03],\n",
       "        [ 3.51603371e-03],\n",
       "        [-2.59685192e-03],\n",
       "        [-2.59685192e-03],\n",
       "        [ 9.55066514e-03],\n",
       "        [ 9.55066514e-03],\n",
       "        [ 0.00000000e+00],\n",
       "        [ 1.30020801e-03],\n",
       "        [ 0.00000000e+00],\n",
       "        [-2.04936447e-03],\n",
       "        [ 0.00000000e+00],\n",
       "        [ 0.00000000e+00],\n",
       "        [ 0.00000000e+00],\n",
       "        [ 5.81822223e-03],\n",
       "        [ 4.25420456e-04],\n",
       "        [ 4.25420456e-04],\n",
       "        [ 0.00000000e+00],\n",
       "        [ 4.18673803e-03],\n",
       "        [ 0.00000000e+00],\n",
       "        [ 0.00000000e+00],\n",
       "        [-1.28461326e-04],\n",
       "        [ 0.00000000e+00],\n",
       "        [-1.61922252e-03],\n",
       "        [-1.61922252e-03],\n",
       "        [-3.00635850e-05],\n",
       "        [-3.00635850e-05]],\n",
       "\n",
       "       [[-2.90404630e-03],\n",
       "        [-2.90404630e-03],\n",
       "        [ 1.11515261e-03],\n",
       "        [ 1.11515261e-03],\n",
       "        [ 2.86544750e-03],\n",
       "        [ 2.86544750e-03],\n",
       "        [ 0.00000000e+00],\n",
       "        [ 0.00000000e+00],\n",
       "        [ 0.00000000e+00],\n",
       "        [ 0.00000000e+00],\n",
       "        [ 0.00000000e+00],\n",
       "        [ 0.00000000e+00],\n",
       "        [-5.44050423e-03],\n",
       "        [-5.44050423e-03],\n",
       "        [-3.23694328e-03],\n",
       "        [-3.23694328e-03],\n",
       "        [ 0.00000000e+00],\n",
       "        [ 0.00000000e+00],\n",
       "        [ 0.00000000e+00],\n",
       "        [ 0.00000000e+00],\n",
       "        [ 0.00000000e+00],\n",
       "        [ 0.00000000e+00],\n",
       "        [-8.60448298e-04],\n",
       "        [-8.60448298e-04],\n",
       "        [-1.51588842e-03],\n",
       "        [-1.51588842e-03]],\n",
       "\n",
       "       [[-2.90404630e-03],\n",
       "        [-2.90404630e-03],\n",
       "        [ 1.11515261e-03],\n",
       "        [ 1.11515261e-03],\n",
       "        [ 2.86544750e-03],\n",
       "        [ 2.86544750e-03],\n",
       "        [ 0.00000000e+00],\n",
       "        [ 4.32777816e-03],\n",
       "        [ 7.31446684e-03],\n",
       "        [ 0.00000000e+00],\n",
       "        [-5.21217077e-03],\n",
       "        [ 0.00000000e+00],\n",
       "        [-5.44050423e-03],\n",
       "        [-5.44050423e-03],\n",
       "        [-3.23694328e-03],\n",
       "        [-3.23694328e-03],\n",
       "        [ 0.00000000e+00],\n",
       "        [-3.20883164e-03],\n",
       "        [ 6.82464814e-03],\n",
       "        [ 0.00000000e+00],\n",
       "        [ 8.70550467e-03],\n",
       "        [ 0.00000000e+00],\n",
       "        [-8.60448298e-04],\n",
       "        [-8.60448298e-04],\n",
       "        [-1.51588842e-03],\n",
       "        [-1.51588842e-03]],\n",
       "\n",
       "       [[ 6.69205439e-03],\n",
       "        [ 6.69205439e-03],\n",
       "        [ 1.96347153e-03],\n",
       "        [ 1.96347153e-03],\n",
       "        [-1.40691237e-03],\n",
       "        [-1.40691237e-03],\n",
       "        [ 0.00000000e+00],\n",
       "        [ 0.00000000e+00],\n",
       "        [ 0.00000000e+00],\n",
       "        [ 0.00000000e+00],\n",
       "        [ 1.42611539e-03],\n",
       "        [ 0.00000000e+00],\n",
       "        [-3.44927818e-03],\n",
       "        [-3.44927818e-03],\n",
       "        [ 0.00000000e+00],\n",
       "        [ 0.00000000e+00],\n",
       "        [ 0.00000000e+00],\n",
       "        [ 9.95958237e-03],\n",
       "        [ 0.00000000e+00],\n",
       "        [ 0.00000000e+00],\n",
       "        [ 3.35839428e-03],\n",
       "        [ 0.00000000e+00],\n",
       "        [ 7.56249429e-03],\n",
       "        [ 7.56249429e-03],\n",
       "        [-7.02639225e-03],\n",
       "        [-7.02639225e-03]],\n",
       "\n",
       "       [[ 6.69205439e-03],\n",
       "        [ 6.69205439e-03],\n",
       "        [ 1.96347153e-03],\n",
       "        [ 1.96347153e-03],\n",
       "        [-1.40691237e-03],\n",
       "        [-1.40691237e-03],\n",
       "        [ 0.00000000e+00],\n",
       "        [ 3.35556957e-03],\n",
       "        [ 1.05941233e-02],\n",
       "        [ 0.00000000e+00],\n",
       "        [ 0.00000000e+00],\n",
       "        [ 0.00000000e+00],\n",
       "        [-3.44927818e-03],\n",
       "        [-3.44927818e-03],\n",
       "        [ 0.00000000e+00],\n",
       "        [ 4.09805934e-03],\n",
       "        [ 0.00000000e+00],\n",
       "        [ 0.00000000e+00],\n",
       "        [-1.01046397e-02],\n",
       "        [ 0.00000000e+00],\n",
       "        [ 0.00000000e+00],\n",
       "        [ 0.00000000e+00],\n",
       "        [ 7.56249429e-03],\n",
       "        [ 7.56249429e-03],\n",
       "        [-7.02639225e-03],\n",
       "        [-7.02639225e-03]],\n",
       "\n",
       "       [[ 2.81680760e-03],\n",
       "        [ 2.81680760e-03],\n",
       "        [-4.75006199e-03],\n",
       "        [-4.75006199e-03],\n",
       "        [-1.58327295e-03],\n",
       "        [-1.58327295e-03],\n",
       "        [ 0.00000000e+00],\n",
       "        [-6.75648164e-03],\n",
       "        [ 0.00000000e+00],\n",
       "        [ 0.00000000e+00],\n",
       "        [ 2.77793085e-03],\n",
       "        [ 0.00000000e+00],\n",
       "        [-4.69507017e-03],\n",
       "        [-4.69507017e-03],\n",
       "        [ 0.00000000e+00],\n",
       "        [ 0.00000000e+00],\n",
       "        [ 0.00000000e+00],\n",
       "        [ 0.00000000e+00],\n",
       "        [-4.50157138e-03],\n",
       "        [ 0.00000000e+00],\n",
       "        [ 0.00000000e+00],\n",
       "        [ 0.00000000e+00],\n",
       "        [ 2.38357261e-04],\n",
       "        [ 2.38357261e-04],\n",
       "        [ 5.40815849e-04],\n",
       "        [ 5.40815849e-04]],\n",
       "\n",
       "       [[ 2.81680760e-03],\n",
       "        [ 2.81680760e-03],\n",
       "        [-4.75006199e-03],\n",
       "        [-4.75006199e-03],\n",
       "        [-1.58327295e-03],\n",
       "        [-1.58327295e-03],\n",
       "        [ 0.00000000e+00],\n",
       "        [ 0.00000000e+00],\n",
       "        [-1.12009565e-02],\n",
       "        [ 0.00000000e+00],\n",
       "        [ 0.00000000e+00],\n",
       "        [ 0.00000000e+00],\n",
       "        [-4.69507017e-03],\n",
       "        [-4.69507017e-03],\n",
       "        [ 0.00000000e+00],\n",
       "        [ 1.27490753e-02],\n",
       "        [ 0.00000000e+00],\n",
       "        [-6.36955489e-03],\n",
       "        [ 0.00000000e+00],\n",
       "        [ 0.00000000e+00],\n",
       "        [-1.06672055e-02],\n",
       "        [ 0.00000000e+00],\n",
       "        [ 2.38357261e-04],\n",
       "        [ 2.38357261e-04],\n",
       "        [ 5.40815849e-04],\n",
       "        [ 5.40815849e-04]],\n",
       "\n",
       "       [[ 1.22375038e-02],\n",
       "        [ 1.22375038e-02],\n",
       "        [ 1.67889022e-03],\n",
       "        [ 1.67889022e-03],\n",
       "        [-6.01469911e-03],\n",
       "        [-6.01469911e-03],\n",
       "        [ 0.00000000e+00],\n",
       "        [ 2.25717583e-03],\n",
       "        [ 0.00000000e+00],\n",
       "        [ 0.00000000e+00],\n",
       "        [ 0.00000000e+00],\n",
       "        [ 0.00000000e+00],\n",
       "        [ 0.00000000e+00],\n",
       "        [ 0.00000000e+00],\n",
       "        [ 0.00000000e+00],\n",
       "        [ 0.00000000e+00],\n",
       "        [ 0.00000000e+00],\n",
       "        [ 0.00000000e+00],\n",
       "        [ 8.03842672e-03],\n",
       "        [ 0.00000000e+00],\n",
       "        [ 0.00000000e+00],\n",
       "        [ 2.66371321e-04],\n",
       "        [ 1.00960824e-03],\n",
       "        [ 1.00960824e-03],\n",
       "        [ 5.16870005e-03],\n",
       "        [ 5.16870005e-03]],\n",
       "\n",
       "       [[ 1.22375038e-02],\n",
       "        [ 1.22375038e-02],\n",
       "        [ 1.67889022e-03],\n",
       "        [ 1.67889022e-03],\n",
       "        [-6.01469911e-03],\n",
       "        [-6.01469911e-03],\n",
       "        [ 0.00000000e+00],\n",
       "        [ 0.00000000e+00],\n",
       "        [-5.93718476e-04],\n",
       "        [ 0.00000000e+00],\n",
       "        [ 0.00000000e+00],\n",
       "        [-9.03692304e-03],\n",
       "        [ 0.00000000e+00],\n",
       "        [ 1.01409399e-02],\n",
       "        [ 0.00000000e+00],\n",
       "        [-2.42200920e-03],\n",
       "        [-2.49836126e-03],\n",
       "        [ 0.00000000e+00],\n",
       "        [ 0.00000000e+00],\n",
       "        [ 0.00000000e+00],\n",
       "        [ 2.66371321e-04],\n",
       "        [ 2.66371321e-04],\n",
       "        [ 1.00960824e-03],\n",
       "        [ 1.00960824e-03],\n",
       "        [ 5.16870005e-03],\n",
       "        [ 5.16870005e-03]],\n",
       "\n",
       "       [[-1.04273752e-02],\n",
       "        [-1.04273752e-02],\n",
       "        [-4.45718987e-03],\n",
       "        [-4.45718987e-03],\n",
       "        [-8.37218158e-03],\n",
       "        [-8.37218158e-03],\n",
       "        [ 0.00000000e+00],\n",
       "        [-7.72047522e-03],\n",
       "        [ 0.00000000e+00],\n",
       "        [ 0.00000000e+00],\n",
       "        [ 0.00000000e+00],\n",
       "        [ 0.00000000e+00],\n",
       "        [ 0.00000000e+00],\n",
       "        [ 0.00000000e+00],\n",
       "        [ 0.00000000e+00],\n",
       "        [ 0.00000000e+00],\n",
       "        [ 9.75400791e-03],\n",
       "        [ 0.00000000e+00],\n",
       "        [ 0.00000000e+00],\n",
       "        [ 1.84433727e-03],\n",
       "        [-2.19770709e-03],\n",
       "        [-2.19770709e-03],\n",
       "        [ 9.17905149e-04],\n",
       "        [ 9.17905149e-04],\n",
       "        [ 6.00604888e-03],\n",
       "        [ 6.00604888e-03]],\n",
       "\n",
       "       [[-1.04273752e-02],\n",
       "        [-1.04273752e-02],\n",
       "        [-4.45718987e-03],\n",
       "        [-4.45718987e-03],\n",
       "        [-8.37218158e-03],\n",
       "        [-8.37218158e-03],\n",
       "        [ 0.00000000e+00],\n",
       "        [ 0.00000000e+00],\n",
       "        [ 0.00000000e+00],\n",
       "        [ 1.12266435e-02],\n",
       "        [ 7.64272377e-03],\n",
       "        [ 0.00000000e+00],\n",
       "        [ 0.00000000e+00],\n",
       "        [ 9.14319932e-03],\n",
       "        [ 0.00000000e+00],\n",
       "        [-6.95128316e-04],\n",
       "        [ 0.00000000e+00],\n",
       "        [ 0.00000000e+00],\n",
       "        [ 0.00000000e+00],\n",
       "        [ 1.84433727e-03],\n",
       "        [-2.19770709e-03],\n",
       "        [-2.19770709e-03],\n",
       "        [ 9.17905149e-04],\n",
       "        [ 9.17905149e-04],\n",
       "        [ 6.00604888e-03],\n",
       "        [ 6.00604888e-03]],\n",
       "\n",
       "       [[-9.76533328e-03],\n",
       "        [-9.76533328e-03],\n",
       "        [-3.93421690e-03],\n",
       "        [-3.93421690e-03],\n",
       "        [ 1.08982837e-02],\n",
       "        [ 1.08982837e-02],\n",
       "        [ 0.00000000e+00],\n",
       "        [ 5.58985791e-03],\n",
       "        [ 0.00000000e+00],\n",
       "        [-6.10647708e-03],\n",
       "        [ 0.00000000e+00],\n",
       "        [ 0.00000000e+00],\n",
       "        [ 0.00000000e+00],\n",
       "        [ 9.30931939e-04],\n",
       "        [-6.75556351e-03],\n",
       "        [ 0.00000000e+00],\n",
       "        [-7.61410631e-04],\n",
       "        [ 0.00000000e+00],\n",
       "        [-3.48694911e-04],\n",
       "        [-3.48694911e-04],\n",
       "        [-7.66289110e-03],\n",
       "        [-7.66289110e-03],\n",
       "        [ 6.34721711e-03],\n",
       "        [ 6.34721711e-03],\n",
       "        [ 1.58004464e-03],\n",
       "        [ 1.58004464e-03]],\n",
       "\n",
       "       [[-9.76533328e-03],\n",
       "        [-9.76533328e-03],\n",
       "        [-3.93421690e-03],\n",
       "        [-3.93421690e-03],\n",
       "        [ 1.08982837e-02],\n",
       "        [ 1.08982837e-02],\n",
       "        [ 0.00000000e+00],\n",
       "        [ 0.00000000e+00],\n",
       "        [ 0.00000000e+00],\n",
       "        [ 0.00000000e+00],\n",
       "        [ 0.00000000e+00],\n",
       "        [ 1.38999009e-02],\n",
       "        [ 0.00000000e+00],\n",
       "        [ 0.00000000e+00],\n",
       "        [ 0.00000000e+00],\n",
       "        [ 0.00000000e+00],\n",
       "        [ 0.00000000e+00],\n",
       "        [ 0.00000000e+00],\n",
       "        [-3.48694911e-04],\n",
       "        [-3.48694911e-04],\n",
       "        [-7.66289110e-03],\n",
       "        [-7.66289110e-03],\n",
       "        [ 6.34721711e-03],\n",
       "        [ 6.34721711e-03],\n",
       "        [ 1.58004464e-03],\n",
       "        [ 1.58004464e-03]],\n",
       "\n",
       "       [[-4.70158010e-03],\n",
       "        [-4.70158010e-03],\n",
       "        [-1.88513311e-03],\n",
       "        [-1.88513311e-03],\n",
       "        [-4.41803531e-03],\n",
       "        [-4.41803531e-03],\n",
       "        [-2.66593871e-03],\n",
       "        [-2.66593871e-03],\n",
       "        [ 0.00000000e+00],\n",
       "        [ 7.93609720e-04],\n",
       "        [ 5.02298840e-03],\n",
       "        [ 0.00000000e+00],\n",
       "        [ 7.18802252e-04],\n",
       "        [ 0.00000000e+00],\n",
       "        [ 0.00000000e+00],\n",
       "        [ 0.00000000e+00],\n",
       "        [ 0.00000000e+00],\n",
       "        [ 6.45029222e-04],\n",
       "        [-4.47373275e-03],\n",
       "        [-4.47373275e-03],\n",
       "        [ 4.47855113e-03],\n",
       "        [ 4.47855113e-03],\n",
       "        [ 3.88239586e-04],\n",
       "        [ 3.88239586e-04],\n",
       "        [ 4.70587975e-03],\n",
       "        [ 4.70587975e-03]],\n",
       "\n",
       "       [[-4.70158010e-03],\n",
       "        [-4.70158010e-03],\n",
       "        [-1.88513311e-03],\n",
       "        [-1.88513311e-03],\n",
       "        [-4.41803531e-03],\n",
       "        [-4.41803531e-03],\n",
       "        [-2.66593871e-03],\n",
       "        [-2.66593871e-03],\n",
       "        [ 0.00000000e+00],\n",
       "        [ 0.00000000e+00],\n",
       "        [ 0.00000000e+00],\n",
       "        [ 0.00000000e+00],\n",
       "        [ 0.00000000e+00],\n",
       "        [ 0.00000000e+00],\n",
       "        [ 2.46654926e-03],\n",
       "        [ 2.46654926e-03],\n",
       "        [ 6.45029222e-04],\n",
       "        [ 6.45029222e-04],\n",
       "        [-4.47373275e-03],\n",
       "        [-4.47373275e-03],\n",
       "        [ 4.47855113e-03],\n",
       "        [ 4.47855113e-03],\n",
       "        [ 3.88239586e-04],\n",
       "        [ 3.88239586e-04],\n",
       "        [ 4.70587975e-03],\n",
       "        [ 4.70587975e-03]]])"
      ]
     },
     "execution_count": 32,
     "metadata": {},
     "output_type": "execute_result"
    }
   ],
   "source": [
    "maxpool_error"
   ]
  },
  {
   "cell_type": "code",
   "execution_count": null,
   "metadata": {},
   "outputs": [],
   "source": []
  }
 ],
 "metadata": {
  "kernelspec": {
   "display_name": "Python 3",
   "language": "python",
   "name": "python3"
  },
  "language_info": {
   "codemirror_mode": {
    "name": "ipython",
    "version": 3
   },
   "file_extension": ".py",
   "mimetype": "text/x-python",
   "name": "python",
   "nbconvert_exporter": "python",
   "pygments_lexer": "ipython3",
   "version": "3.10.6"
  },
  "orig_nbformat": 4
 },
 "nbformat": 4,
 "nbformat_minor": 2
}
