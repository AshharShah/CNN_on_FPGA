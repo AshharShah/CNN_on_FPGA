{
 "cells": [
  {
   "cell_type": "code",
   "execution_count": 3,
   "id": "82ffcfdd",
   "metadata": {},
   "outputs": [],
   "source": [
    "import tensorflow as tf\n",
    "from tensorflow.keras import layers, models\n",
    "import matplotlib.pyplot as plt\n",
    "import numpy as np\n",
    "from tensorflow.keras.layers.experimental import preprocessing\n",
    "from tensorflow.keras.preprocessing.image import ImageDataGenerator\n"
   ]
  },
  {
   "cell_type": "code",
   "execution_count": 11,
   "id": "48f81922",
   "metadata": {},
   "outputs": [],
   "source": [
    "train_data_dir = r'C:\\Users\\Asif_\\Desktop\\dogs-vs-cats\\train'\n",
    "test_data_dir = r'C:\\Users\\Asif_\\Desktop\\dogs-vs-cats\\test1'"
   ]
  },
  {
   "cell_type": "code",
   "execution_count": 12,
   "id": "719d87a7",
   "metadata": {},
   "outputs": [],
   "source": [
    "train_datagen = ImageDataGenerator(\n",
    "    rescale=1.0/255.0,      # Scale pixel values to the range [0, 1]\n",
    "    rotation_range=40,      # Randomly rotate images by up to 40 degrees\n",
    "    width_shift_range=0.2,  # Randomly shift images horizontally\n",
    "    height_shift_range=0.2, # Randomly shift images vertically\n",
    "    shear_range=0.2,        # Randomly apply shear transformations\n",
    "    zoom_range=0.2,         # Randomly zoom in on images\n",
    "    horizontal_flip=True,   # Randomly flip images horizontally\n",
    "    fill_mode='nearest'     # Fill in missing pixels with the nearest available pixel\n",
    ")"
   ]
  },
  {
   "cell_type": "code",
   "execution_count": 13,
   "id": "6b628b58",
   "metadata": {},
   "outputs": [],
   "source": [
    "test_datagen = ImageDataGenerator(rescale=1.0/255.0)"
   ]
  },
  {
   "cell_type": "code",
   "execution_count": 14,
   "id": "1ffcecc7",
   "metadata": {},
   "outputs": [
    {
     "name": "stdout",
     "output_type": "stream",
     "text": [
      "Found 25000 images belonging to 1 classes.\n"
     ]
    }
   ],
   "source": [
    "train_generator = train_datagen.flow_from_directory(\n",
    "    train_data_dir,\n",
    "    target_size=(150, 150),\n",
    "    batch_size=32,\n",
    "    class_mode='binary'\n",
    ")"
   ]
  },
  {
   "cell_type": "code",
   "execution_count": 15,
   "id": "254a6d43",
   "metadata": {},
   "outputs": [
    {
     "name": "stdout",
     "output_type": "stream",
     "text": [
      "Found 12500 images belonging to 1 classes.\n"
     ]
    }
   ],
   "source": [
    "test_generator = test_datagen.flow_from_directory(\n",
    "    test_data_dir,\n",
    "    target_size=(150, 150),\n",
    "    batch_size=32,\n",
    "    class_mode='binary'\n",
    ")"
   ]
  },
  {
   "cell_type": "code",
   "execution_count": 32,
   "id": "7860b6ac",
   "metadata": {},
   "outputs": [],
   "source": [
    "from tensorflow.keras import regularizers\n",
    "\n",
    "model = models.Sequential()\n",
    "\n",
    "model.add(layers.Conv2D(32, (3, 3), activation='relu', input_shape=(150, 150, 3)))\n",
    "model.add(layers.MaxPooling2D((2, 2)))\n",
    "\n",
    "model.add(layers.Conv2D(64, (3, 3), activation='relu'))\n",
    "model.add(layers.MaxPooling2D((2, 2)))\n",
    "\n",
    "model.add(layers.Conv2D(128, (3, 3), activation='relu'))\n",
    "model.add(layers.MaxPooling2D((2, 2)))\n",
    "\n",
    "model.add(layers.Conv2D(128, (3, 3), activation='relu'))\n",
    "model.add(layers.MaxPooling2D((2, 2)))\n",
    "\n",
    "model.add(layers.Flatten())\n",
    "\n",
    "# Add a dropout layer with 0.5 dropout rate\n",
    "model.add(layers.Dropout(0.5))\n",
    "\n",
    "model.add(layers.Dense(512, activation='relu', kernel_regularizer=regularizers.l2(0.01)))\n",
    "model.add(layers.Dense(1, activation='sigmoid'))\n",
    "\n",
    "# Compile the model\n",
    "model.compile(optimizer='adam',\n",
    "              loss='binary_crossentropy',\n",
    "              metrics=['accuracy'])"
   ]
  },
  {
   "cell_type": "code",
   "execution_count": 33,
   "id": "3a4640b1",
   "metadata": {},
   "outputs": [
    {
     "name": "stdout",
     "output_type": "stream",
     "text": [
      "Epoch 1/30\n",
      "200/200 [==============================] - 121s 601ms/step - loss: 0.4815 - accuracy: 0.9998 - val_loss: 0.0021 - val_accuracy: 1.0000 - lr: 0.0010\n",
      "Epoch 2/30\n"
     ]
    },
    {
     "name": "stderr",
     "output_type": "stream",
     "text": [
      "C:\\Users\\Asif_\\anaconda3\\lib\\site-packages\\keras\\src\\engine\\training.py:3000: UserWarning: You are saving your model as an HDF5 file via `model.save()`. This file format is considered legacy. We recommend using instead the native Keras format, e.g. `model.save('my_model.keras')`.\n",
      "  saving_api.save_model(\n"
     ]
    },
    {
     "name": "stdout",
     "output_type": "stream",
     "text": [
      "200/200 [==============================] - 119s 595ms/step - loss: 0.6684 - accuracy: 0.9965 - val_loss: 1.9988 - val_accuracy: 1.0000 - lr: 0.0010\n",
      "Epoch 3/30\n",
      "200/200 [==============================] - 130s 651ms/step - loss: 1.7140 - accuracy: 1.0000 - val_loss: 1.5080 - val_accuracy: 1.0000 - lr: 0.0010\n",
      "Epoch 4/30\n",
      "200/200 [==============================] - 124s 622ms/step - loss: 1.3679 - accuracy: 1.0000 - val_loss: 1.2427 - val_accuracy: 1.0000 - lr: 0.0010\n",
      "Epoch 5/30\n",
      "200/200 [==============================] - 116s 580ms/step - loss: 1.1413 - accuracy: 1.0000 - val_loss: 1.0473 - val_accuracy: 1.0000 - lr: 0.0010\n",
      "Epoch 6/30\n",
      "200/200 [==============================] - 115s 574ms/step - loss: 0.9677 - accuracy: 1.0000 - val_loss: 0.8929 - val_accuracy: 1.0000 - lr: 0.0010\n",
      "Epoch 7/30\n",
      "200/200 [==============================] - 116s 578ms/step - loss: 0.8788 - accuracy: 1.0000 - val_loss: 0.8643 - val_accuracy: 1.0000 - lr: 2.0000e-04\n",
      "Epoch 8/30\n",
      "200/200 [==============================] - 114s 571ms/step - loss: 0.8493 - accuracy: 1.0000 - val_loss: 0.8340 - val_accuracy: 1.0000 - lr: 2.0000e-04\n",
      "Epoch 9/30\n",
      "200/200 [==============================] - 116s 581ms/step - loss: 0.8182 - accuracy: 1.0000 - val_loss: 0.8022 - val_accuracy: 1.0000 - lr: 2.0000e-04\n",
      "Epoch 10/30\n",
      "200/200 [==============================] - 115s 575ms/step - loss: 0.7859 - accuracy: 1.0000 - val_loss: 0.7692 - val_accuracy: 1.0000 - lr: 2.0000e-04\n",
      "Epoch 11/30\n",
      "200/200 [==============================] - 117s 584ms/step - loss: 0.7524 - accuracy: 1.0000 - val_loss: 0.7354 - val_accuracy: 1.0000 - lr: 2.0000e-04\n"
     ]
    }
   ],
   "source": [
    "from tensorflow.keras.callbacks import ReduceLROnPlateau, EarlyStopping, ModelCheckpoint\n",
    "\n",
    "# Define learning rate schedule\n",
    "reduce_lr = ReduceLROnPlateau(monitor='val_loss', factor=0.2, patience=5, min_lr=0.0001)\n",
    "\n",
    "# Define early stopping\n",
    "early_stopping = EarlyStopping(monitor='val_loss', patience=10, restore_best_weights=True)\n",
    "\n",
    "# Define model checkpointing\n",
    "model_checkpoint = ModelCheckpoint('best_model.h5', monitor='val_accuracy', save_best_only=True)\n",
    "\n",
    "# Train the model with callbacks\n",
    "history = model.fit(\n",
    "    train_generator,\n",
    "    steps_per_epoch=200,\n",
    "    epochs=30,\n",
    "    validation_data=test_generator,\n",
    "    validation_steps=100,\n",
    "    callbacks=[reduce_lr, early_stopping, model_checkpoint]\n",
    ")"
   ]
  },
  {
   "cell_type": "code",
   "execution_count": 24,
   "id": "17e56b2d",
   "metadata": {},
   "outputs": [
    {
     "name": "stdout",
     "output_type": "stream",
     "text": [
      "Requirement already satisfied: pillow in c:\\users\\asif_\\anaconda3\\lib\\site-packages (9.0.1)\n"
     ]
    }
   ],
   "source": [
    "!pip install pillow"
   ]
  },
  {
   "cell_type": "code",
   "execution_count": 44,
   "id": "49ec152b",
   "metadata": {},
   "outputs": [
    {
     "name": "stdout",
     "output_type": "stream",
     "text": [
      "50/50 [==============================] - 6s 128ms/step - loss: 0.0021 - accuracy: 1.0000\n",
      "Test accuracy: 1.0\n",
      "1/1 [==============================] - 0s 41ms/step\n",
      "Dog\n"
     ]
    }
   ],
   "source": [
    "# Evaluate the model on the test set\n",
    "test_loss, test_accuracy = model.evaluate(test_generator, steps=50)\n",
    "print(f'Test accuracy: {test_accuracy}')\n",
    "\n",
    "# Make predictions on individual images\n",
    "# Assuming you have a test image in 'path_to_test_image'\n",
    "from tensorflow.keras.preprocessing import image\n",
    "\n",
    "img_path = r'C:\\Users\\Asif_\\Desktop\\Doggy_image\\download (1).jpeg'\n",
    "img = image.load_img(img_path, target_size=(150, 150))\n",
    "img_array = image.img_to_array(img)\n",
    "img_array = np.expand_dims(img_array, axis=0)\n",
    "prediction = model.predict(img_array)\n",
    "\n",
    "if prediction[0] > 0.5:\n",
    "    print('Cat')\n",
    "else:\n",
    "    print('Dog')"
   ]
  },
  {
   "cell_type": "code",
   "execution_count": null,
   "id": "2ad2d526",
   "metadata": {},
   "outputs": [],
   "source": []
  }
 ],
 "metadata": {
  "kernelspec": {
   "display_name": "Python 3 (ipykernel)",
   "language": "python",
   "name": "python3"
  },
  "language_info": {
   "codemirror_mode": {
    "name": "ipython",
    "version": 3
   },
   "file_extension": ".py",
   "mimetype": "text/x-python",
   "name": "python",
   "nbconvert_exporter": "python",
   "pygments_lexer": "ipython3",
   "version": "3.9.12"
  }
 },
 "nbformat": 4,
 "nbformat_minor": 5
}
