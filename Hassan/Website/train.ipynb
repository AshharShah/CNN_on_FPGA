{
 "cells": [
  {
   "cell_type": "markdown",
   "metadata": {},
   "source": [
    "# CNN From Scratch In Python! \n",
    "This notebook is used for training of the model."
   ]
  },
  {
   "cell_type": "markdown",
   "metadata": {},
   "source": [
    "### Importing the required libararies"
   ]
  },
  {
   "cell_type": "code",
   "execution_count": 1,
   "metadata": {},
   "outputs": [
    {
     "name": "stderr",
     "output_type": "stream",
     "text": [
      "2023-12-20 19:57:34.255970: I tensorflow/tsl/cuda/cudart_stub.cc:28] Could not find cuda drivers on your machine, GPU will not be used.\n",
      "2023-12-20 19:57:38.000872: E tensorflow/compiler/xla/stream_executor/cuda/cuda_dnn.cc:9342] Unable to register cuDNN factory: Attempting to register factory for plugin cuDNN when one has already been registered\n",
      "2023-12-20 19:57:38.000927: E tensorflow/compiler/xla/stream_executor/cuda/cuda_fft.cc:609] Unable to register cuFFT factory: Attempting to register factory for plugin cuFFT when one has already been registered\n",
      "2023-12-20 19:57:38.013452: E tensorflow/compiler/xla/stream_executor/cuda/cuda_blas.cc:1518] Unable to register cuBLAS factory: Attempting to register factory for plugin cuBLAS when one has already been registered\n",
      "2023-12-20 19:57:39.562766: I tensorflow/tsl/cuda/cudart_stub.cc:28] Could not find cuda drivers on your machine, GPU will not be used.\n",
      "2023-12-20 19:57:49.878886: W tensorflow/compiler/tf2tensorrt/utils/py_utils.cc:38] TF-TRT Warning: Could not find TensorRT\n"
     ]
    }
   ],
   "source": [
    "from dataset import mnist\n",
    "from conv import ConvolutionLayer\n",
    "from maxpool import MaxPoolingLayer\n",
    "from activations import Softmax\n",
    "from training import CNN_train, CNN_test, CNN_predict\n",
    "\n",
    "import numpy as np\n",
    "import matplotlib.pyplot as plt"
   ]
  },
  {
   "cell_type": "markdown",
   "metadata": {},
   "source": [
    "### Retrieveing the dataset"
   ]
  },
  {
   "cell_type": "code",
   "execution_count": 2,
   "metadata": {},
   "outputs": [],
   "source": [
    "(X_train, Y_train), (X_test, Y_test) = mnist.getData()"
   ]
  },
  {
   "cell_type": "markdown",
   "metadata": {},
   "source": [
    "### Defining the layers of our CNN architecture"
   ]
  },
  {
   "cell_type": "code",
   "execution_count": 3,
   "metadata": {},
   "outputs": [],
   "source": [
    "layers = [\n",
    "    ConvolutionLayer(1, 3),\n",
    "    MaxPoolingLayer(2),\n",
    "    Softmax(13*13*1, 10)\n",
    "]"
   ]
  },
  {
   "cell_type": "markdown",
   "metadata": {},
   "source": [
    "### Training the CNN model\n",
    "Now that we have defined the layers in our model, we will now train the models on the test data we got from the test train split function."
   ]
  },
  {
   "cell_type": "code",
   "execution_count": 4,
   "metadata": {},
   "outputs": [
    {
     "name": "stdout",
     "output_type": "stream",
     "text": [
      "Epoch 1 ->\n",
      "Step 1. For the last 1000 steps: average loss 0.0, accuracy 0\n",
      "Step 1001. For the last 1000 steps: average loss 23.146855918487717, accuracy 102\n",
      "Step 2001. For the last 1000 steps: average loss 23.167981829856814, accuracy 101\n",
      "Step 3001. For the last 1000 steps: average loss 23.153341325935934, accuracy 101\n",
      "Step 4001. For the last 1000 steps: average loss 23.17212839994585, accuracy 85\n",
      "Step 5001. For the last 1000 steps: average loss 23.147394166135943, accuracy 104\n",
      "Step 6001. For the last 1000 steps: average loss 23.12908798929621, accuracy 95\n",
      "Step 7001. For the last 1000 steps: average loss 23.17348891303821, accuracy 85\n",
      "Step 8001. For the last 1000 steps: average loss 23.111007486729576, accuracy 100\n",
      "Step 9001. For the last 1000 steps: average loss 23.00486022894813, accuracy 118\n",
      "Epoch 2 ->\n",
      "Step 1. For the last 1000 steps: average loss 0.0, accuracy 0\n",
      "Step 1001. For the last 1000 steps: average loss 22.867254529876153, accuracy 149\n",
      "Step 2001. For the last 1000 steps: average loss 22.629262817434252, accuracy 165\n",
      "Step 3001. For the last 1000 steps: average loss 22.084495969475178, accuracy 306\n",
      "Step 4001. For the last 1000 steps: average loss 21.32943951951324, accuracy 441\n",
      "Step 5001. For the last 1000 steps: average loss 19.823160180542562, accuracy 560\n",
      "Step 6001. For the last 1000 steps: average loss 17.786087872896456, accuracy 637\n",
      "Step 7001. For the last 1000 steps: average loss 15.186722697945436, accuracy 735\n",
      "Step 8001. For the last 1000 steps: average loss 13.677345101987042, accuracy 730\n",
      "Step 9001. For the last 1000 steps: average loss 11.266424733609426, accuracy 748\n",
      "Epoch 3 ->\n",
      "Step 1. For the last 1000 steps: average loss 0.0, accuracy 0\n",
      "Step 1001. For the last 1000 steps: average loss 8.46680464152186, accuracy 807\n",
      "Step 2001. For the last 1000 steps: average loss 7.501953134555061, accuracy 818\n",
      "Step 3001. For the last 1000 steps: average loss 6.296616662208323, accuracy 843\n",
      "Step 4001. For the last 1000 steps: average loss 6.08068782987957, accuracy 873\n",
      "Step 5001. For the last 1000 steps: average loss 5.701646627682191, accuracy 864\n",
      "Step 6001. For the last 1000 steps: average loss 5.389411013575987, accuracy 860\n",
      "Step 7001. For the last 1000 steps: average loss 4.724719428083358, accuracy 877\n",
      "Step 8001. For the last 1000 steps: average loss 5.735575498205225, accuracy 847\n",
      "Step 9001. For the last 1000 steps: average loss 5.604019592979529, accuracy 851\n",
      "Epoch 4 ->\n",
      "Step 1. For the last 1000 steps: average loss 0.0, accuracy 0\n",
      "Step 1001. For the last 1000 steps: average loss 4.923190844277513, accuracy 868\n",
      "Step 2001. For the last 1000 steps: average loss 4.581570815609755, accuracy 868\n",
      "Step 3001. For the last 1000 steps: average loss 3.9532895947588362, accuracy 886\n",
      "Step 4001. For the last 1000 steps: average loss 3.9572562486372207, accuracy 904\n",
      "Step 5001. For the last 1000 steps: average loss 4.130515784695401, accuracy 887\n",
      "Step 6001. For the last 1000 steps: average loss 4.03254325736477, accuracy 885\n",
      "Step 7001. For the last 1000 steps: average loss 3.5548265630713485, accuracy 894\n",
      "Step 8001. For the last 1000 steps: average loss 4.565672262311071, accuracy 879\n",
      "Step 9001. For the last 1000 steps: average loss 4.769725967790087, accuracy 866\n",
      "Epoch 5 ->\n",
      "Step 1. For the last 1000 steps: average loss 0.0, accuracy 0\n",
      "Step 1001. For the last 1000 steps: average loss 4.230239425946425, accuracy 881\n",
      "Step 2001. For the last 1000 steps: average loss 3.9397253838760924, accuracy 887\n",
      "Step 3001. For the last 1000 steps: average loss 3.356989048099656, accuracy 905\n",
      "Step 4001. For the last 1000 steps: average loss 3.347686717491468, accuracy 917\n",
      "Step 5001. For the last 1000 steps: average loss 3.6615067078768946, accuracy 891\n",
      "Step 6001. For the last 1000 steps: average loss 3.5706289595091647, accuracy 899\n",
      "Step 7001. For the last 1000 steps: average loss 3.1466740266758024, accuracy 899\n",
      "Step 8001. For the last 1000 steps: average loss 4.114231909744568, accuracy 884\n",
      "Step 9001. For the last 1000 steps: average loss 4.434294426758407, accuracy 880\n",
      "Epoch 6 ->\n",
      "Step 1. For the last 1000 steps: average loss 0.0, accuracy 0\n",
      "Step 1001. For the last 1000 steps: average loss 3.926554034301741, accuracy 886\n",
      "Step 2001. For the last 1000 steps: average loss 3.6610118110947547, accuracy 895\n",
      "Step 3001. For the last 1000 steps: average loss 3.073440313935117, accuracy 912\n",
      "Step 4001. For the last 1000 steps: average loss 3.051698738456242, accuracy 922\n",
      "Step 5001. For the last 1000 steps: average loss 3.4199332221069283, accuracy 898\n",
      "Step 6001. For the last 1000 steps: average loss 3.321656535363552, accuracy 909\n",
      "Step 7001. For the last 1000 steps: average loss 2.9348663624163844, accuracy 906\n",
      "Step 8001. For the last 1000 steps: average loss 3.865027187903572, accuracy 886\n",
      "Step 9001. For the last 1000 steps: average loss 4.240257980232112, accuracy 884\n",
      "Epoch 7 ->\n",
      "Step 1. For the last 1000 steps: average loss 0.0, accuracy 0\n",
      "Step 1001. For the last 1000 steps: average loss 3.7477522844612903, accuracy 892\n",
      "Step 2001. For the last 1000 steps: average loss 3.5008724556216686, accuracy 898\n",
      "Step 3001. For the last 1000 steps: average loss 2.899334796526672, accuracy 913\n",
      "Step 4001. For the last 1000 steps: average loss 2.8714075539132113, accuracy 925\n",
      "Step 5001. For the last 1000 steps: average loss 3.2631037265119343, accuracy 903\n",
      "Step 6001. For the last 1000 steps: average loss 3.1596441212468114, accuracy 914\n",
      "Step 7001. For the last 1000 steps: average loss 2.8039121891896235, accuracy 911\n",
      "Step 8001. For the last 1000 steps: average loss 3.700954000664658, accuracy 888\n",
      "Step 9001. For the last 1000 steps: average loss 4.106148598893765, accuracy 884\n",
      "Epoch 8 ->\n",
      "Step 1. For the last 1000 steps: average loss 0.0, accuracy 0\n",
      "Step 1001. For the last 1000 steps: average loss 3.6253363739008093, accuracy 900\n",
      "Step 2001. For the last 1000 steps: average loss 3.394064744065804, accuracy 901\n",
      "Step 3001. For the last 1000 steps: average loss 2.777607578254932, accuracy 917\n",
      "Step 4001. For the last 1000 steps: average loss 2.7466676893701414, accuracy 926\n",
      "Step 5001. For the last 1000 steps: average loss 3.149029286241092, accuracy 908\n",
      "Step 6001. For the last 1000 steps: average loss 3.043547596735489, accuracy 915\n",
      "Step 7001. For the last 1000 steps: average loss 2.7141572325818255, accuracy 915\n",
      "Step 8001. For the last 1000 steps: average loss 3.5812213561892388, accuracy 891\n",
      "Step 9001. For the last 1000 steps: average loss 4.00377050707226, accuracy 888\n",
      "Epoch 9 ->\n",
      "Step 1. For the last 1000 steps: average loss 0.0, accuracy 0\n",
      "Step 1001. For the last 1000 steps: average loss 3.5335131791491103, accuracy 902\n",
      "Step 2001. For the last 1000 steps: average loss 3.315778435042522, accuracy 902\n",
      "Step 3001. For the last 1000 steps: average loss 2.68577187819271, accuracy 920\n",
      "Step 4001. For the last 1000 steps: average loss 2.65313092038475, accuracy 929\n",
      "Step 5001. For the last 1000 steps: average loss 3.060615266293496, accuracy 912\n",
      "Step 6001. For the last 1000 steps: average loss 2.955475180732589, accuracy 922\n",
      "Step 7001. For the last 1000 steps: average loss 2.6480643578422423, accuracy 919\n",
      "Step 8001. For the last 1000 steps: average loss 3.4880572445268014, accuracy 891\n",
      "Step 9001. For the last 1000 steps: average loss 3.920759846295301, accuracy 892\n",
      "Epoch 10 ->\n",
      "Step 1. For the last 1000 steps: average loss 0.0, accuracy 0\n",
      "Step 1001. For the last 1000 steps: average loss 3.4603814826047987, accuracy 904\n",
      "Step 2001. For the last 1000 steps: average loss 3.2545806452024904, accuracy 906\n",
      "Step 3001. For the last 1000 steps: average loss 2.6129916444127197, accuracy 923\n",
      "Step 4001. For the last 1000 steps: average loss 2.5791081336670207, accuracy 931\n",
      "Step 5001. For the last 1000 steps: average loss 2.9892359009343794, accuracy 916\n",
      "Step 6001. For the last 1000 steps: average loss 2.8860184351534723, accuracy 923\n",
      "Step 7001. For the last 1000 steps: average loss 2.596682665460967, accuracy 922\n",
      "Step 8001. For the last 1000 steps: average loss 3.4124835371209805, accuracy 893\n",
      "Step 9001. For the last 1000 steps: average loss 3.8507863261814204, accuracy 896\n"
     ]
    }
   ],
   "source": [
    "for epoch in range(10):\n",
    "    print('Epoch {} ->'.format(epoch+1))\n",
    "    # Training the CNN\n",
    "    loss = 0\n",
    "    accuracy = 0\n",
    "    for i, (image, label) in enumerate(zip(X_train[0:10000], Y_train[0:10000])):\n",
    "      if i % 1000 == 0: # Every 1000 examples\n",
    "        print(\"Step {}. For the last 1000 steps: average loss {}, accuracy {}\".format(i+1, loss/100, accuracy))\n",
    "        loss = 0\n",
    "        accuracy = 0\n",
    "      loss_1, accuracy_1 = CNN_train(image, label, layers)\n",
    "      loss += loss_1\n",
    "      accuracy += accuracy_1\n",
    "      # break the for loop if the models loss is less than 0.5\n",
    "      if(loss == 0.05):\n",
    "        print(\"Step {}. For the last 1000 steps: average loss {}, accuracy {}\".format(i+1, loss/100, accuracy))\n",
    "        break"
   ]
  },
  {
   "cell_type": "markdown",
   "metadata": {},
   "source": [
    "### Testing our model\n",
    "Here we will test how our CNN model performs against the test data from the test train split."
   ]
  },
  {
   "cell_type": "code",
   "execution_count": 5,
   "metadata": {},
   "outputs": [
    {
     "name": "stdout",
     "output_type": "stream",
     "text": [
      "Step 1. For the last 1000 steps: average loss 0.0, accuracy 0\n",
      "Step 1001. For the last 1000 steps: average loss 3.6151135831927435, accuracy 887\n",
      "Step 2001. For the last 1000 steps: average loss 4.50354909748911, accuracy 863\n",
      "Step 3001. For the last 1000 steps: average loss 4.336396146384858, accuracy 876\n",
      "Step 4001. For the last 1000 steps: average loss 4.145799733869785, accuracy 882\n",
      "Step 5001. For the last 1000 steps: average loss 3.951127503596536, accuracy 894\n",
      "Step 6001. For the last 1000 steps: average loss 2.2303354536766933, accuracy 933\n",
      "Step 7001. For the last 1000 steps: average loss 3.08811191838809, accuracy 910\n",
      "Step 8001. For the last 1000 steps: average loss 2.3585601279678117, accuracy 932\n",
      "Step 9001. For the last 1000 steps: average loss 1.271532498637427, accuracy 967\n"
     ]
    }
   ],
   "source": [
    "loss = 0\n",
    "accuracy = 0\n",
    "for i, (image, label) in enumerate(zip(X_test[0:10000], Y_test[0:10000])):\n",
    "  if i % 1000 == 0: # Every 1000 examples\n",
    "    print(\"Step {}. For the last 1000 steps: average loss {}, accuracy {}\".format(i+1, loss/100, accuracy))\n",
    "    loss = 0\n",
    "    accuracy = 0\n",
    "  loss_1, accuracy_1 = CNN_test(image, label, layers)\n",
    "  loss += loss_1\n",
    "  accuracy += accuracy_1"
   ]
  },
  {
   "cell_type": "markdown",
   "metadata": {},
   "source": [
    "### Visualizing the predicitons"
   ]
  },
  {
   "cell_type": "code",
   "execution_count": 5,
   "metadata": {},
   "outputs": [
    {
     "data": {
      "text/plain": [
       "<matplotlib.image.AxesImage at 0x7f81b2245b40>"
      ]
     },
     "execution_count": 5,
     "metadata": {},
     "output_type": "execute_result"
    },
    {
     "data": {
      "image/png": "[encoded data removed]",
      "text/plain": [
       "<Figure size 640x480 with 1 Axes>"
      ]
     },
     "metadata": {},
     "output_type": "display_data"
    }
   ],
   "source": [
    "test_img = X_test[600]\n",
    "plt.imshow(test_img)"
   ]
  },
  {
   "cell_type": "code",
   "execution_count": 6,
   "metadata": {},
   "outputs": [
    {
     "name": "stdout",
     "output_type": "stream",
     "text": [
      "The models prediction: 6\n"
     ]
    }
   ],
   "source": [
    "cnn_prediction = CNN_predict(test_img, layers)\n",
    "print(\"The models prediction: \" + str(cnn_prediction))"
   ]
  },
  {
   "cell_type": "code",
   "execution_count": 26,
   "metadata": {},
   "outputs": [],
   "source": [
    "convWeights = layers[0].getKernel()"
   ]
  },
  {
   "cell_type": "code",
   "execution_count": 32,
   "metadata": {},
   "outputs": [
    {
     "name": "stdout",
     "output_type": "stream",
     "text": [
      "[[10.82310655 14.04900668 12.94255704]\n",
      " [14.36264239 17.23809272 14.7035848 ]\n",
      " [12.33595733 13.64436028 10.6148534 ]]\n"
     ]
    }
   ],
   "source": [
    "print(convWeights[0])\n",
    "np.savetxt('convWeights.txt', convWeights[0], fmt='%.8f')"
   ]
  },
  {
   "cell_type": "code",
   "execution_count": 33,
   "metadata": {},
   "outputs": [],
   "source": [
    "denseWeights = layers[2].getParams()"
   ]
  },
  {
   "cell_type": "code",
   "execution_count": 34,
   "metadata": {},
   "outputs": [
    {
     "name": "stdout",
     "output_type": "stream",
     "text": [
      "[[ 8.01053508e-03 -1.89200305e-03 -1.85310024e-03 ... -7.57742769e-03\n",
      "   7.12634503e-03 -7.26762816e-03]\n",
      " [-1.98507556e-03 -3.63137171e-03 -8.92301580e-03 ... -1.17171166e-02\n",
      "   7.92666174e-03  1.38552765e-02]\n",
      " [ 2.89037100e-04 -3.23959474e-03  1.53307673e-02 ... -4.88320152e-03\n",
      "  -8.61993495e-03 -3.30863416e-03]\n",
      " ...\n",
      " [-9.54646337e-02 -7.22884286e-02 -2.15960715e-01 ... -2.56481347e-01\n",
      "   1.27003348e-02  8.69323560e-01]\n",
      " [-1.52435365e-02 -1.74122316e-02 -7.60580747e-02 ... -1.21768545e-01\n",
      "  -2.88401365e-02  3.03309312e-01]\n",
      " [-2.73521682e-03 -1.17592438e-04  1.58185227e-02 ... -3.34695682e-03\n",
      "  -5.13511658e-03  9.89753110e-03]]\n"
     ]
    }
   ],
   "source": [
    "print(denseWeights[0])\n",
    "np.savetxt('denseWeights.txt', denseWeights[0], fmt='%.8f')"
   ]
  },
  {
   "cell_type": "code",
   "execution_count": 35,
   "metadata": {},
   "outputs": [
    {
     "name": "stdout",
     "output_type": "stream",
     "text": [
      "[-1.10577872  1.07917191  0.21027185 -0.72485517 -0.03279999  2.473824\n",
      " -0.31919598  1.7240218  -2.66897325 -0.63568645]\n"
     ]
    }
   ],
   "source": [
    "print(denseWeights[1])\n",
    "np.savetxt('denseBias.txt', denseWeights[1], fmt='%.8f')"
   ]
  },
  {
   "cell_type": "code",
   "execution_count": null,
   "metadata": {},
   "outputs": [],
   "source": []
  }
 ],
 "metadata": {
  "kernelspec": {
   "display_name": "Python 3",
   "language": "python",
   "name": "python3"
  },
  "language_info": {
   "codemirror_mode": {
    "name": "ipython",
    "version": 3
   },
   "file_extension": ".py",
   "mimetype": "text/x-python",
   "name": "python",
   "nbconvert_exporter": "python",
   "pygments_lexer": "ipython3",
   "version": "3.10.12"
  },
  "orig_nbformat": 4
 },
 "nbformat": 4,
 "nbformat_minor": 2
}
